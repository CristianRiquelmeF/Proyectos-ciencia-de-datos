{
  "nbformat": 4,
  "nbformat_minor": 0,
  "metadata": {
    "colab": {
      "provenance": [],
      "include_colab_link": true
    },
    "kernelspec": {
      "name": "python3",
      "display_name": "Python 3"
    },
    "language_info": {
      "name": "python"
    }
  },
  "cells": [
    {
      "cell_type": "markdown",
      "metadata": {
        "id": "view-in-github",
        "colab_type": "text"
      },
      "source": [
        "<a href=\"https://colab.research.google.com/github/CristianRiquelmeF/Ciencia-de-datos/blob/main/Trabajo4/XGBoost_desaf%C3%ADo_Kaggle.ipynb\" target=\"_parent\"><img src=\"https://colab.research.google.com/assets/colab-badge.svg\" alt=\"Open In Colab\"/></a>"
      ]
    },
    {
      "cell_type": "markdown",
      "source": [
        "**Presentación del proyecto y la data**\n",
        "\n",
        "Se presenta un proyecto de Machine Learning que tiene como objetivo trabajar con un conjunto de datos que contiene información detallada sobre diferentes tipos de viviendas. Este conjunto de datos incluye una amplia variedad de características, como las cualidades habitacionales, la relación con el entorno, los metros cuadrados de sótanos, el primer y segundo piso (considerando cada ocasión pertinente), el garaje y su capacidad de autos, el año de construcción, entre otros.\n",
        "\n",
        "Cada una de estas variables desempeña un papel fundamental en la evaluación del costo de una vivienda y está incluida en los datos. En total, el conjunto de datos consta de 38 variables numéricas y 43 variables categóricas que se utilizarán para llevar a cabo el análisis y la predicción de los precios de las viviendas.\n",
        "\n",
        "\n",
        "Este es un desafío bastante común para aplicar en la plataforma Kaggle, por lo que al final se guardarán los resultados para evaluar el rendimiento del modelo de Machine Learning seleccionado después del análisis.\n",
        "\n",
        "\n",
        "\n",
        "\n"
      ],
      "metadata": {
        "id": "WrecB0cOQa5Y"
      }
    },
    {
      "cell_type": "code",
      "execution_count": null,
      "metadata": {
        "id": "0wlodXSIzpdy"
      },
      "outputs": [],
      "source": [
        "# Carga de librerías\n",
        "\n",
        "import numpy as np\n",
        "import pandas as pd\n",
        "import random\n",
        "import matplotlib.pyplot as plt\n",
        "import seaborn as sns\n",
        "import plotly.express as px\n",
        "from sklearn import tree\n",
        "from sklearn.model_selection import train_test_split\n",
        "from sklearn.metrics import classification_report\n",
        "from sklearn.metrics import confusion_matrix\n",
        "from scipy.stats import norm, skew\n",
        "%matplotlib inline\n",
        "from sklearn.metrics import roc_curve, auc\n",
        "from sklearn.metrics import r2_score"
      ]
    },
    {
      "cell_type": "code",
      "source": [
        "from google.colab import drive\n",
        "drive.mount('/content/drive/')"
      ],
      "metadata": {
        "colab": {
          "base_uri": "https://localhost:8080/"
        },
        "id": "_eQKcGqxzrLb",
        "outputId": "d1173bf6-9831-4a0d-f212-d99f9c3b3cef"
      },
      "execution_count": null,
      "outputs": [
        {
          "output_type": "stream",
          "name": "stdout",
          "text": [
            "Mounted at /content/drive/\n"
          ]
        }
      ]
    },
    {
      "cell_type": "code",
      "source": [
        "# Carga de datos.\n",
        "\n",
        "train = pd.read_csv('/content/drive/MyDrive/House Prices - Advanced Regression Techniques/train.csv')\n",
        "test = pd.read_csv('/content/drive/MyDrive/House Prices - Advanced Regression Techniques/test.csv')\n",
        "sample = pd.read_csv('/content/drive/MyDrive/House Prices - Advanced Regression Techniques/sample_submission.csv')"
      ],
      "metadata": {
        "id": "JV1ccGW6zwcg"
      },
      "execution_count": null,
      "outputs": []
    },
    {
      "cell_type": "code",
      "source": [
        "train.shape , test.shape"
      ],
      "metadata": {
        "colab": {
          "base_uri": "https://localhost:8080/"
        },
        "id": "LtNpb30IOxtO",
        "outputId": "b5c01fe6-5601-47ed-b71e-6400a91cb2e8"
      },
      "execution_count": null,
      "outputs": [
        {
          "output_type": "execute_result",
          "data": {
            "text/plain": [
              "((1460, 81), (1459, 80))"
            ]
          },
          "metadata": {},
          "execution_count": 5
        }
      ]
    },
    {
      "cell_type": "markdown",
      "source": [],
      "metadata": {
        "id": "jBNxdEJoQYdQ"
      }
    },
    {
      "cell_type": "code",
      "source": [
        "# Exploración de la data 'train'.\n",
        "\n",
        "l=list()\n",
        "for v in train.columns:\n",
        "  d=dict()\n",
        "  d['var']=v\n",
        "  d['cardinalidad']=len(train[v].unique())\n",
        "  d['tipo']=train[v].dtype\n",
        "  d['nulos']=len(train[train[v].isna()])\n",
        "  if d['tipo']!='object':\n",
        "    d['mean']=train[v].mean()\n",
        "    d['max']=train[v].max()\n",
        "    d['min']=train[v].min()\n",
        "    d['zeros']=len(train[train[v]==0])/len(train)\n",
        "  d['ejemplo']=','.join([str(x) for x in random.choices(train[v].unique().tolist(), k=4)])\n",
        "  l.append(d)\n",
        "tabla_variables=pd.DataFrame(l)\n",
        "tabla_variables"
      ],
      "metadata": {
        "colab": {
          "base_uri": "https://localhost:8080/",
          "height": 424
        },
        "id": "WZiU9e0Y0Q4W",
        "outputId": "e387ffeb-fbef-4397-c739-1b651213b4ed"
      },
      "execution_count": null,
      "outputs": [
        {
          "output_type": "execute_result",
          "data": {
            "text/plain": [
              "              var  cardinalidad     tipo  nulos           mean       max  \\\n",
              "0              Id          1460    int64      0     730.500000    1460.0   \n",
              "1      MSSubClass            15    int64      0      56.897260     190.0   \n",
              "2        MSZoning             5   object      0            NaN       NaN   \n",
              "3     LotFrontage           111  float64    259      70.049958     313.0   \n",
              "4         LotArea          1073    int64      0   10516.828082  215245.0   \n",
              "..            ...           ...      ...    ...            ...       ...   \n",
              "76         MoSold            12    int64      0       6.321918      12.0   \n",
              "77         YrSold             5    int64      0    2007.815753    2010.0   \n",
              "78       SaleType             9   object      0            NaN       NaN   \n",
              "79  SaleCondition             6   object      0            NaN       NaN   \n",
              "80      SalePrice           663    int64      0  180921.195890  755000.0   \n",
              "\n",
              "        min  zeros                          ejemplo  \n",
              "0       1.0    0.0                  294,479,850,213  \n",
              "1      20.0    0.0                     90,160,20,45  \n",
              "2       NaN    NaN                      RM,RM,RL,RL  \n",
              "3      21.0    0.0             48.0,168.0,77.0,79.0  \n",
              "4    1300.0    0.0           9765,11362,11184,57200  \n",
              "..      ...    ...                              ...  \n",
              "76      1.0    0.0                         5,8,4,11  \n",
              "77   2006.0    0.0              2009,2010,2009,2010  \n",
              "78      NaN    NaN            ConLI,ConLD,COD,ConLw  \n",
              "79      NaN    NaN  Partial,AdjLand,Partial,Abnorml  \n",
              "80  34900.0    0.0       85000,150900,145000,197000  \n",
              "\n",
              "[81 rows x 9 columns]"
            ],
            "text/html": [
              "\n",
              "  <div id=\"df-1cb41b4e-ad6f-4059-a0ea-ebdfec440884\">\n",
              "    <div class=\"colab-df-container\">\n",
              "      <div>\n",
              "<style scoped>\n",
              "    .dataframe tbody tr th:only-of-type {\n",
              "        vertical-align: middle;\n",
              "    }\n",
              "\n",
              "    .dataframe tbody tr th {\n",
              "        vertical-align: top;\n",
              "    }\n",
              "\n",
              "    .dataframe thead th {\n",
              "        text-align: right;\n",
              "    }\n",
              "</style>\n",
              "<table border=\"1\" class=\"dataframe\">\n",
              "  <thead>\n",
              "    <tr style=\"text-align: right;\">\n",
              "      <th></th>\n",
              "      <th>var</th>\n",
              "      <th>cardinalidad</th>\n",
              "      <th>tipo</th>\n",
              "      <th>nulos</th>\n",
              "      <th>mean</th>\n",
              "      <th>max</th>\n",
              "      <th>min</th>\n",
              "      <th>zeros</th>\n",
              "      <th>ejemplo</th>\n",
              "    </tr>\n",
              "  </thead>\n",
              "  <tbody>\n",
              "    <tr>\n",
              "      <th>0</th>\n",
              "      <td>Id</td>\n",
              "      <td>1460</td>\n",
              "      <td>int64</td>\n",
              "      <td>0</td>\n",
              "      <td>730.500000</td>\n",
              "      <td>1460.0</td>\n",
              "      <td>1.0</td>\n",
              "      <td>0.0</td>\n",
              "      <td>294,479,850,213</td>\n",
              "    </tr>\n",
              "    <tr>\n",
              "      <th>1</th>\n",
              "      <td>MSSubClass</td>\n",
              "      <td>15</td>\n",
              "      <td>int64</td>\n",
              "      <td>0</td>\n",
              "      <td>56.897260</td>\n",
              "      <td>190.0</td>\n",
              "      <td>20.0</td>\n",
              "      <td>0.0</td>\n",
              "      <td>90,160,20,45</td>\n",
              "    </tr>\n",
              "    <tr>\n",
              "      <th>2</th>\n",
              "      <td>MSZoning</td>\n",
              "      <td>5</td>\n",
              "      <td>object</td>\n",
              "      <td>0</td>\n",
              "      <td>NaN</td>\n",
              "      <td>NaN</td>\n",
              "      <td>NaN</td>\n",
              "      <td>NaN</td>\n",
              "      <td>RM,RM,RL,RL</td>\n",
              "    </tr>\n",
              "    <tr>\n",
              "      <th>3</th>\n",
              "      <td>LotFrontage</td>\n",
              "      <td>111</td>\n",
              "      <td>float64</td>\n",
              "      <td>259</td>\n",
              "      <td>70.049958</td>\n",
              "      <td>313.0</td>\n",
              "      <td>21.0</td>\n",
              "      <td>0.0</td>\n",
              "      <td>48.0,168.0,77.0,79.0</td>\n",
              "    </tr>\n",
              "    <tr>\n",
              "      <th>4</th>\n",
              "      <td>LotArea</td>\n",
              "      <td>1073</td>\n",
              "      <td>int64</td>\n",
              "      <td>0</td>\n",
              "      <td>10516.828082</td>\n",
              "      <td>215245.0</td>\n",
              "      <td>1300.0</td>\n",
              "      <td>0.0</td>\n",
              "      <td>9765,11362,11184,57200</td>\n",
              "    </tr>\n",
              "    <tr>\n",
              "      <th>...</th>\n",
              "      <td>...</td>\n",
              "      <td>...</td>\n",
              "      <td>...</td>\n",
              "      <td>...</td>\n",
              "      <td>...</td>\n",
              "      <td>...</td>\n",
              "      <td>...</td>\n",
              "      <td>...</td>\n",
              "      <td>...</td>\n",
              "    </tr>\n",
              "    <tr>\n",
              "      <th>76</th>\n",
              "      <td>MoSold</td>\n",
              "      <td>12</td>\n",
              "      <td>int64</td>\n",
              "      <td>0</td>\n",
              "      <td>6.321918</td>\n",
              "      <td>12.0</td>\n",
              "      <td>1.0</td>\n",
              "      <td>0.0</td>\n",
              "      <td>5,8,4,11</td>\n",
              "    </tr>\n",
              "    <tr>\n",
              "      <th>77</th>\n",
              "      <td>YrSold</td>\n",
              "      <td>5</td>\n",
              "      <td>int64</td>\n",
              "      <td>0</td>\n",
              "      <td>2007.815753</td>\n",
              "      <td>2010.0</td>\n",
              "      <td>2006.0</td>\n",
              "      <td>0.0</td>\n",
              "      <td>2009,2010,2009,2010</td>\n",
              "    </tr>\n",
              "    <tr>\n",
              "      <th>78</th>\n",
              "      <td>SaleType</td>\n",
              "      <td>9</td>\n",
              "      <td>object</td>\n",
              "      <td>0</td>\n",
              "      <td>NaN</td>\n",
              "      <td>NaN</td>\n",
              "      <td>NaN</td>\n",
              "      <td>NaN</td>\n",
              "      <td>ConLI,ConLD,COD,ConLw</td>\n",
              "    </tr>\n",
              "    <tr>\n",
              "      <th>79</th>\n",
              "      <td>SaleCondition</td>\n",
              "      <td>6</td>\n",
              "      <td>object</td>\n",
              "      <td>0</td>\n",
              "      <td>NaN</td>\n",
              "      <td>NaN</td>\n",
              "      <td>NaN</td>\n",
              "      <td>NaN</td>\n",
              "      <td>Partial,AdjLand,Partial,Abnorml</td>\n",
              "    </tr>\n",
              "    <tr>\n",
              "      <th>80</th>\n",
              "      <td>SalePrice</td>\n",
              "      <td>663</td>\n",
              "      <td>int64</td>\n",
              "      <td>0</td>\n",
              "      <td>180921.195890</td>\n",
              "      <td>755000.0</td>\n",
              "      <td>34900.0</td>\n",
              "      <td>0.0</td>\n",
              "      <td>85000,150900,145000,197000</td>\n",
              "    </tr>\n",
              "  </tbody>\n",
              "</table>\n",
              "<p>81 rows × 9 columns</p>\n",
              "</div>\n",
              "      <button class=\"colab-df-convert\" onclick=\"convertToInteractive('df-1cb41b4e-ad6f-4059-a0ea-ebdfec440884')\"\n",
              "              title=\"Convert this dataframe to an interactive table.\"\n",
              "              style=\"display:none;\">\n",
              "        \n",
              "  <svg xmlns=\"http://www.w3.org/2000/svg\" height=\"24px\"viewBox=\"0 0 24 24\"\n",
              "       width=\"24px\">\n",
              "    <path d=\"M0 0h24v24H0V0z\" fill=\"none\"/>\n",
              "    <path d=\"M18.56 5.44l.94 2.06.94-2.06 2.06-.94-2.06-.94-.94-2.06-.94 2.06-2.06.94zm-11 1L8.5 8.5l.94-2.06 2.06-.94-2.06-.94L8.5 2.5l-.94 2.06-2.06.94zm10 10l.94 2.06.94-2.06 2.06-.94-2.06-.94-.94-2.06-.94 2.06-2.06.94z\"/><path d=\"M17.41 7.96l-1.37-1.37c-.4-.4-.92-.59-1.43-.59-.52 0-1.04.2-1.43.59L10.3 9.45l-7.72 7.72c-.78.78-.78 2.05 0 2.83L4 21.41c.39.39.9.59 1.41.59.51 0 1.02-.2 1.41-.59l7.78-7.78 2.81-2.81c.8-.78.8-2.07 0-2.86zM5.41 20L4 18.59l7.72-7.72 1.47 1.35L5.41 20z\"/>\n",
              "  </svg>\n",
              "      </button>\n",
              "      \n",
              "  <style>\n",
              "    .colab-df-container {\n",
              "      display:flex;\n",
              "      flex-wrap:wrap;\n",
              "      gap: 12px;\n",
              "    }\n",
              "\n",
              "    .colab-df-convert {\n",
              "      background-color: #E8F0FE;\n",
              "      border: none;\n",
              "      border-radius: 50%;\n",
              "      cursor: pointer;\n",
              "      display: none;\n",
              "      fill: #1967D2;\n",
              "      height: 32px;\n",
              "      padding: 0 0 0 0;\n",
              "      width: 32px;\n",
              "    }\n",
              "\n",
              "    .colab-df-convert:hover {\n",
              "      background-color: #E2EBFA;\n",
              "      box-shadow: 0px 1px 2px rgba(60, 64, 67, 0.3), 0px 1px 3px 1px rgba(60, 64, 67, 0.15);\n",
              "      fill: #174EA6;\n",
              "    }\n",
              "\n",
              "    [theme=dark] .colab-df-convert {\n",
              "      background-color: #3B4455;\n",
              "      fill: #D2E3FC;\n",
              "    }\n",
              "\n",
              "    [theme=dark] .colab-df-convert:hover {\n",
              "      background-color: #434B5C;\n",
              "      box-shadow: 0px 1px 3px 1px rgba(0, 0, 0, 0.15);\n",
              "      filter: drop-shadow(0px 1px 2px rgba(0, 0, 0, 0.3));\n",
              "      fill: #FFFFFF;\n",
              "    }\n",
              "  </style>\n",
              "\n",
              "      <script>\n",
              "        const buttonEl =\n",
              "          document.querySelector('#df-1cb41b4e-ad6f-4059-a0ea-ebdfec440884 button.colab-df-convert');\n",
              "        buttonEl.style.display =\n",
              "          google.colab.kernel.accessAllowed ? 'block' : 'none';\n",
              "\n",
              "        async function convertToInteractive(key) {\n",
              "          const element = document.querySelector('#df-1cb41b4e-ad6f-4059-a0ea-ebdfec440884');\n",
              "          const dataTable =\n",
              "            await google.colab.kernel.invokeFunction('convertToInteractive',\n",
              "                                                     [key], {});\n",
              "          if (!dataTable) return;\n",
              "\n",
              "          const docLinkHtml = 'Like what you see? Visit the ' +\n",
              "            '<a target=\"_blank\" href=https://colab.research.google.com/notebooks/data_table.ipynb>data table notebook</a>'\n",
              "            + ' to learn more about interactive tables.';\n",
              "          element.innerHTML = '';\n",
              "          dataTable['output_type'] = 'display_data';\n",
              "          await google.colab.output.renderOutput(dataTable, element);\n",
              "          const docLink = document.createElement('div');\n",
              "          docLink.innerHTML = docLinkHtml;\n",
              "          element.appendChild(docLink);\n",
              "        }\n",
              "      </script>\n",
              "    </div>\n",
              "  </div>\n",
              "  "
            ]
          },
          "metadata": {},
          "execution_count": 6
        }
      ]
    },
    {
      "cell_type": "code",
      "source": [
        "# Gráfica de la distribución de la varibale dependiente del modelo 'SalePrice'.\n",
        "sns.distplot(train['SalePrice']);\n",
        "# skewness and kurtosis\n",
        "print(\"Skewness: %f\" % train['SalePrice'].skew())\n",
        "print(\"Kurtosis: %f\" % train['SalePrice'].kurt())"
      ],
      "metadata": {
        "colab": {
          "base_uri": "https://localhost:8080/",
          "height": 379
        },
        "id": "fxaew8EJP5Gl",
        "outputId": "bd7963d6-bb14-4bba-8869-42069151a80a"
      },
      "execution_count": null,
      "outputs": [
        {
          "output_type": "stream",
          "name": "stderr",
          "text": [
            "/usr/local/lib/python3.7/dist-packages/seaborn/distributions.py:2619: FutureWarning: `distplot` is a deprecated function and will be removed in a future version. Please adapt your code to use either `displot` (a figure-level function with similar flexibility) or `histplot` (an axes-level function for histograms).\n",
            "  warnings.warn(msg, FutureWarning)\n"
          ]
        },
        {
          "output_type": "stream",
          "name": "stdout",
          "text": [
            "Skewness: 1.882876\n",
            "Kurtosis: 6.536282\n"
          ]
        },
        {
          "output_type": "display_data",
          "data": {
            "text/plain": [
              "<Figure size 432x288 with 1 Axes>"
            ],
            "image/png": "[encoded data removed]"
          },
          "metadata": {
            "needs_background": "light"
          }
        }
      ]
    },
    {
      "cell_type": "code",
      "source": [
        "# La variable no posee distribución normal, asimetría positiva, por lo que se aplica función logarítmica para normalizar.\n",
        "train['SalePrice'] = np.log1p(train['SalePrice'])\n",
        "sns.distplot(train['SalePrice'], fit=norm)\n",
        "\n",
        "# skewness y kurtosis\n",
        "print(\"Skewness: %f\" % train['SalePrice'].skew())\n",
        "print(\"Kurtosis: %f\" % train['SalePrice'].kurt())\n"
      ],
      "metadata": {
        "colab": {
          "base_uri": "https://localhost:8080/",
          "height": 368
        },
        "id": "QjwvmGU8P9k5",
        "outputId": "0a5bb3e7-772f-4718-afa3-c8ab2e647098"
      },
      "execution_count": null,
      "outputs": [
        {
          "output_type": "stream",
          "name": "stderr",
          "text": [
            "/usr/local/lib/python3.7/dist-packages/seaborn/distributions.py:2619: FutureWarning: `distplot` is a deprecated function and will be removed in a future version. Please adapt your code to use either `displot` (a figure-level function with similar flexibility) or `histplot` (an axes-level function for histograms).\n",
            "  warnings.warn(msg, FutureWarning)\n"
          ]
        },
        {
          "output_type": "stream",
          "name": "stdout",
          "text": [
            "Skewness: 0.121347\n",
            "Kurtosis: 0.809519\n"
          ]
        },
        {
          "output_type": "display_data",
          "data": {
            "text/plain": [
              "<Figure size 432x288 with 1 Axes>"
            ],
            "image/png": "[encoded data removed]"
          },
          "metadata": {
            "needs_background": "light"
          }
        }
      ]
    },
    {
      "cell_type": "code",
      "source": [
        "# Conteo variables numéricas y no numéricas.\n",
        "\n",
        "numeric_columns = train.select_dtypes(include=['int64','float64'])\n",
        "nc = len(numeric_columns.columns)\n",
        "non_numeric_columns = len(train.columns) - nc\n",
        "print(\"numeric columns : \" , nc ,\"\\n\",\"Not numeric columns : \",non_numeric_columns)"
      ],
      "metadata": {
        "colab": {
          "base_uri": "https://localhost:8080/"
        },
        "id": "G7j25WXrDSvI",
        "outputId": "be29dd02-0ebd-45ae-87f8-c47c9b72154b"
      },
      "execution_count": null,
      "outputs": [
        {
          "output_type": "stream",
          "name": "stdout",
          "text": [
            "numeric columns :  38 \n",
            " Not numeric columns :  43\n"
          ]
        }
      ]
    },
    {
      "cell_type": "code",
      "source": [
        "l=list()\n",
        "for v in numeric_columns.columns:\n",
        "  d=dict()\n",
        "  d['var']=v\n",
        "  d['cardinalidad']=len(numeric_columns[v].unique())\n",
        "  d['tipo']=numeric_columns[v].dtype\n",
        "  d['nulos']=len(numeric_columns[numeric_columns[v].isna()])\n",
        "  if d['tipo']!='object':\n",
        "    d['mean']=numeric_columns[v].mean()\n",
        "    d['max']=numeric_columns[v].max()\n",
        "    d['min']=numeric_columns[v].min()\n",
        "    d['zeros']=len(numeric_columns[numeric_columns[v]==0])/len(numeric_columns)\n",
        "  d['ejemplo']=','.join([str(x) for x in random.choices(numeric_columns[v].unique().tolist(), k=4)])\n",
        "  l.append(d)\n",
        "tabla_variablesnum=pd.DataFrame(l)\n",
        "tabla_variablesnum"
      ],
      "metadata": {
        "colab": {
          "base_uri": "https://localhost:8080/",
          "height": 1000
        },
        "id": "T4CvUwvlJdzQ",
        "outputId": "7b0aec16-71f7-4bfa-80a2-49fb77511210"
      },
      "execution_count": null,
      "outputs": [
        {
          "output_type": "execute_result",
          "data": {
            "text/plain": [
              "              var  cardinalidad     tipo  nulos          mean            max  \\\n",
              "0              Id          1460    int64      0    730.500000    1460.000000   \n",
              "1      MSSubClass            15    int64      0     56.897260     190.000000   \n",
              "2     LotFrontage           111  float64    259     70.049958     313.000000   \n",
              "3         LotArea          1073    int64      0  10516.828082  215245.000000   \n",
              "4     OverallQual            10    int64      0      6.099315      10.000000   \n",
              "5     OverallCond             9    int64      0      5.575342       9.000000   \n",
              "6       YearBuilt           112    int64      0   1971.267808    2010.000000   \n",
              "7    YearRemodAdd            61    int64      0   1984.865753    2010.000000   \n",
              "8      MasVnrArea           328  float64      8    103.685262    1600.000000   \n",
              "9      BsmtFinSF1           637    int64      0    443.639726    5644.000000   \n",
              "10     BsmtFinSF2           144    int64      0     46.549315    1474.000000   \n",
              "11      BsmtUnfSF           780    int64      0    567.240411    2336.000000   \n",
              "12    TotalBsmtSF           721    int64      0   1057.429452    6110.000000   \n",
              "13       1stFlrSF           753    int64      0   1162.626712    4692.000000   \n",
              "14       2ndFlrSF           417    int64      0    346.992466    2065.000000   \n",
              "15   LowQualFinSF            24    int64      0      5.844521     572.000000   \n",
              "16      GrLivArea           861    int64      0   1515.463699    5642.000000   \n",
              "17   BsmtFullBath             4    int64      0      0.425342       3.000000   \n",
              "18   BsmtHalfBath             3    int64      0      0.057534       2.000000   \n",
              "19       FullBath             4    int64      0      1.565068       3.000000   \n",
              "20       HalfBath             3    int64      0      0.382877       2.000000   \n",
              "21   BedroomAbvGr             8    int64      0      2.866438       8.000000   \n",
              "22   KitchenAbvGr             4    int64      0      1.046575       3.000000   \n",
              "23   TotRmsAbvGrd            12    int64      0      6.517808      14.000000   \n",
              "24     Fireplaces             4    int64      0      0.613014       3.000000   \n",
              "25    GarageYrBlt            98  float64     81   1978.506164    2010.000000   \n",
              "26     GarageCars             5    int64      0      1.767123       4.000000   \n",
              "27     GarageArea           441    int64      0    472.980137    1418.000000   \n",
              "28     WoodDeckSF           274    int64      0     94.244521     857.000000   \n",
              "29    OpenPorchSF           202    int64      0     46.660274     547.000000   \n",
              "30  EnclosedPorch           120    int64      0     21.954110     552.000000   \n",
              "31      3SsnPorch            20    int64      0      3.409589     508.000000   \n",
              "32    ScreenPorch            76    int64      0     15.060959     480.000000   \n",
              "33       PoolArea             8    int64      0      2.758904     738.000000   \n",
              "34        MiscVal            21    int64      0     43.489041   15500.000000   \n",
              "35         MoSold            12    int64      0      6.321918      12.000000   \n",
              "36         YrSold             5    int64      0   2007.815753    2010.000000   \n",
              "37      SalePrice           663  float64      0     12.024057      13.534474   \n",
              "\n",
              "            min     zeros                                            ejemplo  \n",
              "0      1.000000  0.000000                                  1153,364,1233,361  \n",
              "1     20.000000  0.000000                                       60,180,60,45  \n",
              "2     21.000000  0.000000                             82.0,100.0,110.0,108.0  \n",
              "3   1300.000000  0.000000                             11846,8125,11616,12416  \n",
              "4      1.000000  0.000000                                           8,6,8,10  \n",
              "5      1.000000  0.000000                                            6,1,5,3  \n",
              "6   1872.000000  0.000000                                1882,1955,1999,1995  \n",
              "7   1950.000000  0.000000                                2008,1962,1954,1959  \n",
              "8      0.000000  0.589726                             209.0,85.0,210.0,468.0  \n",
              "9      0.000000  0.319863                                    315,573,523,985  \n",
              "10     0.000000  0.885616                                    165,123,149,128  \n",
              "11     0.000000  0.080822                                    892,814,811,768  \n",
              "12     0.000000  0.025342                                 1300,1385,520,1475  \n",
              "13   334.000000  0.000000                                 1131,1976,1334,990  \n",
              "14     0.000000  0.567808                                    739,817,785,848  \n",
              "15     0.000000  0.982192                                     120,392,80,513  \n",
              "16   334.000000  0.000000                                1200,1072,2473,1112  \n",
              "17     0.000000  0.586301                                            3,2,1,0  \n",
              "18     0.000000  0.943836                                            0,2,1,1  \n",
              "19     0.000000  0.006164                                            2,2,1,3  \n",
              "20     0.000000  0.625342                                            2,0,0,0  \n",
              "21     0.000000  0.004110                                            1,5,5,0  \n",
              "22     0.000000  0.000685                                            1,2,3,3  \n",
              "23     2.000000  0.000000                                           7,2,7,14  \n",
              "24     0.000000  0.472603                                            2,0,3,3  \n",
              "25  1900.000000  0.000000                        1921.0,1975.0,1924.0,1968.0  \n",
              "26     0.000000  0.055479                                            0,0,0,3  \n",
              "27     0.000000  0.055479                                    478,324,416,683  \n",
              "28     0.000000  0.521233                                      320,48,409,56  \n",
              "29     0.000000  0.449315                                       10,64,59,205  \n",
              "30     0.000000  0.857534                                     100,168,160,96  \n",
              "31     0.000000  0.983562                                     320,23,245,180  \n",
              "32     0.000000  0.920548                                    116,322,273,185  \n",
              "33     0.000000  0.995205                                    480,576,738,512  \n",
              "34     0.000000  0.964384                                   1400,450,600,400  \n",
              "35     1.000000  0.000000                                            5,6,7,1  \n",
              "36  2006.000000  0.000000                                2006,2010,2009,2010  \n",
              "37    10.460271  0.000000  12.249615734512616,12.904209855160254,12.52198...  "
            ],
            "text/html": [
              "\n",
              "  <div id=\"df-0f2290ec-6b7d-46df-aa02-9786ab5e043d\">\n",
              "    <div class=\"colab-df-container\">\n",
              "      <div>\n",
              "<style scoped>\n",
              "    .dataframe tbody tr th:only-of-type {\n",
              "        vertical-align: middle;\n",
              "    }\n",
              "\n",
              "    .dataframe tbody tr th {\n",
              "        vertical-align: top;\n",
              "    }\n",
              "\n",
              "    .dataframe thead th {\n",
              "        text-align: right;\n",
              "    }\n",
              "</style>\n",
              "<table border=\"1\" class=\"dataframe\">\n",
              "  <thead>\n",
              "    <tr style=\"text-align: right;\">\n",
              "      <th></th>\n",
              "      <th>var</th>\n",
              "      <th>cardinalidad</th>\n",
              "      <th>tipo</th>\n",
              "      <th>nulos</th>\n",
              "      <th>mean</th>\n",
              "      <th>max</th>\n",
              "      <th>min</th>\n",
              "      <th>zeros</th>\n",
              "      <th>ejemplo</th>\n",
              "    </tr>\n",
              "  </thead>\n",
              "  <tbody>\n",
              "    <tr>\n",
              "      <th>0</th>\n",
              "      <td>Id</td>\n",
              "      <td>1460</td>\n",
              "      <td>int64</td>\n",
              "      <td>0</td>\n",
              "      <td>730.500000</td>\n",
              "      <td>1460.000000</td>\n",
              "      <td>1.000000</td>\n",
              "      <td>0.000000</td>\n",
              "      <td>1153,364,1233,361</td>\n",
              "    </tr>\n",
              "    <tr>\n",
              "      <th>1</th>\n",
              "      <td>MSSubClass</td>\n",
              "      <td>15</td>\n",
              "      <td>int64</td>\n",
              "      <td>0</td>\n",
              "      <td>56.897260</td>\n",
              "      <td>190.000000</td>\n",
              "      <td>20.000000</td>\n",
              "      <td>0.000000</td>\n",
              "      <td>60,180,60,45</td>\n",
              "    </tr>\n",
              "    <tr>\n",
              "      <th>2</th>\n",
              "      <td>LotFrontage</td>\n",
              "      <td>111</td>\n",
              "      <td>float64</td>\n",
              "      <td>259</td>\n",
              "      <td>70.049958</td>\n",
              "      <td>313.000000</td>\n",
              "      <td>21.000000</td>\n",
              "      <td>0.000000</td>\n",
              "      <td>82.0,100.0,110.0,108.0</td>\n",
              "    </tr>\n",
              "    <tr>\n",
              "      <th>3</th>\n",
              "      <td>LotArea</td>\n",
              "      <td>1073</td>\n",
              "      <td>int64</td>\n",
              "      <td>0</td>\n",
              "      <td>10516.828082</td>\n",
              "      <td>215245.000000</td>\n",
              "      <td>1300.000000</td>\n",
              "      <td>0.000000</td>\n",
              "      <td>11846,8125,11616,12416</td>\n",
              "    </tr>\n",
              "    <tr>\n",
              "      <th>4</th>\n",
              "      <td>OverallQual</td>\n",
              "      <td>10</td>\n",
              "      <td>int64</td>\n",
              "      <td>0</td>\n",
              "      <td>6.099315</td>\n",
              "      <td>10.000000</td>\n",
              "      <td>1.000000</td>\n",
              "      <td>0.000000</td>\n",
              "      <td>8,6,8,10</td>\n",
              "    </tr>\n",
              "    <tr>\n",
              "      <th>5</th>\n",
              "      <td>OverallCond</td>\n",
              "      <td>9</td>\n",
              "      <td>int64</td>\n",
              "      <td>0</td>\n",
              "      <td>5.575342</td>\n",
              "      <td>9.000000</td>\n",
              "      <td>1.000000</td>\n",
              "      <td>0.000000</td>\n",
              "      <td>6,1,5,3</td>\n",
              "    </tr>\n",
              "    <tr>\n",
              "      <th>6</th>\n",
              "      <td>YearBuilt</td>\n",
              "      <td>112</td>\n",
              "      <td>int64</td>\n",
              "      <td>0</td>\n",
              "      <td>1971.267808</td>\n",
              "      <td>2010.000000</td>\n",
              "      <td>1872.000000</td>\n",
              "      <td>0.000000</td>\n",
              "      <td>1882,1955,1999,1995</td>\n",
              "    </tr>\n",
              "    <tr>\n",
              "      <th>7</th>\n",
              "      <td>YearRemodAdd</td>\n",
              "      <td>61</td>\n",
              "      <td>int64</td>\n",
              "      <td>0</td>\n",
              "      <td>1984.865753</td>\n",
              "      <td>2010.000000</td>\n",
              "      <td>1950.000000</td>\n",
              "      <td>0.000000</td>\n",
              "      <td>2008,1962,1954,1959</td>\n",
              "    </tr>\n",
              "    <tr>\n",
              "      <th>8</th>\n",
              "      <td>MasVnrArea</td>\n",
              "      <td>328</td>\n",
              "      <td>float64</td>\n",
              "      <td>8</td>\n",
              "      <td>103.685262</td>\n",
              "      <td>1600.000000</td>\n",
              "      <td>0.000000</td>\n",
              "      <td>0.589726</td>\n",
              "      <td>209.0,85.0,210.0,468.0</td>\n",
              "    </tr>\n",
              "    <tr>\n",
              "      <th>9</th>\n",
              "      <td>BsmtFinSF1</td>\n",
              "      <td>637</td>\n",
              "      <td>int64</td>\n",
              "      <td>0</td>\n",
              "      <td>443.639726</td>\n",
              "      <td>5644.000000</td>\n",
              "      <td>0.000000</td>\n",
              "      <td>0.319863</td>\n",
              "      <td>315,573,523,985</td>\n",
              "    </tr>\n",
              "    <tr>\n",
              "      <th>10</th>\n",
              "      <td>BsmtFinSF2</td>\n",
              "      <td>144</td>\n",
              "      <td>int64</td>\n",
              "      <td>0</td>\n",
              "      <td>46.549315</td>\n",
              "      <td>1474.000000</td>\n",
              "      <td>0.000000</td>\n",
              "      <td>0.885616</td>\n",
              "      <td>165,123,149,128</td>\n",
              "    </tr>\n",
              "    <tr>\n",
              "      <th>11</th>\n",
              "      <td>BsmtUnfSF</td>\n",
              "      <td>780</td>\n",
              "      <td>int64</td>\n",
              "      <td>0</td>\n",
              "      <td>567.240411</td>\n",
              "      <td>2336.000000</td>\n",
              "      <td>0.000000</td>\n",
              "      <td>0.080822</td>\n",
              "      <td>892,814,811,768</td>\n",
              "    </tr>\n",
              "    <tr>\n",
              "      <th>12</th>\n",
              "      <td>TotalBsmtSF</td>\n",
              "      <td>721</td>\n",
              "      <td>int64</td>\n",
              "      <td>0</td>\n",
              "      <td>1057.429452</td>\n",
              "      <td>6110.000000</td>\n",
              "      <td>0.000000</td>\n",
              "      <td>0.025342</td>\n",
              "      <td>1300,1385,520,1475</td>\n",
              "    </tr>\n",
              "    <tr>\n",
              "      <th>13</th>\n",
              "      <td>1stFlrSF</td>\n",
              "      <td>753</td>\n",
              "      <td>int64</td>\n",
              "      <td>0</td>\n",
              "      <td>1162.626712</td>\n",
              "      <td>4692.000000</td>\n",
              "      <td>334.000000</td>\n",
              "      <td>0.000000</td>\n",
              "      <td>1131,1976,1334,990</td>\n",
              "    </tr>\n",
              "    <tr>\n",
              "      <th>14</th>\n",
              "      <td>2ndFlrSF</td>\n",
              "      <td>417</td>\n",
              "      <td>int64</td>\n",
              "      <td>0</td>\n",
              "      <td>346.992466</td>\n",
              "      <td>2065.000000</td>\n",
              "      <td>0.000000</td>\n",
              "      <td>0.567808</td>\n",
              "      <td>739,817,785,848</td>\n",
              "    </tr>\n",
              "    <tr>\n",
              "      <th>15</th>\n",
              "      <td>LowQualFinSF</td>\n",
              "      <td>24</td>\n",
              "      <td>int64</td>\n",
              "      <td>0</td>\n",
              "      <td>5.844521</td>\n",
              "      <td>572.000000</td>\n",
              "      <td>0.000000</td>\n",
              "      <td>0.982192</td>\n",
              "      <td>120,392,80,513</td>\n",
              "    </tr>\n",
              "    <tr>\n",
              "      <th>16</th>\n",
              "      <td>GrLivArea</td>\n",
              "      <td>861</td>\n",
              "      <td>int64</td>\n",
              "      <td>0</td>\n",
              "      <td>1515.463699</td>\n",
              "      <td>5642.000000</td>\n",
              "      <td>334.000000</td>\n",
              "      <td>0.000000</td>\n",
              "      <td>1200,1072,2473,1112</td>\n",
              "    </tr>\n",
              "    <tr>\n",
              "      <th>17</th>\n",
              "      <td>BsmtFullBath</td>\n",
              "      <td>4</td>\n",
              "      <td>int64</td>\n",
              "      <td>0</td>\n",
              "      <td>0.425342</td>\n",
              "      <td>3.000000</td>\n",
              "      <td>0.000000</td>\n",
              "      <td>0.586301</td>\n",
              "      <td>3,2,1,0</td>\n",
              "    </tr>\n",
              "    <tr>\n",
              "      <th>18</th>\n",
              "      <td>BsmtHalfBath</td>\n",
              "      <td>3</td>\n",
              "      <td>int64</td>\n",
              "      <td>0</td>\n",
              "      <td>0.057534</td>\n",
              "      <td>2.000000</td>\n",
              "      <td>0.000000</td>\n",
              "      <td>0.943836</td>\n",
              "      <td>0,2,1,1</td>\n",
              "    </tr>\n",
              "    <tr>\n",
              "      <th>19</th>\n",
              "      <td>FullBath</td>\n",
              "      <td>4</td>\n",
              "      <td>int64</td>\n",
              "      <td>0</td>\n",
              "      <td>1.565068</td>\n",
              "      <td>3.000000</td>\n",
              "      <td>0.000000</td>\n",
              "      <td>0.006164</td>\n",
              "      <td>2,2,1,3</td>\n",
              "    </tr>\n",
              "    <tr>\n",
              "      <th>20</th>\n",
              "      <td>HalfBath</td>\n",
              "      <td>3</td>\n",
              "      <td>int64</td>\n",
              "      <td>0</td>\n",
              "      <td>0.382877</td>\n",
              "      <td>2.000000</td>\n",
              "      <td>0.000000</td>\n",
              "      <td>0.625342</td>\n",
              "      <td>2,0,0,0</td>\n",
              "    </tr>\n",
              "    <tr>\n",
              "      <th>21</th>\n",
              "      <td>BedroomAbvGr</td>\n",
              "      <td>8</td>\n",
              "      <td>int64</td>\n",
              "      <td>0</td>\n",
              "      <td>2.866438</td>\n",
              "      <td>8.000000</td>\n",
              "      <td>0.000000</td>\n",
              "      <td>0.004110</td>\n",
              "      <td>1,5,5,0</td>\n",
              "    </tr>\n",
              "    <tr>\n",
              "      <th>22</th>\n",
              "      <td>KitchenAbvGr</td>\n",
              "      <td>4</td>\n",
              "      <td>int64</td>\n",
              "      <td>0</td>\n",
              "      <td>1.046575</td>\n",
              "      <td>3.000000</td>\n",
              "      <td>0.000000</td>\n",
              "      <td>0.000685</td>\n",
              "      <td>1,2,3,3</td>\n",
              "    </tr>\n",
              "    <tr>\n",
              "      <th>23</th>\n",
              "      <td>TotRmsAbvGrd</td>\n",
              "      <td>12</td>\n",
              "      <td>int64</td>\n",
              "      <td>0</td>\n",
              "      <td>6.517808</td>\n",
              "      <td>14.000000</td>\n",
              "      <td>2.000000</td>\n",
              "      <td>0.000000</td>\n",
              "      <td>7,2,7,14</td>\n",
              "    </tr>\n",
              "    <tr>\n",
              "      <th>24</th>\n",
              "      <td>Fireplaces</td>\n",
              "      <td>4</td>\n",
              "      <td>int64</td>\n",
              "      <td>0</td>\n",
              "      <td>0.613014</td>\n",
              "      <td>3.000000</td>\n",
              "      <td>0.000000</td>\n",
              "      <td>0.472603</td>\n",
              "      <td>2,0,3,3</td>\n",
              "    </tr>\n",
              "    <tr>\n",
              "      <th>25</th>\n",
              "      <td>GarageYrBlt</td>\n",
              "      <td>98</td>\n",
              "      <td>float64</td>\n",
              "      <td>81</td>\n",
              "      <td>1978.506164</td>\n",
              "      <td>2010.000000</td>\n",
              "      <td>1900.000000</td>\n",
              "      <td>0.000000</td>\n",
              "      <td>1921.0,1975.0,1924.0,1968.0</td>\n",
              "    </tr>\n",
              "    <tr>\n",
              "      <th>26</th>\n",
              "      <td>GarageCars</td>\n",
              "      <td>5</td>\n",
              "      <td>int64</td>\n",
              "      <td>0</td>\n",
              "      <td>1.767123</td>\n",
              "      <td>4.000000</td>\n",
              "      <td>0.000000</td>\n",
              "      <td>0.055479</td>\n",
              "      <td>0,0,0,3</td>\n",
              "    </tr>\n",
              "    <tr>\n",
              "      <th>27</th>\n",
              "      <td>GarageArea</td>\n",
              "      <td>441</td>\n",
              "      <td>int64</td>\n",
              "      <td>0</td>\n",
              "      <td>472.980137</td>\n",
              "      <td>1418.000000</td>\n",
              "      <td>0.000000</td>\n",
              "      <td>0.055479</td>\n",
              "      <td>478,324,416,683</td>\n",
              "    </tr>\n",
              "    <tr>\n",
              "      <th>28</th>\n",
              "      <td>WoodDeckSF</td>\n",
              "      <td>274</td>\n",
              "      <td>int64</td>\n",
              "      <td>0</td>\n",
              "      <td>94.244521</td>\n",
              "      <td>857.000000</td>\n",
              "      <td>0.000000</td>\n",
              "      <td>0.521233</td>\n",
              "      <td>320,48,409,56</td>\n",
              "    </tr>\n",
              "    <tr>\n",
              "      <th>29</th>\n",
              "      <td>OpenPorchSF</td>\n",
              "      <td>202</td>\n",
              "      <td>int64</td>\n",
              "      <td>0</td>\n",
              "      <td>46.660274</td>\n",
              "      <td>547.000000</td>\n",
              "      <td>0.000000</td>\n",
              "      <td>0.449315</td>\n",
              "      <td>10,64,59,205</td>\n",
              "    </tr>\n",
              "    <tr>\n",
              "      <th>30</th>\n",
              "      <td>EnclosedPorch</td>\n",
              "      <td>120</td>\n",
              "      <td>int64</td>\n",
              "      <td>0</td>\n",
              "      <td>21.954110</td>\n",
              "      <td>552.000000</td>\n",
              "      <td>0.000000</td>\n",
              "      <td>0.857534</td>\n",
              "      <td>100,168,160,96</td>\n",
              "    </tr>\n",
              "    <tr>\n",
              "      <th>31</th>\n",
              "      <td>3SsnPorch</td>\n",
              "      <td>20</td>\n",
              "      <td>int64</td>\n",
              "      <td>0</td>\n",
              "      <td>3.409589</td>\n",
              "      <td>508.000000</td>\n",
              "      <td>0.000000</td>\n",
              "      <td>0.983562</td>\n",
              "      <td>320,23,245,180</td>\n",
              "    </tr>\n",
              "    <tr>\n",
              "      <th>32</th>\n",
              "      <td>ScreenPorch</td>\n",
              "      <td>76</td>\n",
              "      <td>int64</td>\n",
              "      <td>0</td>\n",
              "      <td>15.060959</td>\n",
              "      <td>480.000000</td>\n",
              "      <td>0.000000</td>\n",
              "      <td>0.920548</td>\n",
              "      <td>116,322,273,185</td>\n",
              "    </tr>\n",
              "    <tr>\n",
              "      <th>33</th>\n",
              "      <td>PoolArea</td>\n",
              "      <td>8</td>\n",
              "      <td>int64</td>\n",
              "      <td>0</td>\n",
              "      <td>2.758904</td>\n",
              "      <td>738.000000</td>\n",
              "      <td>0.000000</td>\n",
              "      <td>0.995205</td>\n",
              "      <td>480,576,738,512</td>\n",
              "    </tr>\n",
              "    <tr>\n",
              "      <th>34</th>\n",
              "      <td>MiscVal</td>\n",
              "      <td>21</td>\n",
              "      <td>int64</td>\n",
              "      <td>0</td>\n",
              "      <td>43.489041</td>\n",
              "      <td>15500.000000</td>\n",
              "      <td>0.000000</td>\n",
              "      <td>0.964384</td>\n",
              "      <td>1400,450,600,400</td>\n",
              "    </tr>\n",
              "    <tr>\n",
              "      <th>35</th>\n",
              "      <td>MoSold</td>\n",
              "      <td>12</td>\n",
              "      <td>int64</td>\n",
              "      <td>0</td>\n",
              "      <td>6.321918</td>\n",
              "      <td>12.000000</td>\n",
              "      <td>1.000000</td>\n",
              "      <td>0.000000</td>\n",
              "      <td>5,6,7,1</td>\n",
              "    </tr>\n",
              "    <tr>\n",
              "      <th>36</th>\n",
              "      <td>YrSold</td>\n",
              "      <td>5</td>\n",
              "      <td>int64</td>\n",
              "      <td>0</td>\n",
              "      <td>2007.815753</td>\n",
              "      <td>2010.000000</td>\n",
              "      <td>2006.000000</td>\n",
              "      <td>0.000000</td>\n",
              "      <td>2006,2010,2009,2010</td>\n",
              "    </tr>\n",
              "    <tr>\n",
              "      <th>37</th>\n",
              "      <td>SalePrice</td>\n",
              "      <td>663</td>\n",
              "      <td>float64</td>\n",
              "      <td>0</td>\n",
              "      <td>12.024057</td>\n",
              "      <td>13.534474</td>\n",
              "      <td>10.460271</td>\n",
              "      <td>0.000000</td>\n",
              "      <td>12.249615734512616,12.904209855160254,12.52198...</td>\n",
              "    </tr>\n",
              "  </tbody>\n",
              "</table>\n",
              "</div>\n",
              "      <button class=\"colab-df-convert\" onclick=\"convertToInteractive('df-0f2290ec-6b7d-46df-aa02-9786ab5e043d')\"\n",
              "              title=\"Convert this dataframe to an interactive table.\"\n",
              "              style=\"display:none;\">\n",
              "        \n",
              "  <svg xmlns=\"http://www.w3.org/2000/svg\" height=\"24px\"viewBox=\"0 0 24 24\"\n",
              "       width=\"24px\">\n",
              "    <path d=\"M0 0h24v24H0V0z\" fill=\"none\"/>\n",
              "    <path d=\"M18.56 5.44l.94 2.06.94-2.06 2.06-.94-2.06-.94-.94-2.06-.94 2.06-2.06.94zm-11 1L8.5 8.5l.94-2.06 2.06-.94-2.06-.94L8.5 2.5l-.94 2.06-2.06.94zm10 10l.94 2.06.94-2.06 2.06-.94-2.06-.94-.94-2.06-.94 2.06-2.06.94z\"/><path d=\"M17.41 7.96l-1.37-1.37c-.4-.4-.92-.59-1.43-.59-.52 0-1.04.2-1.43.59L10.3 9.45l-7.72 7.72c-.78.78-.78 2.05 0 2.83L4 21.41c.39.39.9.59 1.41.59.51 0 1.02-.2 1.41-.59l7.78-7.78 2.81-2.81c.8-.78.8-2.07 0-2.86zM5.41 20L4 18.59l7.72-7.72 1.47 1.35L5.41 20z\"/>\n",
              "  </svg>\n",
              "      </button>\n",
              "      \n",
              "  <style>\n",
              "    .colab-df-container {\n",
              "      display:flex;\n",
              "      flex-wrap:wrap;\n",
              "      gap: 12px;\n",
              "    }\n",
              "\n",
              "    .colab-df-convert {\n",
              "      background-color: #E8F0FE;\n",
              "      border: none;\n",
              "      border-radius: 50%;\n",
              "      cursor: pointer;\n",
              "      display: none;\n",
              "      fill: #1967D2;\n",
              "      height: 32px;\n",
              "      padding: 0 0 0 0;\n",
              "      width: 32px;\n",
              "    }\n",
              "\n",
              "    .colab-df-convert:hover {\n",
              "      background-color: #E2EBFA;\n",
              "      box-shadow: 0px 1px 2px rgba(60, 64, 67, 0.3), 0px 1px 3px 1px rgba(60, 64, 67, 0.15);\n",
              "      fill: #174EA6;\n",
              "    }\n",
              "\n",
              "    [theme=dark] .colab-df-convert {\n",
              "      background-color: #3B4455;\n",
              "      fill: #D2E3FC;\n",
              "    }\n",
              "\n",
              "    [theme=dark] .colab-df-convert:hover {\n",
              "      background-color: #434B5C;\n",
              "      box-shadow: 0px 1px 3px 1px rgba(0, 0, 0, 0.15);\n",
              "      filter: drop-shadow(0px 1px 2px rgba(0, 0, 0, 0.3));\n",
              "      fill: #FFFFFF;\n",
              "    }\n",
              "  </style>\n",
              "\n",
              "      <script>\n",
              "        const buttonEl =\n",
              "          document.querySelector('#df-0f2290ec-6b7d-46df-aa02-9786ab5e043d button.colab-df-convert');\n",
              "        buttonEl.style.display =\n",
              "          google.colab.kernel.accessAllowed ? 'block' : 'none';\n",
              "\n",
              "        async function convertToInteractive(key) {\n",
              "          const element = document.querySelector('#df-0f2290ec-6b7d-46df-aa02-9786ab5e043d');\n",
              "          const dataTable =\n",
              "            await google.colab.kernel.invokeFunction('convertToInteractive',\n",
              "                                                     [key], {});\n",
              "          if (!dataTable) return;\n",
              "\n",
              "          const docLinkHtml = 'Like what you see? Visit the ' +\n",
              "            '<a target=\"_blank\" href=https://colab.research.google.com/notebooks/data_table.ipynb>data table notebook</a>'\n",
              "            + ' to learn more about interactive tables.';\n",
              "          element.innerHTML = '';\n",
              "          dataTable['output_type'] = 'display_data';\n",
              "          await google.colab.output.renderOutput(dataTable, element);\n",
              "          const docLink = document.createElement('div');\n",
              "          docLink.innerHTML = docLinkHtml;\n",
              "          element.appendChild(docLink);\n",
              "        }\n",
              "      </script>\n",
              "    </div>\n",
              "  </div>\n",
              "  "
            ]
          },
          "metadata": {},
          "execution_count": 50
        }
      ]
    },
    {
      "cell_type": "code",
      "source": [
        "numeric_columns.info()"
      ],
      "metadata": {
        "colab": {
          "base_uri": "https://localhost:8080/"
        },
        "id": "RP9eqOmNDAT_",
        "outputId": "f1a2efab-ca0c-4805-c6eb-ba4f21813ea5"
      },
      "execution_count": null,
      "outputs": [
        {
          "output_type": "stream",
          "name": "stdout",
          "text": [
            "<class 'pandas.core.frame.DataFrame'>\n",
            "RangeIndex: 1460 entries, 0 to 1459\n",
            "Data columns (total 38 columns):\n",
            " #   Column         Non-Null Count  Dtype  \n",
            "---  ------         --------------  -----  \n",
            " 0   Id             1460 non-null   int64  \n",
            " 1   MSSubClass     1460 non-null   int64  \n",
            " 2   LotFrontage    1201 non-null   float64\n",
            " 3   LotArea        1460 non-null   int64  \n",
            " 4   OverallQual    1460 non-null   int64  \n",
            " 5   OverallCond    1460 non-null   int64  \n",
            " 6   YearBuilt      1460 non-null   int64  \n",
            " 7   YearRemodAdd   1460 non-null   int64  \n",
            " 8   MasVnrArea     1452 non-null   float64\n",
            " 9   BsmtFinSF1     1460 non-null   int64  \n",
            " 10  BsmtFinSF2     1460 non-null   int64  \n",
            " 11  BsmtUnfSF      1460 non-null   int64  \n",
            " 12  TotalBsmtSF    1460 non-null   int64  \n",
            " 13  1stFlrSF       1460 non-null   int64  \n",
            " 14  2ndFlrSF       1460 non-null   int64  \n",
            " 15  LowQualFinSF   1460 non-null   int64  \n",
            " 16  GrLivArea      1460 non-null   int64  \n",
            " 17  BsmtFullBath   1460 non-null   int64  \n",
            " 18  BsmtHalfBath   1460 non-null   int64  \n",
            " 19  FullBath       1460 non-null   int64  \n",
            " 20  HalfBath       1460 non-null   int64  \n",
            " 21  BedroomAbvGr   1460 non-null   int64  \n",
            " 22  KitchenAbvGr   1460 non-null   int64  \n",
            " 23  TotRmsAbvGrd   1460 non-null   int64  \n",
            " 24  Fireplaces     1460 non-null   int64  \n",
            " 25  GarageYrBlt    1379 non-null   float64\n",
            " 26  GarageCars     1460 non-null   int64  \n",
            " 27  GarageArea     1460 non-null   int64  \n",
            " 28  WoodDeckSF     1460 non-null   int64  \n",
            " 29  OpenPorchSF    1460 non-null   int64  \n",
            " 30  EnclosedPorch  1460 non-null   int64  \n",
            " 31  3SsnPorch      1460 non-null   int64  \n",
            " 32  ScreenPorch    1460 non-null   int64  \n",
            " 33  PoolArea       1460 non-null   int64  \n",
            " 34  MiscVal        1460 non-null   int64  \n",
            " 35  MoSold         1460 non-null   int64  \n",
            " 36  YrSold         1460 non-null   int64  \n",
            " 37  SalePrice      1460 non-null   float64\n",
            "dtypes: float64(4), int64(34)\n",
            "memory usage: 433.6 KB\n"
          ]
        }
      ]
    },
    {
      "cell_type": "code",
      "source": [
        "categorical_features = train.select_dtypes(include = [\"object\"]).columns"
      ],
      "metadata": {
        "id": "9b8of2VADtTR"
      },
      "execution_count": null,
      "outputs": []
    },
    {
      "cell_type": "markdown",
      "source": [
        "+ **Análisis exploratorio**"
      ],
      "metadata": {
        "id": "DK42hiv9wfmy"
      }
    },
    {
      "cell_type": "code",
      "source": [
        "# Análisis de correlación\n",
        "\n",
        "corrmat = train.corr()\n",
        "f, ax = plt.subplots(figsize=(12, 9))\n",
        "sns.heatmap(corrmat, vmax=.8, square=True);"
      ],
      "metadata": {
        "colab": {
          "base_uri": "https://localhost:8080/",
          "height": 607
        },
        "id": "OQM7-ESQwfQX",
        "outputId": "e99b39f1-9dc6-45c5-c56d-a6763243f44c"
      },
      "execution_count": null,
      "outputs": [
        {
          "output_type": "display_data",
          "data": {
            "text/plain": [
              "<Figure size 864x648 with 2 Axes>"
            ],
            "image/png": "[encoded data removed]"
          },
          "metadata": {
            "needs_background": "light"
          }
        }
      ]
    },
    {
      "cell_type": "code",
      "source": [
        "corr = train.corr()\n",
        "highest_corr_features = corr.index[abs(corr[\"SalePrice\"])>0.5]\n",
        "plt.figure(figsize=(10,10))\n",
        "g = sns.heatmap(train[highest_corr_features].corr(),annot=True,cmap=\"RdYlGn\")"
      ],
      "metadata": {
        "colab": {
          "base_uri": "https://localhost:8080/",
          "height": 661
        },
        "id": "fSHeRCBt36-i",
        "outputId": "cd7ded4c-4fe6-49a9-ba97-410f876dfea6"
      },
      "execution_count": null,
      "outputs": [
        {
          "output_type": "display_data",
          "data": {
            "text/plain": [
              "<Figure size 720x720 with 2 Axes>"
            ],
            "image/png": "[encoded data removed]"
          },
          "metadata": {
            "needs_background": "light"
          }
        }
      ]
    },
    {
      "cell_type": "code",
      "source": [
        "# Graficando correlaciones entre variable dependeiente 'SalePrice' y las de más alto valor de relación - 'OverallQual', 'GrlivArea'.\n",
        "\n",
        "plt.figure(figsize=(10,6))\n",
        "sns.boxplot(data=train,x='OverallQual',y='SalePrice')"
      ],
      "metadata": {
        "colab": {
          "base_uri": "https://localhost:8080/",
          "height": 405
        },
        "id": "ELQ1DzJV49Fd",
        "outputId": "f0712515-c0d9-495e-ba37-3de6362579f7"
      },
      "execution_count": null,
      "outputs": [
        {
          "output_type": "execute_result",
          "data": {
            "text/plain": [
              "<matplotlib.axes._subplots.AxesSubplot at 0x7fded5544e90>"
            ]
          },
          "metadata": {},
          "execution_count": 14
        },
        {
          "output_type": "display_data",
          "data": {
            "text/plain": [
              "<Figure size 720x432 with 1 Axes>"
            ],
            "image/png": "[encoded data removed]"
          },
          "metadata": {
            "needs_background": "light"
          }
        }
      ]
    },
    {
      "cell_type": "code",
      "source": [
        "\n",
        "plt.figure(figsize=(10,6))\n",
        "x =train['GrLivArea']\n",
        "y= train['SalePrice']\n",
        "sns.regplot(x , y, color='cornflowerblue', line_kws = {'color': 'red'})\n",
        "\n",
        "\n",
        "plt.show()"
      ],
      "metadata": {
        "colab": {
          "base_uri": "https://localhost:8080/",
          "height": 443
        },
        "id": "SQEcOULx5j5t",
        "outputId": "9d909e8f-07af-4e0d-dfe0-3749a324a351"
      },
      "execution_count": null,
      "outputs": [
        {
          "output_type": "stream",
          "name": "stderr",
          "text": [
            "/usr/local/lib/python3.7/dist-packages/seaborn/_decorators.py:43: FutureWarning: Pass the following variables as keyword args: x, y. From version 0.12, the only valid positional argument will be `data`, and passing other arguments without an explicit keyword will result in an error or misinterpretation.\n",
            "  FutureWarning\n"
          ]
        },
        {
          "output_type": "display_data",
          "data": {
            "text/plain": [
              "<Figure size 720x432 with 1 Axes>"
            ],
            "image/png": "[encoded data removed]"
          },
          "metadata": {
            "needs_background": "light"
          }
        }
      ]
    },
    {
      "cell_type": "code",
      "source": [
        "plt.figure(figsize=(10,6))\n",
        "x =train['GarageCars']\n",
        "y= train['SalePrice']\n",
        "sns.regplot(x , y, color='cornflowerblue', line_kws = {'color': 'red'})\n",
        "\n",
        "\n",
        "plt.show()"
      ],
      "metadata": {
        "colab": {
          "base_uri": "https://localhost:8080/",
          "height": 443
        },
        "id": "uPoihEjk7D-c",
        "outputId": "9fd22e9e-a606-4e32-d4a7-810442c32f2b"
      },
      "execution_count": null,
      "outputs": [
        {
          "output_type": "stream",
          "name": "stderr",
          "text": [
            "/usr/local/lib/python3.7/dist-packages/seaborn/_decorators.py:43: FutureWarning: Pass the following variables as keyword args: x, y. From version 0.12, the only valid positional argument will be `data`, and passing other arguments without an explicit keyword will result in an error or misinterpretation.\n",
            "  FutureWarning\n"
          ]
        },
        {
          "output_type": "display_data",
          "data": {
            "text/plain": [
              "<Figure size 720x432 with 1 Axes>"
            ],
            "image/png": "[encoded data removed]"
          },
          "metadata": {
            "needs_background": "light"
          }
        }
      ]
    },
    {
      "cell_type": "markdown",
      "source": [
        "+ **Concatenando las dos bases para preprocesamiento**"
      ],
      "metadata": {
        "id": "25j4gtYoxJKF"
      }
    },
    {
      "cell_type": "code",
      "source": [
        "# Concateanando base 'train' y 'test' para realizar preprocesameinto total y luego realizar la separación posterior al análisis.\n",
        "\n",
        "y_train = train['SalePrice']\n",
        "test_ids = test['Id']\n",
        "\n",
        "train = train.drop(['Id', 'SalePrice'], axis=1)\n",
        "test = test.drop(['Id'], axis=1)\n",
        "\n",
        "all_data = pd.concat([train, test], axis=0).reset_index(drop=True)"
      ],
      "metadata": {
        "id": "kEfX1I6k85c2"
      },
      "execution_count": null,
      "outputs": []
    },
    {
      "cell_type": "code",
      "source": [
        "all_data.shape"
      ],
      "metadata": {
        "colab": {
          "base_uri": "https://localhost:8080/"
        },
        "id": "Baz8stQETCFS",
        "outputId": "e5dee258-77ab-48d4-e247-a725bd15e8d2"
      },
      "execution_count": null,
      "outputs": [
        {
          "output_type": "execute_result",
          "data": {
            "text/plain": [
              "(2919, 79)"
            ]
          },
          "metadata": {},
          "execution_count": 18
        }
      ]
    },
    {
      "cell_type": "code",
      "source": [
        "all_data.head(5)"
      ],
      "metadata": {
        "colab": {
          "base_uri": "https://localhost:8080/",
          "height": 300
        },
        "id": "pmhCEf0_PTtW",
        "outputId": "4e389a9b-915e-4a49-aff8-83a9f79682d6"
      },
      "execution_count": null,
      "outputs": [
        {
          "output_type": "execute_result",
          "data": {
            "text/plain": [
              "   MSSubClass MSZoning  LotFrontage  LotArea Street Alley LotShape  \\\n",
              "0          60       RL         65.0     8450   Pave   NaN      Reg   \n",
              "1          20       RL         80.0     9600   Pave   NaN      Reg   \n",
              "2          60       RL         68.0    11250   Pave   NaN      IR1   \n",
              "3          70       RL         60.0     9550   Pave   NaN      IR1   \n",
              "4          60       RL         84.0    14260   Pave   NaN      IR1   \n",
              "\n",
              "  LandContour Utilities LotConfig  ... ScreenPorch PoolArea PoolQC Fence  \\\n",
              "0         Lvl    AllPub    Inside  ...           0        0    NaN   NaN   \n",
              "1         Lvl    AllPub       FR2  ...           0        0    NaN   NaN   \n",
              "2         Lvl    AllPub    Inside  ...           0        0    NaN   NaN   \n",
              "3         Lvl    AllPub    Corner  ...           0        0    NaN   NaN   \n",
              "4         Lvl    AllPub       FR2  ...           0        0    NaN   NaN   \n",
              "\n",
              "  MiscFeature MiscVal  MoSold  YrSold  SaleType  SaleCondition  \n",
              "0         NaN       0       2    2008        WD         Normal  \n",
              "1         NaN       0       5    2007        WD         Normal  \n",
              "2         NaN       0       9    2008        WD         Normal  \n",
              "3         NaN       0       2    2006        WD        Abnorml  \n",
              "4         NaN       0      12    2008        WD         Normal  \n",
              "\n",
              "[5 rows x 79 columns]"
            ],
            "text/html": [
              "\n",
              "  <div id=\"df-035cb4c3-13b4-4562-8c61-1e78e7570932\">\n",
              "    <div class=\"colab-df-container\">\n",
              "      <div>\n",
              "<style scoped>\n",
              "    .dataframe tbody tr th:only-of-type {\n",
              "        vertical-align: middle;\n",
              "    }\n",
              "\n",
              "    .dataframe tbody tr th {\n",
              "        vertical-align: top;\n",
              "    }\n",
              "\n",
              "    .dataframe thead th {\n",
              "        text-align: right;\n",
              "    }\n",
              "</style>\n",
              "<table border=\"1\" class=\"dataframe\">\n",
              "  <thead>\n",
              "    <tr style=\"text-align: right;\">\n",
              "      <th></th>\n",
              "      <th>MSSubClass</th>\n",
              "      <th>MSZoning</th>\n",
              "      <th>LotFrontage</th>\n",
              "      <th>LotArea</th>\n",
              "      <th>Street</th>\n",
              "      <th>Alley</th>\n",
              "      <th>LotShape</th>\n",
              "      <th>LandContour</th>\n",
              "      <th>Utilities</th>\n",
              "      <th>LotConfig</th>\n",
              "      <th>...</th>\n",
              "      <th>ScreenPorch</th>\n",
              "      <th>PoolArea</th>\n",
              "      <th>PoolQC</th>\n",
              "      <th>Fence</th>\n",
              "      <th>MiscFeature</th>\n",
              "      <th>MiscVal</th>\n",
              "      <th>MoSold</th>\n",
              "      <th>YrSold</th>\n",
              "      <th>SaleType</th>\n",
              "      <th>SaleCondition</th>\n",
              "    </tr>\n",
              "  </thead>\n",
              "  <tbody>\n",
              "    <tr>\n",
              "      <th>0</th>\n",
              "      <td>60</td>\n",
              "      <td>RL</td>\n",
              "      <td>65.0</td>\n",
              "      <td>8450</td>\n",
              "      <td>Pave</td>\n",
              "      <td>NaN</td>\n",
              "      <td>Reg</td>\n",
              "      <td>Lvl</td>\n",
              "      <td>AllPub</td>\n",
              "      <td>Inside</td>\n",
              "      <td>...</td>\n",
              "      <td>0</td>\n",
              "      <td>0</td>\n",
              "      <td>NaN</td>\n",
              "      <td>NaN</td>\n",
              "      <td>NaN</td>\n",
              "      <td>0</td>\n",
              "      <td>2</td>\n",
              "      <td>2008</td>\n",
              "      <td>WD</td>\n",
              "      <td>Normal</td>\n",
              "    </tr>\n",
              "    <tr>\n",
              "      <th>1</th>\n",
              "      <td>20</td>\n",
              "      <td>RL</td>\n",
              "      <td>80.0</td>\n",
              "      <td>9600</td>\n",
              "      <td>Pave</td>\n",
              "      <td>NaN</td>\n",
              "      <td>Reg</td>\n",
              "      <td>Lvl</td>\n",
              "      <td>AllPub</td>\n",
              "      <td>FR2</td>\n",
              "      <td>...</td>\n",
              "      <td>0</td>\n",
              "      <td>0</td>\n",
              "      <td>NaN</td>\n",
              "      <td>NaN</td>\n",
              "      <td>NaN</td>\n",
              "      <td>0</td>\n",
              "      <td>5</td>\n",
              "      <td>2007</td>\n",
              "      <td>WD</td>\n",
              "      <td>Normal</td>\n",
              "    </tr>\n",
              "    <tr>\n",
              "      <th>2</th>\n",
              "      <td>60</td>\n",
              "      <td>RL</td>\n",
              "      <td>68.0</td>\n",
              "      <td>11250</td>\n",
              "      <td>Pave</td>\n",
              "      <td>NaN</td>\n",
              "      <td>IR1</td>\n",
              "      <td>Lvl</td>\n",
              "      <td>AllPub</td>\n",
              "      <td>Inside</td>\n",
              "      <td>...</td>\n",
              "      <td>0</td>\n",
              "      <td>0</td>\n",
              "      <td>NaN</td>\n",
              "      <td>NaN</td>\n",
              "      <td>NaN</td>\n",
              "      <td>0</td>\n",
              "      <td>9</td>\n",
              "      <td>2008</td>\n",
              "      <td>WD</td>\n",
              "      <td>Normal</td>\n",
              "    </tr>\n",
              "    <tr>\n",
              "      <th>3</th>\n",
              "      <td>70</td>\n",
              "      <td>RL</td>\n",
              "      <td>60.0</td>\n",
              "      <td>9550</td>\n",
              "      <td>Pave</td>\n",
              "      <td>NaN</td>\n",
              "      <td>IR1</td>\n",
              "      <td>Lvl</td>\n",
              "      <td>AllPub</td>\n",
              "      <td>Corner</td>\n",
              "      <td>...</td>\n",
              "      <td>0</td>\n",
              "      <td>0</td>\n",
              "      <td>NaN</td>\n",
              "      <td>NaN</td>\n",
              "      <td>NaN</td>\n",
              "      <td>0</td>\n",
              "      <td>2</td>\n",
              "      <td>2006</td>\n",
              "      <td>WD</td>\n",
              "      <td>Abnorml</td>\n",
              "    </tr>\n",
              "    <tr>\n",
              "      <th>4</th>\n",
              "      <td>60</td>\n",
              "      <td>RL</td>\n",
              "      <td>84.0</td>\n",
              "      <td>14260</td>\n",
              "      <td>Pave</td>\n",
              "      <td>NaN</td>\n",
              "      <td>IR1</td>\n",
              "      <td>Lvl</td>\n",
              "      <td>AllPub</td>\n",
              "      <td>FR2</td>\n",
              "      <td>...</td>\n",
              "      <td>0</td>\n",
              "      <td>0</td>\n",
              "      <td>NaN</td>\n",
              "      <td>NaN</td>\n",
              "      <td>NaN</td>\n",
              "      <td>0</td>\n",
              "      <td>12</td>\n",
              "      <td>2008</td>\n",
              "      <td>WD</td>\n",
              "      <td>Normal</td>\n",
              "    </tr>\n",
              "  </tbody>\n",
              "</table>\n",
              "<p>5 rows × 79 columns</p>\n",
              "</div>\n",
              "      <button class=\"colab-df-convert\" onclick=\"convertToInteractive('df-035cb4c3-13b4-4562-8c61-1e78e7570932')\"\n",
              "              title=\"Convert this dataframe to an interactive table.\"\n",
              "              style=\"display:none;\">\n",
              "        \n",
              "  <svg xmlns=\"http://www.w3.org/2000/svg\" height=\"24px\"viewBox=\"0 0 24 24\"\n",
              "       width=\"24px\">\n",
              "    <path d=\"M0 0h24v24H0V0z\" fill=\"none\"/>\n",
              "    <path d=\"M18.56 5.44l.94 2.06.94-2.06 2.06-.94-2.06-.94-.94-2.06-.94 2.06-2.06.94zm-11 1L8.5 8.5l.94-2.06 2.06-.94-2.06-.94L8.5 2.5l-.94 2.06-2.06.94zm10 10l.94 2.06.94-2.06 2.06-.94-2.06-.94-.94-2.06-.94 2.06-2.06.94z\"/><path d=\"M17.41 7.96l-1.37-1.37c-.4-.4-.92-.59-1.43-.59-.52 0-1.04.2-1.43.59L10.3 9.45l-7.72 7.72c-.78.78-.78 2.05 0 2.83L4 21.41c.39.39.9.59 1.41.59.51 0 1.02-.2 1.41-.59l7.78-7.78 2.81-2.81c.8-.78.8-2.07 0-2.86zM5.41 20L4 18.59l7.72-7.72 1.47 1.35L5.41 20z\"/>\n",
              "  </svg>\n",
              "      </button>\n",
              "      \n",
              "  <style>\n",
              "    .colab-df-container {\n",
              "      display:flex;\n",
              "      flex-wrap:wrap;\n",
              "      gap: 12px;\n",
              "    }\n",
              "\n",
              "    .colab-df-convert {\n",
              "      background-color: #E8F0FE;\n",
              "      border: none;\n",
              "      border-radius: 50%;\n",
              "      cursor: pointer;\n",
              "      display: none;\n",
              "      fill: #1967D2;\n",
              "      height: 32px;\n",
              "      padding: 0 0 0 0;\n",
              "      width: 32px;\n",
              "    }\n",
              "\n",
              "    .colab-df-convert:hover {\n",
              "      background-color: #E2EBFA;\n",
              "      box-shadow: 0px 1px 2px rgba(60, 64, 67, 0.3), 0px 1px 3px 1px rgba(60, 64, 67, 0.15);\n",
              "      fill: #174EA6;\n",
              "    }\n",
              "\n",
              "    [theme=dark] .colab-df-convert {\n",
              "      background-color: #3B4455;\n",
              "      fill: #D2E3FC;\n",
              "    }\n",
              "\n",
              "    [theme=dark] .colab-df-convert:hover {\n",
              "      background-color: #434B5C;\n",
              "      box-shadow: 0px 1px 3px 1px rgba(0, 0, 0, 0.15);\n",
              "      filter: drop-shadow(0px 1px 2px rgba(0, 0, 0, 0.3));\n",
              "      fill: #FFFFFF;\n",
              "    }\n",
              "  </style>\n",
              "\n",
              "      <script>\n",
              "        const buttonEl =\n",
              "          document.querySelector('#df-035cb4c3-13b4-4562-8c61-1e78e7570932 button.colab-df-convert');\n",
              "        buttonEl.style.display =\n",
              "          google.colab.kernel.accessAllowed ? 'block' : 'none';\n",
              "\n",
              "        async function convertToInteractive(key) {\n",
              "          const element = document.querySelector('#df-035cb4c3-13b4-4562-8c61-1e78e7570932');\n",
              "          const dataTable =\n",
              "            await google.colab.kernel.invokeFunction('convertToInteractive',\n",
              "                                                     [key], {});\n",
              "          if (!dataTable) return;\n",
              "\n",
              "          const docLinkHtml = 'Like what you see? Visit the ' +\n",
              "            '<a target=\"_blank\" href=https://colab.research.google.com/notebooks/data_table.ipynb>data table notebook</a>'\n",
              "            + ' to learn more about interactive tables.';\n",
              "          element.innerHTML = '';\n",
              "          dataTable['output_type'] = 'display_data';\n",
              "          await google.colab.output.renderOutput(dataTable, element);\n",
              "          const docLink = document.createElement('div');\n",
              "          docLink.innerHTML = docLinkHtml;\n",
              "          element.appendChild(docLink);\n",
              "        }\n",
              "      </script>\n",
              "    </div>\n",
              "  </div>\n",
              "  "
            ]
          },
          "metadata": {},
          "execution_count": 19
        }
      ]
    },
    {
      "cell_type": "markdown",
      "source": [
        "+ **Exploración y tratamiento a valores nulos de la data**"
      ],
      "metadata": {
        "id": "3XrpIem6wrZB"
      }
    },
    {
      "cell_type": "code",
      "source": [
        "# Observando valores nulos.\n",
        "\n",
        "total = all_data.isnull().sum().sort_values(ascending = False)[all_data.isnull().sum().sort_values(ascending = False) != 0]\n",
        "percent = round(all_data.isnull().sum().sort_values(ascending = False)/len(train)*100,2)[round(all_data.isnull().sum().sort_values(ascending = False)/len(all_data)*100,2) != 0]\n",
        "data_type = all_data.dtypes.sort_values(ascending = False)[all_data.isnull().sum().sort_values(ascending = False) != 0]\n",
        "pd.concat([total, percent, data_type], axis=1, keys=['Total','Percent','Type'])"
      ],
      "metadata": {
        "colab": {
          "base_uri": "https://localhost:8080/",
          "height": 1000
        },
        "id": "MZkst_s8qgGu",
        "outputId": "4c20f932-9720-4fd6-fe3a-e6fc187d1d0d"
      },
      "execution_count": null,
      "outputs": [
        {
          "output_type": "execute_result",
          "data": {
            "text/plain": [
              "              Total  Percent     Type\n",
              "PoolQC         2909   199.25   object\n",
              "MiscFeature    2814   192.74   object\n",
              "Alley          2721   186.37   object\n",
              "Fence          2348   160.82   object\n",
              "FireplaceQu    1420    97.26   object\n",
              "LotFrontage     486    33.29  float64\n",
              "GarageYrBlt     159    10.89  float64\n",
              "GarageFinish    159    10.89   object\n",
              "GarageQual      159    10.89   object\n",
              "GarageCond      159    10.89   object\n",
              "GarageType      157    10.75   object\n",
              "BsmtExposure     82     5.62   object\n",
              "BsmtCond         82     5.62   object\n",
              "BsmtQual         81     5.55   object\n",
              "BsmtFinType2     80     5.48   object\n",
              "BsmtFinType1     79     5.41   object\n",
              "MasVnrType       24     1.64   object\n",
              "MasVnrArea       23     1.58  float64\n",
              "MSZoning          4     0.27   object\n",
              "Functional        2     0.14   object\n",
              "BsmtHalfBath      2     0.14  float64\n",
              "BsmtFullBath      2     0.14  float64\n",
              "Utilities         2     0.14   object\n",
              "SaleType          1     0.07   object\n",
              "BsmtFinSF1        1     0.07  float64\n",
              "KitchenQual       1     0.07   object\n",
              "GarageCars        1     0.07  float64\n",
              "BsmtUnfSF         1     0.07  float64\n",
              "TotalBsmtSF       1     0.07  float64\n",
              "Exterior2nd       1     0.07   object\n",
              "Exterior1st       1     0.07   object\n",
              "GarageArea        1     0.07  float64\n",
              "Electrical        1     0.07   object\n",
              "BsmtFinSF2        1     0.07  float64"
            ],
            "text/html": [
              "\n",
              "  <div id=\"df-8cd872c6-1ed1-44dc-8e09-a0ce4ca97025\">\n",
              "    <div class=\"colab-df-container\">\n",
              "      <div>\n",
              "<style scoped>\n",
              "    .dataframe tbody tr th:only-of-type {\n",
              "        vertical-align: middle;\n",
              "    }\n",
              "\n",
              "    .dataframe tbody tr th {\n",
              "        vertical-align: top;\n",
              "    }\n",
              "\n",
              "    .dataframe thead th {\n",
              "        text-align: right;\n",
              "    }\n",
              "</style>\n",
              "<table border=\"1\" class=\"dataframe\">\n",
              "  <thead>\n",
              "    <tr style=\"text-align: right;\">\n",
              "      <th></th>\n",
              "      <th>Total</th>\n",
              "      <th>Percent</th>\n",
              "      <th>Type</th>\n",
              "    </tr>\n",
              "  </thead>\n",
              "  <tbody>\n",
              "    <tr>\n",
              "      <th>PoolQC</th>\n",
              "      <td>2909</td>\n",
              "      <td>199.25</td>\n",
              "      <td>object</td>\n",
              "    </tr>\n",
              "    <tr>\n",
              "      <th>MiscFeature</th>\n",
              "      <td>2814</td>\n",
              "      <td>192.74</td>\n",
              "      <td>object</td>\n",
              "    </tr>\n",
              "    <tr>\n",
              "      <th>Alley</th>\n",
              "      <td>2721</td>\n",
              "      <td>186.37</td>\n",
              "      <td>object</td>\n",
              "    </tr>\n",
              "    <tr>\n",
              "      <th>Fence</th>\n",
              "      <td>2348</td>\n",
              "      <td>160.82</td>\n",
              "      <td>object</td>\n",
              "    </tr>\n",
              "    <tr>\n",
              "      <th>FireplaceQu</th>\n",
              "      <td>1420</td>\n",
              "      <td>97.26</td>\n",
              "      <td>object</td>\n",
              "    </tr>\n",
              "    <tr>\n",
              "      <th>LotFrontage</th>\n",
              "      <td>486</td>\n",
              "      <td>33.29</td>\n",
              "      <td>float64</td>\n",
              "    </tr>\n",
              "    <tr>\n",
              "      <th>GarageYrBlt</th>\n",
              "      <td>159</td>\n",
              "      <td>10.89</td>\n",
              "      <td>float64</td>\n",
              "    </tr>\n",
              "    <tr>\n",
              "      <th>GarageFinish</th>\n",
              "      <td>159</td>\n",
              "      <td>10.89</td>\n",
              "      <td>object</td>\n",
              "    </tr>\n",
              "    <tr>\n",
              "      <th>GarageQual</th>\n",
              "      <td>159</td>\n",
              "      <td>10.89</td>\n",
              "      <td>object</td>\n",
              "    </tr>\n",
              "    <tr>\n",
              "      <th>GarageCond</th>\n",
              "      <td>159</td>\n",
              "      <td>10.89</td>\n",
              "      <td>object</td>\n",
              "    </tr>\n",
              "    <tr>\n",
              "      <th>GarageType</th>\n",
              "      <td>157</td>\n",
              "      <td>10.75</td>\n",
              "      <td>object</td>\n",
              "    </tr>\n",
              "    <tr>\n",
              "      <th>BsmtExposure</th>\n",
              "      <td>82</td>\n",
              "      <td>5.62</td>\n",
              "      <td>object</td>\n",
              "    </tr>\n",
              "    <tr>\n",
              "      <th>BsmtCond</th>\n",
              "      <td>82</td>\n",
              "      <td>5.62</td>\n",
              "      <td>object</td>\n",
              "    </tr>\n",
              "    <tr>\n",
              "      <th>BsmtQual</th>\n",
              "      <td>81</td>\n",
              "      <td>5.55</td>\n",
              "      <td>object</td>\n",
              "    </tr>\n",
              "    <tr>\n",
              "      <th>BsmtFinType2</th>\n",
              "      <td>80</td>\n",
              "      <td>5.48</td>\n",
              "      <td>object</td>\n",
              "    </tr>\n",
              "    <tr>\n",
              "      <th>BsmtFinType1</th>\n",
              "      <td>79</td>\n",
              "      <td>5.41</td>\n",
              "      <td>object</td>\n",
              "    </tr>\n",
              "    <tr>\n",
              "      <th>MasVnrType</th>\n",
              "      <td>24</td>\n",
              "      <td>1.64</td>\n",
              "      <td>object</td>\n",
              "    </tr>\n",
              "    <tr>\n",
              "      <th>MasVnrArea</th>\n",
              "      <td>23</td>\n",
              "      <td>1.58</td>\n",
              "      <td>float64</td>\n",
              "    </tr>\n",
              "    <tr>\n",
              "      <th>MSZoning</th>\n",
              "      <td>4</td>\n",
              "      <td>0.27</td>\n",
              "      <td>object</td>\n",
              "    </tr>\n",
              "    <tr>\n",
              "      <th>Functional</th>\n",
              "      <td>2</td>\n",
              "      <td>0.14</td>\n",
              "      <td>object</td>\n",
              "    </tr>\n",
              "    <tr>\n",
              "      <th>BsmtHalfBath</th>\n",
              "      <td>2</td>\n",
              "      <td>0.14</td>\n",
              "      <td>float64</td>\n",
              "    </tr>\n",
              "    <tr>\n",
              "      <th>BsmtFullBath</th>\n",
              "      <td>2</td>\n",
              "      <td>0.14</td>\n",
              "      <td>float64</td>\n",
              "    </tr>\n",
              "    <tr>\n",
              "      <th>Utilities</th>\n",
              "      <td>2</td>\n",
              "      <td>0.14</td>\n",
              "      <td>object</td>\n",
              "    </tr>\n",
              "    <tr>\n",
              "      <th>SaleType</th>\n",
              "      <td>1</td>\n",
              "      <td>0.07</td>\n",
              "      <td>object</td>\n",
              "    </tr>\n",
              "    <tr>\n",
              "      <th>BsmtFinSF1</th>\n",
              "      <td>1</td>\n",
              "      <td>0.07</td>\n",
              "      <td>float64</td>\n",
              "    </tr>\n",
              "    <tr>\n",
              "      <th>KitchenQual</th>\n",
              "      <td>1</td>\n",
              "      <td>0.07</td>\n",
              "      <td>object</td>\n",
              "    </tr>\n",
              "    <tr>\n",
              "      <th>GarageCars</th>\n",
              "      <td>1</td>\n",
              "      <td>0.07</td>\n",
              "      <td>float64</td>\n",
              "    </tr>\n",
              "    <tr>\n",
              "      <th>BsmtUnfSF</th>\n",
              "      <td>1</td>\n",
              "      <td>0.07</td>\n",
              "      <td>float64</td>\n",
              "    </tr>\n",
              "    <tr>\n",
              "      <th>TotalBsmtSF</th>\n",
              "      <td>1</td>\n",
              "      <td>0.07</td>\n",
              "      <td>float64</td>\n",
              "    </tr>\n",
              "    <tr>\n",
              "      <th>Exterior2nd</th>\n",
              "      <td>1</td>\n",
              "      <td>0.07</td>\n",
              "      <td>object</td>\n",
              "    </tr>\n",
              "    <tr>\n",
              "      <th>Exterior1st</th>\n",
              "      <td>1</td>\n",
              "      <td>0.07</td>\n",
              "      <td>object</td>\n",
              "    </tr>\n",
              "    <tr>\n",
              "      <th>GarageArea</th>\n",
              "      <td>1</td>\n",
              "      <td>0.07</td>\n",
              "      <td>float64</td>\n",
              "    </tr>\n",
              "    <tr>\n",
              "      <th>Electrical</th>\n",
              "      <td>1</td>\n",
              "      <td>0.07</td>\n",
              "      <td>object</td>\n",
              "    </tr>\n",
              "    <tr>\n",
              "      <th>BsmtFinSF2</th>\n",
              "      <td>1</td>\n",
              "      <td>0.07</td>\n",
              "      <td>float64</td>\n",
              "    </tr>\n",
              "  </tbody>\n",
              "</table>\n",
              "</div>\n",
              "      <button class=\"colab-df-convert\" onclick=\"convertToInteractive('df-8cd872c6-1ed1-44dc-8e09-a0ce4ca97025')\"\n",
              "              title=\"Convert this dataframe to an interactive table.\"\n",
              "              style=\"display:none;\">\n",
              "        \n",
              "  <svg xmlns=\"http://www.w3.org/2000/svg\" height=\"24px\"viewBox=\"0 0 24 24\"\n",
              "       width=\"24px\">\n",
              "    <path d=\"M0 0h24v24H0V0z\" fill=\"none\"/>\n",
              "    <path d=\"M18.56 5.44l.94 2.06.94-2.06 2.06-.94-2.06-.94-.94-2.06-.94 2.06-2.06.94zm-11 1L8.5 8.5l.94-2.06 2.06-.94-2.06-.94L8.5 2.5l-.94 2.06-2.06.94zm10 10l.94 2.06.94-2.06 2.06-.94-2.06-.94-.94-2.06-.94 2.06-2.06.94z\"/><path d=\"M17.41 7.96l-1.37-1.37c-.4-.4-.92-.59-1.43-.59-.52 0-1.04.2-1.43.59L10.3 9.45l-7.72 7.72c-.78.78-.78 2.05 0 2.83L4 21.41c.39.39.9.59 1.41.59.51 0 1.02-.2 1.41-.59l7.78-7.78 2.81-2.81c.8-.78.8-2.07 0-2.86zM5.41 20L4 18.59l7.72-7.72 1.47 1.35L5.41 20z\"/>\n",
              "  </svg>\n",
              "      </button>\n",
              "      \n",
              "  <style>\n",
              "    .colab-df-container {\n",
              "      display:flex;\n",
              "      flex-wrap:wrap;\n",
              "      gap: 12px;\n",
              "    }\n",
              "\n",
              "    .colab-df-convert {\n",
              "      background-color: #E8F0FE;\n",
              "      border: none;\n",
              "      border-radius: 50%;\n",
              "      cursor: pointer;\n",
              "      display: none;\n",
              "      fill: #1967D2;\n",
              "      height: 32px;\n",
              "      padding: 0 0 0 0;\n",
              "      width: 32px;\n",
              "    }\n",
              "\n",
              "    .colab-df-convert:hover {\n",
              "      background-color: #E2EBFA;\n",
              "      box-shadow: 0px 1px 2px rgba(60, 64, 67, 0.3), 0px 1px 3px 1px rgba(60, 64, 67, 0.15);\n",
              "      fill: #174EA6;\n",
              "    }\n",
              "\n",
              "    [theme=dark] .colab-df-convert {\n",
              "      background-color: #3B4455;\n",
              "      fill: #D2E3FC;\n",
              "    }\n",
              "\n",
              "    [theme=dark] .colab-df-convert:hover {\n",
              "      background-color: #434B5C;\n",
              "      box-shadow: 0px 1px 3px 1px rgba(0, 0, 0, 0.15);\n",
              "      filter: drop-shadow(0px 1px 2px rgba(0, 0, 0, 0.3));\n",
              "      fill: #FFFFFF;\n",
              "    }\n",
              "  </style>\n",
              "\n",
              "      <script>\n",
              "        const buttonEl =\n",
              "          document.querySelector('#df-8cd872c6-1ed1-44dc-8e09-a0ce4ca97025 button.colab-df-convert');\n",
              "        buttonEl.style.display =\n",
              "          google.colab.kernel.accessAllowed ? 'block' : 'none';\n",
              "\n",
              "        async function convertToInteractive(key) {\n",
              "          const element = document.querySelector('#df-8cd872c6-1ed1-44dc-8e09-a0ce4ca97025');\n",
              "          const dataTable =\n",
              "            await google.colab.kernel.invokeFunction('convertToInteractive',\n",
              "                                                     [key], {});\n",
              "          if (!dataTable) return;\n",
              "\n",
              "          const docLinkHtml = 'Like what you see? Visit the ' +\n",
              "            '<a target=\"_blank\" href=https://colab.research.google.com/notebooks/data_table.ipynb>data table notebook</a>'\n",
              "            + ' to learn more about interactive tables.';\n",
              "          element.innerHTML = '';\n",
              "          dataTable['output_type'] = 'display_data';\n",
              "          await google.colab.output.renderOutput(dataTable, element);\n",
              "          const docLink = document.createElement('div');\n",
              "          docLink.innerHTML = docLinkHtml;\n",
              "          element.appendChild(docLink);\n",
              "        }\n",
              "      </script>\n",
              "    </div>\n",
              "  </div>\n",
              "  "
            ]
          },
          "metadata": {},
          "execution_count": 20
        }
      ]
    },
    {
      "cell_type": "code",
      "source": [
        "# Según el documento que describe las variables, hay categóricas que poseen la opción 'None' y por lo tanto no son de por sí\n",
        "# valores nulos como lo indica la gráfica anterior, sino que, son valores donde no hay existencias y,\n",
        "# en vez de borrar, se cambiarán los perdidos por esta opción.\n",
        "# Para los otros casos de categóricas se reemplazarán los perdidos por la moda.\n",
        "for column in [\n",
        "    'Alley',\n",
        "    'BsmtQual',\n",
        "    'BsmtCond',\n",
        "    'BsmtExposure',\n",
        "    'BsmtFinType1',\n",
        "    'BsmtFinType2',\n",
        "    'FireplaceQu',\n",
        "    'GarageType',\n",
        "    'GarageFinish',\n",
        "    'GarageQual',\n",
        "    'GarageCond',\n",
        "    'PoolQC',\n",
        "    'Fence',\n",
        "    'MiscFeature'\n",
        "]:\n",
        "  all_data[column] = all_data[column].fillna(\"None\")\n",
        "\n",
        "for column in [\n",
        "    'MSZoning',\n",
        "    'Utilities',\n",
        "    'Exterior1st',\n",
        "    'Exterior2nd',\n",
        "    'MasVnrType',\n",
        "    'Electrical',\n",
        "    'KitchenQual',\n",
        "    'Functional',\n",
        "    'SaleType'\n",
        "]:\n",
        "  all_data[column] = all_data[column].fillna(all_data[column].mode()[0])"
      ],
      "metadata": {
        "id": "kdTObbKvT9bc"
      },
      "execution_count": null,
      "outputs": []
    },
    {
      "cell_type": "code",
      "source": [
        "# Observando nuevamente valores nulos.\n",
        "\n",
        "total = all_data.isnull().sum().sort_values(ascending = False)[all_data.isnull().sum().sort_values(ascending = False) != 0]\n",
        "percent = round(all_data.isnull().sum().sort_values(ascending = False)/len(train)*100,2)[round(all_data.isnull().sum().sort_values(ascending = False)/len(all_data)*100,2) != 0]\n",
        "data_type = all_data.dtypes.sort_values(ascending = False)[all_data.isnull().sum().sort_values(ascending = False) != 0]\n",
        "pd.concat([total, percent, data_type], axis=1, keys=['Total','Percent','Type'])"
      ],
      "metadata": {
        "id": "c77TbQknOPun",
        "colab": {
          "base_uri": "https://localhost:8080/",
          "height": 394
        },
        "outputId": "c2fc085f-729f-4734-ee79-192a2147b43d"
      },
      "execution_count": null,
      "outputs": [
        {
          "output_type": "execute_result",
          "data": {
            "text/plain": [
              "              Total  Percent     Type\n",
              "LotFrontage     486    33.29  float64\n",
              "GarageYrBlt     159    10.89  float64\n",
              "MasVnrArea       23     1.58  float64\n",
              "BsmtFullBath      2     0.14  float64\n",
              "BsmtHalfBath      2     0.14  float64\n",
              "TotalBsmtSF       1     0.07  float64\n",
              "BsmtUnfSF         1     0.07  float64\n",
              "BsmtFinSF2        1     0.07  float64\n",
              "GarageCars        1     0.07  float64\n",
              "BsmtFinSF1        1     0.07  float64\n",
              "GarageArea        1     0.07  float64"
            ],
            "text/html": [
              "\n",
              "  <div id=\"df-1b8bdf3b-d89c-4bcb-ab06-7f08ab3e1dd0\">\n",
              "    <div class=\"colab-df-container\">\n",
              "      <div>\n",
              "<style scoped>\n",
              "    .dataframe tbody tr th:only-of-type {\n",
              "        vertical-align: middle;\n",
              "    }\n",
              "\n",
              "    .dataframe tbody tr th {\n",
              "        vertical-align: top;\n",
              "    }\n",
              "\n",
              "    .dataframe thead th {\n",
              "        text-align: right;\n",
              "    }\n",
              "</style>\n",
              "<table border=\"1\" class=\"dataframe\">\n",
              "  <thead>\n",
              "    <tr style=\"text-align: right;\">\n",
              "      <th></th>\n",
              "      <th>Total</th>\n",
              "      <th>Percent</th>\n",
              "      <th>Type</th>\n",
              "    </tr>\n",
              "  </thead>\n",
              "  <tbody>\n",
              "    <tr>\n",
              "      <th>LotFrontage</th>\n",
              "      <td>486</td>\n",
              "      <td>33.29</td>\n",
              "      <td>float64</td>\n",
              "    </tr>\n",
              "    <tr>\n",
              "      <th>GarageYrBlt</th>\n",
              "      <td>159</td>\n",
              "      <td>10.89</td>\n",
              "      <td>float64</td>\n",
              "    </tr>\n",
              "    <tr>\n",
              "      <th>MasVnrArea</th>\n",
              "      <td>23</td>\n",
              "      <td>1.58</td>\n",
              "      <td>float64</td>\n",
              "    </tr>\n",
              "    <tr>\n",
              "      <th>BsmtFullBath</th>\n",
              "      <td>2</td>\n",
              "      <td>0.14</td>\n",
              "      <td>float64</td>\n",
              "    </tr>\n",
              "    <tr>\n",
              "      <th>BsmtHalfBath</th>\n",
              "      <td>2</td>\n",
              "      <td>0.14</td>\n",
              "      <td>float64</td>\n",
              "    </tr>\n",
              "    <tr>\n",
              "      <th>TotalBsmtSF</th>\n",
              "      <td>1</td>\n",
              "      <td>0.07</td>\n",
              "      <td>float64</td>\n",
              "    </tr>\n",
              "    <tr>\n",
              "      <th>BsmtUnfSF</th>\n",
              "      <td>1</td>\n",
              "      <td>0.07</td>\n",
              "      <td>float64</td>\n",
              "    </tr>\n",
              "    <tr>\n",
              "      <th>BsmtFinSF2</th>\n",
              "      <td>1</td>\n",
              "      <td>0.07</td>\n",
              "      <td>float64</td>\n",
              "    </tr>\n",
              "    <tr>\n",
              "      <th>GarageCars</th>\n",
              "      <td>1</td>\n",
              "      <td>0.07</td>\n",
              "      <td>float64</td>\n",
              "    </tr>\n",
              "    <tr>\n",
              "      <th>BsmtFinSF1</th>\n",
              "      <td>1</td>\n",
              "      <td>0.07</td>\n",
              "      <td>float64</td>\n",
              "    </tr>\n",
              "    <tr>\n",
              "      <th>GarageArea</th>\n",
              "      <td>1</td>\n",
              "      <td>0.07</td>\n",
              "      <td>float64</td>\n",
              "    </tr>\n",
              "  </tbody>\n",
              "</table>\n",
              "</div>\n",
              "      <button class=\"colab-df-convert\" onclick=\"convertToInteractive('df-1b8bdf3b-d89c-4bcb-ab06-7f08ab3e1dd0')\"\n",
              "              title=\"Convert this dataframe to an interactive table.\"\n",
              "              style=\"display:none;\">\n",
              "        \n",
              "  <svg xmlns=\"http://www.w3.org/2000/svg\" height=\"24px\"viewBox=\"0 0 24 24\"\n",
              "       width=\"24px\">\n",
              "    <path d=\"M0 0h24v24H0V0z\" fill=\"none\"/>\n",
              "    <path d=\"M18.56 5.44l.94 2.06.94-2.06 2.06-.94-2.06-.94-.94-2.06-.94 2.06-2.06.94zm-11 1L8.5 8.5l.94-2.06 2.06-.94-2.06-.94L8.5 2.5l-.94 2.06-2.06.94zm10 10l.94 2.06.94-2.06 2.06-.94-2.06-.94-.94-2.06-.94 2.06-2.06.94z\"/><path d=\"M17.41 7.96l-1.37-1.37c-.4-.4-.92-.59-1.43-.59-.52 0-1.04.2-1.43.59L10.3 9.45l-7.72 7.72c-.78.78-.78 2.05 0 2.83L4 21.41c.39.39.9.59 1.41.59.51 0 1.02-.2 1.41-.59l7.78-7.78 2.81-2.81c.8-.78.8-2.07 0-2.86zM5.41 20L4 18.59l7.72-7.72 1.47 1.35L5.41 20z\"/>\n",
              "  </svg>\n",
              "      </button>\n",
              "      \n",
              "  <style>\n",
              "    .colab-df-container {\n",
              "      display:flex;\n",
              "      flex-wrap:wrap;\n",
              "      gap: 12px;\n",
              "    }\n",
              "\n",
              "    .colab-df-convert {\n",
              "      background-color: #E8F0FE;\n",
              "      border: none;\n",
              "      border-radius: 50%;\n",
              "      cursor: pointer;\n",
              "      display: none;\n",
              "      fill: #1967D2;\n",
              "      height: 32px;\n",
              "      padding: 0 0 0 0;\n",
              "      width: 32px;\n",
              "    }\n",
              "\n",
              "    .colab-df-convert:hover {\n",
              "      background-color: #E2EBFA;\n",
              "      box-shadow: 0px 1px 2px rgba(60, 64, 67, 0.3), 0px 1px 3px 1px rgba(60, 64, 67, 0.15);\n",
              "      fill: #174EA6;\n",
              "    }\n",
              "\n",
              "    [theme=dark] .colab-df-convert {\n",
              "      background-color: #3B4455;\n",
              "      fill: #D2E3FC;\n",
              "    }\n",
              "\n",
              "    [theme=dark] .colab-df-convert:hover {\n",
              "      background-color: #434B5C;\n",
              "      box-shadow: 0px 1px 3px 1px rgba(0, 0, 0, 0.15);\n",
              "      filter: drop-shadow(0px 1px 2px rgba(0, 0, 0, 0.3));\n",
              "      fill: #FFFFFF;\n",
              "    }\n",
              "  </style>\n",
              "\n",
              "      <script>\n",
              "        const buttonEl =\n",
              "          document.querySelector('#df-1b8bdf3b-d89c-4bcb-ab06-7f08ab3e1dd0 button.colab-df-convert');\n",
              "        buttonEl.style.display =\n",
              "          google.colab.kernel.accessAllowed ? 'block' : 'none';\n",
              "\n",
              "        async function convertToInteractive(key) {\n",
              "          const element = document.querySelector('#df-1b8bdf3b-d89c-4bcb-ab06-7f08ab3e1dd0');\n",
              "          const dataTable =\n",
              "            await google.colab.kernel.invokeFunction('convertToInteractive',\n",
              "                                                     [key], {});\n",
              "          if (!dataTable) return;\n",
              "\n",
              "          const docLinkHtml = 'Like what you see? Visit the ' +\n",
              "            '<a target=\"_blank\" href=https://colab.research.google.com/notebooks/data_table.ipynb>data table notebook</a>'\n",
              "            + ' to learn more about interactive tables.';\n",
              "          element.innerHTML = '';\n",
              "          dataTable['output_type'] = 'display_data';\n",
              "          await google.colab.output.renderOutput(dataTable, element);\n",
              "          const docLink = document.createElement('div');\n",
              "          docLink.innerHTML = docLinkHtml;\n",
              "          element.appendChild(docLink);\n",
              "        }\n",
              "      </script>\n",
              "    </div>\n",
              "  </div>\n",
              "  "
            ]
          },
          "metadata": {},
          "execution_count": 22
        }
      ]
    },
    {
      "cell_type": "code",
      "source": [
        "# Imputación con función fillna por la media en el resto de variables numéricas que quedan con valores nulos.\n",
        "all_data.fillna(all_data.mean(), inplace=True)"
      ],
      "metadata": {
        "id": "N64FGUkqOScr",
        "colab": {
          "base_uri": "https://localhost:8080/"
        },
        "outputId": "41c0eff4-5a8c-4a2c-c689-798458ff1261"
      },
      "execution_count": null,
      "outputs": [
        {
          "output_type": "stream",
          "name": "stderr",
          "text": [
            "/usr/local/lib/python3.7/dist-packages/ipykernel_launcher.py:2: FutureWarning: Dropping of nuisance columns in DataFrame reductions (with 'numeric_only=None') is deprecated; in a future version this will raise TypeError.  Select only valid columns before calling the reduction.\n",
            "  \n"
          ]
        }
      ]
    },
    {
      "cell_type": "code",
      "source": [
        "# Observando última vez valores nulos.\n",
        "\n",
        "total = all_data.isnull().sum().sort_values(ascending = False)[all_data.isnull().sum().sort_values(ascending = False) != 0]\n",
        "percent = round(all_data.isnull().sum().sort_values(ascending = False)/len(train)*100,2)[round(all_data.isnull().sum().sort_values(ascending = False)/len(all_data)*100,2) != 0]\n",
        "data_type = all_data.dtypes.sort_values(ascending = False)[all_data.isnull().sum().sort_values(ascending = False) != 0]\n",
        "pd.concat([total, percent, data_type], axis=1, keys=['Total','Percent','Type'])"
      ],
      "metadata": {
        "id": "elvIv1vlOTFO",
        "colab": {
          "base_uri": "https://localhost:8080/",
          "height": 49
        },
        "outputId": "852b75d3-7b2c-4f63-ccf8-9e32c3f4b3ee"
      },
      "execution_count": null,
      "outputs": [
        {
          "output_type": "execute_result",
          "data": {
            "text/plain": [
              "Empty DataFrame\n",
              "Columns: [Total, Percent, Type]\n",
              "Index: []"
            ],
            "text/html": [
              "\n",
              "  <div id=\"df-80ccc703-32db-4ea0-90a2-29260b8da45e\">\n",
              "    <div class=\"colab-df-container\">\n",
              "      <div>\n",
              "<style scoped>\n",
              "    .dataframe tbody tr th:only-of-type {\n",
              "        vertical-align: middle;\n",
              "    }\n",
              "\n",
              "    .dataframe tbody tr th {\n",
              "        vertical-align: top;\n",
              "    }\n",
              "\n",
              "    .dataframe thead th {\n",
              "        text-align: right;\n",
              "    }\n",
              "</style>\n",
              "<table border=\"1\" class=\"dataframe\">\n",
              "  <thead>\n",
              "    <tr style=\"text-align: right;\">\n",
              "      <th></th>\n",
              "      <th>Total</th>\n",
              "      <th>Percent</th>\n",
              "      <th>Type</th>\n",
              "    </tr>\n",
              "  </thead>\n",
              "  <tbody>\n",
              "  </tbody>\n",
              "</table>\n",
              "</div>\n",
              "      <button class=\"colab-df-convert\" onclick=\"convertToInteractive('df-80ccc703-32db-4ea0-90a2-29260b8da45e')\"\n",
              "              title=\"Convert this dataframe to an interactive table.\"\n",
              "              style=\"display:none;\">\n",
              "        \n",
              "  <svg xmlns=\"http://www.w3.org/2000/svg\" height=\"24px\"viewBox=\"0 0 24 24\"\n",
              "       width=\"24px\">\n",
              "    <path d=\"M0 0h24v24H0V0z\" fill=\"none\"/>\n",
              "    <path d=\"M18.56 5.44l.94 2.06.94-2.06 2.06-.94-2.06-.94-.94-2.06-.94 2.06-2.06.94zm-11 1L8.5 8.5l.94-2.06 2.06-.94-2.06-.94L8.5 2.5l-.94 2.06-2.06.94zm10 10l.94 2.06.94-2.06 2.06-.94-2.06-.94-.94-2.06-.94 2.06-2.06.94z\"/><path d=\"M17.41 7.96l-1.37-1.37c-.4-.4-.92-.59-1.43-.59-.52 0-1.04.2-1.43.59L10.3 9.45l-7.72 7.72c-.78.78-.78 2.05 0 2.83L4 21.41c.39.39.9.59 1.41.59.51 0 1.02-.2 1.41-.59l7.78-7.78 2.81-2.81c.8-.78.8-2.07 0-2.86zM5.41 20L4 18.59l7.72-7.72 1.47 1.35L5.41 20z\"/>\n",
              "  </svg>\n",
              "      </button>\n",
              "      \n",
              "  <style>\n",
              "    .colab-df-container {\n",
              "      display:flex;\n",
              "      flex-wrap:wrap;\n",
              "      gap: 12px;\n",
              "    }\n",
              "\n",
              "    .colab-df-convert {\n",
              "      background-color: #E8F0FE;\n",
              "      border: none;\n",
              "      border-radius: 50%;\n",
              "      cursor: pointer;\n",
              "      display: none;\n",
              "      fill: #1967D2;\n",
              "      height: 32px;\n",
              "      padding: 0 0 0 0;\n",
              "      width: 32px;\n",
              "    }\n",
              "\n",
              "    .colab-df-convert:hover {\n",
              "      background-color: #E2EBFA;\n",
              "      box-shadow: 0px 1px 2px rgba(60, 64, 67, 0.3), 0px 1px 3px 1px rgba(60, 64, 67, 0.15);\n",
              "      fill: #174EA6;\n",
              "    }\n",
              "\n",
              "    [theme=dark] .colab-df-convert {\n",
              "      background-color: #3B4455;\n",
              "      fill: #D2E3FC;\n",
              "    }\n",
              "\n",
              "    [theme=dark] .colab-df-convert:hover {\n",
              "      background-color: #434B5C;\n",
              "      box-shadow: 0px 1px 3px 1px rgba(0, 0, 0, 0.15);\n",
              "      filter: drop-shadow(0px 1px 2px rgba(0, 0, 0, 0.3));\n",
              "      fill: #FFFFFF;\n",
              "    }\n",
              "  </style>\n",
              "\n",
              "      <script>\n",
              "        const buttonEl =\n",
              "          document.querySelector('#df-80ccc703-32db-4ea0-90a2-29260b8da45e button.colab-df-convert');\n",
              "        buttonEl.style.display =\n",
              "          google.colab.kernel.accessAllowed ? 'block' : 'none';\n",
              "\n",
              "        async function convertToInteractive(key) {\n",
              "          const element = document.querySelector('#df-80ccc703-32db-4ea0-90a2-29260b8da45e');\n",
              "          const dataTable =\n",
              "            await google.colab.kernel.invokeFunction('convertToInteractive',\n",
              "                                                     [key], {});\n",
              "          if (!dataTable) return;\n",
              "\n",
              "          const docLinkHtml = 'Like what you see? Visit the ' +\n",
              "            '<a target=\"_blank\" href=https://colab.research.google.com/notebooks/data_table.ipynb>data table notebook</a>'\n",
              "            + ' to learn more about interactive tables.';\n",
              "          element.innerHTML = '';\n",
              "          dataTable['output_type'] = 'display_data';\n",
              "          await google.colab.output.renderOutput(dataTable, element);\n",
              "          const docLink = document.createElement('div');\n",
              "          docLink.innerHTML = docLinkHtml;\n",
              "          element.appendChild(docLink);\n",
              "        }\n",
              "      </script>\n",
              "    </div>\n",
              "  </div>\n",
              "  "
            ]
          },
          "metadata": {},
          "execution_count": 24
        }
      ]
    },
    {
      "cell_type": "markdown",
      "source": [
        "+ **Normalidad de las variables numéricas**"
      ],
      "metadata": {
        "id": "G4F8o_hhw5IK"
      }
    },
    {
      "cell_type": "code",
      "source": [
        "# Preprando datos numéricos para revisión de normalidad de distribución.\n",
        "\n",
        "numerical_feats = all_data.dtypes[all_data.dtypes != \"object\"].index\n",
        "print(\"Cantidad de variables numéricas: \", len(numerical_feats))\n",
        "print('+'*100)\n",
        "print(all_data[numerical_feats].columns)"
      ],
      "metadata": {
        "id": "0Pko8VUi9y3M",
        "colab": {
          "base_uri": "https://localhost:8080/"
        },
        "outputId": "0b7d4b53-4301-455d-d3b5-601fdd4ab815"
      },
      "execution_count": null,
      "outputs": [
        {
          "output_type": "stream",
          "name": "stdout",
          "text": [
            "Cantidad de variables numéricas:  36\n",
            "++++++++++++++++++++++++++++++++++++++++++++++++++++++++++++++++++++++++++++++++++++++++++++++++++++\n",
            "Index(['MSSubClass', 'LotFrontage', 'LotArea', 'OverallQual', 'OverallCond',\n",
            "       'YearBuilt', 'YearRemodAdd', 'MasVnrArea', 'BsmtFinSF1', 'BsmtFinSF2',\n",
            "       'BsmtUnfSF', 'TotalBsmtSF', '1stFlrSF', '2ndFlrSF', 'LowQualFinSF',\n",
            "       'GrLivArea', 'BsmtFullBath', 'BsmtHalfBath', 'FullBath', 'HalfBath',\n",
            "       'BedroomAbvGr', 'KitchenAbvGr', 'TotRmsAbvGrd', 'Fireplaces',\n",
            "       'GarageYrBlt', 'GarageCars', 'GarageArea', 'WoodDeckSF', 'OpenPorchSF',\n",
            "       'EnclosedPorch', '3SsnPorch', 'ScreenPorch', 'PoolArea', 'MiscVal',\n",
            "       'MoSold', 'YrSold'],\n",
            "      dtype='object')\n"
          ]
        }
      ]
    },
    {
      "cell_type": "code",
      "source": [
        "# Normalizando la asimetría de distribución de las variables numéricas (al igual como lo hecho con la variable dependiendte 'SalePrice' al comienzo).\n",
        "\n",
        "skewed_feats = all_data[numerical_feats].apply(lambda x: skew(x)).sort_values(ascending=False)\n",
        "high_skew = skewed_feats[abs(skewed_feats) > 0.5]\n",
        "high_skew"
      ],
      "metadata": {
        "colab": {
          "base_uri": "https://localhost:8080/"
        },
        "id": "x6tJstiHnCu4",
        "outputId": "8ba544b5-4fc8-4adb-ba9f-6ba65105f872"
      },
      "execution_count": null,
      "outputs": [
        {
          "output_type": "execute_result",
          "data": {
            "text/plain": [
              "MiscVal          21.947195\n",
              "PoolArea         16.898328\n",
              "LotArea          12.822431\n",
              "LowQualFinSF     12.088761\n",
              "3SsnPorch        11.376065\n",
              "KitchenAbvGr      4.302254\n",
              "BsmtFinSF2        4.146034\n",
              "EnclosedPorch     4.003891\n",
              "ScreenPorch       3.946694\n",
              "BsmtHalfBath      3.931343\n",
              "MasVnrArea        2.611549\n",
              "OpenPorchSF       2.535114\n",
              "WoodDeckSF        1.842433\n",
              "LotFrontage       1.645574\n",
              "1stFlrSF          1.469604\n",
              "BsmtFinSF1        1.425233\n",
              "MSSubClass        1.375457\n",
              "GrLivArea         1.269358\n",
              "TotalBsmtSF       1.162484\n",
              "BsmtUnfSF         0.919508\n",
              "2ndFlrSF          0.861675\n",
              "TotRmsAbvGrd      0.758367\n",
              "Fireplaces        0.733495\n",
              "HalfBath          0.694566\n",
              "BsmtFullBath      0.623955\n",
              "OverallCond       0.570312\n",
              "YearBuilt        -0.599806\n",
              "dtype: float64"
            ]
          },
          "metadata": {},
          "execution_count": 26
        }
      ]
    },
    {
      "cell_type": "code",
      "source": [
        "# Aplicando función logarítmica a los datos con skew mayor a 0.5\n",
        "\n",
        "for feature in high_skew.index:\n",
        "    all_data[feature] = np.log1p(all_data[feature])"
      ],
      "metadata": {
        "id": "108IcMJJoIb-"
      },
      "execution_count": null,
      "outputs": []
    },
    {
      "cell_type": "markdown",
      "source": [
        "+ **Variables procesadas**"
      ],
      "metadata": {
        "id": "QM7MFVl8xlWJ"
      }
    },
    {
      "cell_type": "code",
      "source": [
        "# Creado nuevas variables.\n",
        "\n",
        "all_data['TotalSF'] = all_data['TotalBsmtSF'] + all_data['1stFlrSF'] + all_data['2ndFlrSF'] # Total metros cuadrados (sótano + primer piso + segundo piso).\n",
        "\n",
        "all_data['TotalBathrooms'] = (all_data['FullBath'] + (all_data['HalfBath'])\n",
        "                          + all_data['BsmtFullBath'] + (all_data['BsmtHalfBath'])) # Total de baños en la casa.\n"
      ],
      "metadata": {
        "id": "3FSiWVKEry69"
      },
      "execution_count": null,
      "outputs": []
    },
    {
      "cell_type": "code",
      "source": [
        "all_data.shape"
      ],
      "metadata": {
        "colab": {
          "base_uri": "https://localhost:8080/"
        },
        "id": "WJ4QPEblwXU_",
        "outputId": "848828ea-6e6d-4a1e-f6aa-de2fc0b5f069"
      },
      "execution_count": null,
      "outputs": [
        {
          "output_type": "execute_result",
          "data": {
            "text/plain": [
              "(2919, 81)"
            ]
          },
          "metadata": {},
          "execution_count": 29
        }
      ]
    },
    {
      "cell_type": "code",
      "source": [
        "# Convirtiendo variables categóricas a dummies.\n",
        "\n",
        "all_data = pd.get_dummies(all_data)\n",
        "all_data.shape"
      ],
      "metadata": {
        "colab": {
          "base_uri": "https://localhost:8080/"
        },
        "id": "l-YLa-6Svzgh",
        "outputId": "78a45897-cd09-4baa-a556-9efa24052933"
      },
      "execution_count": null,
      "outputs": [
        {
          "output_type": "execute_result",
          "data": {
            "text/plain": [
              "(2919, 304)"
            ]
          },
          "metadata": {},
          "execution_count": 30
        }
      ]
    },
    {
      "cell_type": "code",
      "source": [
        "all_data.info()"
      ],
      "metadata": {
        "colab": {
          "base_uri": "https://localhost:8080/"
        },
        "id": "9EkE1l6mNdUP",
        "outputId": "dd778f3b-c40d-45c6-b97f-c0bd4390dbbd"
      },
      "execution_count": null,
      "outputs": [
        {
          "output_type": "stream",
          "name": "stdout",
          "text": [
            "<class 'pandas.core.frame.DataFrame'>\n",
            "RangeIndex: 2919 entries, 0 to 2918\n",
            "Columns: 304 entries, MSSubClass to SaleCondition_Partial\n",
            "dtypes: float64(32), int64(6), uint8(266)\n",
            "memory usage: 1.6 MB\n"
          ]
        }
      ]
    },
    {
      "cell_type": "code",
      "source": [
        "all_data2 = all_data.copy()"
      ],
      "metadata": {
        "id": "4FdLL1tnrWB5"
      },
      "execution_count": null,
      "outputs": []
    },
    {
      "cell_type": "code",
      "source": [
        "all_data2.shape"
      ],
      "metadata": {
        "colab": {
          "base_uri": "https://localhost:8080/"
        },
        "id": "8180HasYNfBX",
        "outputId": "9ebacb93-2280-4b14-b2e9-0607689232d9"
      },
      "execution_count": null,
      "outputs": [
        {
          "output_type": "execute_result",
          "data": {
            "text/plain": [
              "(2919, 304)"
            ]
          },
          "metadata": {},
          "execution_count": 33
        }
      ]
    },
    {
      "cell_type": "code",
      "source": [
        "train.index.max()"
      ],
      "metadata": {
        "colab": {
          "base_uri": "https://localhost:8080/"
        },
        "id": "UJ-hMpbpSmFj",
        "outputId": "84647c13-6ecd-4e93-a363-36e7aaeeb509"
      },
      "execution_count": null,
      "outputs": [
        {
          "output_type": "execute_result",
          "data": {
            "text/plain": [
              "1459"
            ]
          },
          "metadata": {},
          "execution_count": 34
        }
      ]
    },
    {
      "cell_type": "markdown",
      "source": [
        "+ **Cortando la base de datos nuevamente**"
      ],
      "metadata": {
        "id": "AUcjN7jhxs6b"
      }
    },
    {
      "cell_type": "code",
      "source": [
        "train_final = all_data.loc[:train.index.max(), :].copy()\n",
        "test_final = all_data.loc[train.index.max()+1:, :].reset_index(drop=True).copy()"
      ],
      "metadata": {
        "id": "OBfqoHXgSTqG"
      },
      "execution_count": null,
      "outputs": []
    },
    {
      "cell_type": "code",
      "source": [
        "train_final.shape, test_final.shape , y_train.shape"
      ],
      "metadata": {
        "colab": {
          "base_uri": "https://localhost:8080/"
        },
        "id": "yT2M_4P8UnRC",
        "outputId": "123add96-205f-413b-c6b4-0ce441c97755"
      },
      "execution_count": null,
      "outputs": [
        {
          "output_type": "execute_result",
          "data": {
            "text/plain": [
              "((1460, 304), (1459, 304), (1460,))"
            ]
          },
          "metadata": {},
          "execution_count": 81
        }
      ]
    },
    {
      "cell_type": "code",
      "source": [
        "# Creando función de puntaje\n",
        "\n",
        "from sklearn.model_selection import KFold, cross_val_score\n",
        "from sklearn.metrics import mean_squared_error\n",
        "\n",
        "kfolds = KFold(n_splits=10, shuffle=True, random_state=42)\n",
        "\n",
        "\n",
        "# rmsle\n",
        "def rmsle(y, y_predict):\n",
        "    return np.sqrt(mean_squared_error(y, y_predict))\n",
        "\n",
        "\n",
        "# build our model scoring function\n",
        "def cv_rmse(model, X=train_final):\n",
        "    rmse = np.sqrt(-cross_val_score(model, train_final, y_train,\n",
        "                                    scoring=\"neg_mean_squared_error\",\n",
        "                                    cv=kfolds))\n",
        "    return (rmse)"
      ],
      "metadata": {
        "id": "3JIqzfi1dTIO"
      },
      "execution_count": null,
      "outputs": []
    },
    {
      "cell_type": "markdown",
      "source": [
        "+ **Aplicando modelo XGBoost**"
      ],
      "metadata": {
        "id": "_NUSS5UynqvI"
      }
    },
    {
      "cell_type": "code",
      "source": [
        "import xgboost as XGB\n",
        "\n",
        "the_model = XGB.XGBRegressor(colsample_bytree=0.4603, gamma=0.0468,\n",
        "                             learning_rate=0.05, max_depth=3,\n",
        "                             min_child_weight=1.7817, n_estimators=2200,\n",
        "                             reg_alpha=0.4640, reg_lambda=0.8571,\n",
        "                             subsample=0.5213, random_state =7, nthread = -1)\n",
        "the_model.fit(train_final, y_train)"
      ],
      "metadata": {
        "colab": {
          "base_uri": "https://localhost:8080/"
        },
        "id": "bExeJ2vGVWro",
        "outputId": "6de9a31c-7f4c-4169-d5d7-a61109b0d7f8"
      },
      "execution_count": null,
      "outputs": [
        {
          "output_type": "stream",
          "name": "stdout",
          "text": [
            "[08:53:39] WARNING: /workspace/src/objective/regression_obj.cu:152: reg:linear is now deprecated in favor of reg:squarederror.\n"
          ]
        },
        {
          "output_type": "execute_result",
          "data": {
            "text/plain": [
              "XGBRegressor(colsample_bytree=0.4603, gamma=0.0468, learning_rate=0.05,\n",
              "             min_child_weight=1.7817, n_estimators=2200, nthread=-1,\n",
              "             random_state=7, reg_alpha=0.464, reg_lambda=0.8571,\n",
              "             subsample=0.5213)"
            ]
          },
          "metadata": {},
          "execution_count": 37
        }
      ]
    },
    {
      "cell_type": "code",
      "source": [
        "y_predict = np.floor(np.expm1(the_model.predict(test_final)))\n",
        "y_predict"
      ],
      "metadata": {
        "colab": {
          "base_uri": "https://localhost:8080/"
        },
        "id": "7PIqU3f1fBBz",
        "outputId": "9b5d1b4d-93f6-4bc5-8662-012ef68f0f25"
      },
      "execution_count": null,
      "outputs": [
        {
          "output_type": "execute_result",
          "data": {
            "text/plain": [
              "array([126627., 162856., 183503., ..., 158748., 118413., 232064.],\n",
              "      dtype=float32)"
            ]
          },
          "metadata": {},
          "execution_count": 97
        }
      ]
    },
    {
      "cell_type": "code",
      "source": [
        "y_predict.shape"
      ],
      "metadata": {
        "colab": {
          "base_uri": "https://localhost:8080/"
        },
        "id": "pJw3sJQOZy0V",
        "outputId": "7c7b2275-e5d2-475a-f203-b32f82376130"
      },
      "execution_count": null,
      "outputs": [
        {
          "output_type": "execute_result",
          "data": {
            "text/plain": [
              "(1459,)"
            ]
          },
          "metadata": {},
          "execution_count": 93
        }
      ]
    },
    {
      "cell_type": "code",
      "source": [
        "score =cv_rmse(the_model)\n",
        "print(\"Xgboost score: {:.4f} ({:.4f})\\n\".format(score.mean(), score.std()) )"
      ],
      "metadata": {
        "colab": {
          "base_uri": "https://localhost:8080/"
        },
        "id": "c39iXOw9c-G5",
        "outputId": "a30b3a3c-2de7-4d10-e4b7-bad8eaf88745"
      },
      "execution_count": null,
      "outputs": [
        {
          "output_type": "stream",
          "name": "stdout",
          "text": [
            "[10:40:56] WARNING: /workspace/src/objective/regression_obj.cu:152: reg:linear is now deprecated in favor of reg:squarederror.\n",
            "[10:41:09] WARNING: /workspace/src/objective/regression_obj.cu:152: reg:linear is now deprecated in favor of reg:squarederror.\n",
            "[10:41:19] WARNING: /workspace/src/objective/regression_obj.cu:152: reg:linear is now deprecated in favor of reg:squarederror.\n",
            "[10:41:30] WARNING: /workspace/src/objective/regression_obj.cu:152: reg:linear is now deprecated in favor of reg:squarederror.\n",
            "[10:41:40] WARNING: /workspace/src/objective/regression_obj.cu:152: reg:linear is now deprecated in favor of reg:squarederror.\n",
            "[10:41:56] WARNING: /workspace/src/objective/regression_obj.cu:152: reg:linear is now deprecated in favor of reg:squarederror.\n",
            "[10:42:06] WARNING: /workspace/src/objective/regression_obj.cu:152: reg:linear is now deprecated in favor of reg:squarederror.\n",
            "[10:42:17] WARNING: /workspace/src/objective/regression_obj.cu:152: reg:linear is now deprecated in favor of reg:squarederror.\n",
            "[10:42:31] WARNING: /workspace/src/objective/regression_obj.cu:152: reg:linear is now deprecated in favor of reg:squarederror.\n",
            "[10:42:43] WARNING: /workspace/src/objective/regression_obj.cu:152: reg:linear is now deprecated in favor of reg:squarederror.\n",
            "Xgboost score: 0.1223 (0.0214)\n",
            "\n"
          ]
        }
      ]
    },
    {
      "cell_type": "code",
      "source": [
        "r2_score(y_train, the_model.predict(train_final))"
      ],
      "metadata": {
        "colab": {
          "base_uri": "https://localhost:8080/"
        },
        "id": "hvPsa5dALAoR",
        "outputId": "47272c8b-2a1f-41e5-b6ca-1ffad3bcdb73"
      },
      "execution_count": null,
      "outputs": [
        {
          "output_type": "execute_result",
          "data": {
            "text/plain": [
              "0.9610424086686283"
            ]
          },
          "metadata": {},
          "execution_count": 96
        }
      ]
    },
    {
      "cell_type": "markdown",
      "source": [
        "+ **Guardando resultados en archivo**"
      ],
      "metadata": {
        "id": "ycl8BXeWx6Da"
      }
    },
    {
      "cell_type": "code",
      "source": [
        "sub = pd.DataFrame()\n",
        "sub['Id'] = test_ids\n",
        "sub['SalePrice'] = y_predict\n",
        "sub.head()"
      ],
      "metadata": {
        "colab": {
          "base_uri": "https://localhost:8080/",
          "height": 206
        },
        "id": "sHnqunZqd456",
        "outputId": "3b727a58-cdf4-4cbd-a6b9-851e5e248084"
      },
      "execution_count": null,
      "outputs": [
        {
          "output_type": "execute_result",
          "data": {
            "text/plain": [
              "     Id  SalePrice\n",
              "0  1461   126627.0\n",
              "1  1462   162856.0\n",
              "2  1463   183503.0\n",
              "3  1464   193805.0\n",
              "4  1465   190529.0"
            ],
            "text/html": [
              "\n",
              "  <div id=\"df-4c3bca56-d04d-4868-8bfd-53faaa8e0acb\">\n",
              "    <div class=\"colab-df-container\">\n",
              "      <div>\n",
              "<style scoped>\n",
              "    .dataframe tbody tr th:only-of-type {\n",
              "        vertical-align: middle;\n",
              "    }\n",
              "\n",
              "    .dataframe tbody tr th {\n",
              "        vertical-align: top;\n",
              "    }\n",
              "\n",
              "    .dataframe thead th {\n",
              "        text-align: right;\n",
              "    }\n",
              "</style>\n",
              "<table border=\"1\" class=\"dataframe\">\n",
              "  <thead>\n",
              "    <tr style=\"text-align: right;\">\n",
              "      <th></th>\n",
              "      <th>Id</th>\n",
              "      <th>SalePrice</th>\n",
              "    </tr>\n",
              "  </thead>\n",
              "  <tbody>\n",
              "    <tr>\n",
              "      <th>0</th>\n",
              "      <td>1461</td>\n",
              "      <td>126627.0</td>\n",
              "    </tr>\n",
              "    <tr>\n",
              "      <th>1</th>\n",
              "      <td>1462</td>\n",
              "      <td>162856.0</td>\n",
              "    </tr>\n",
              "    <tr>\n",
              "      <th>2</th>\n",
              "      <td>1463</td>\n",
              "      <td>183503.0</td>\n",
              "    </tr>\n",
              "    <tr>\n",
              "      <th>3</th>\n",
              "      <td>1464</td>\n",
              "      <td>193805.0</td>\n",
              "    </tr>\n",
              "    <tr>\n",
              "      <th>4</th>\n",
              "      <td>1465</td>\n",
              "      <td>190529.0</td>\n",
              "    </tr>\n",
              "  </tbody>\n",
              "</table>\n",
              "</div>\n",
              "      <button class=\"colab-df-convert\" onclick=\"convertToInteractive('df-4c3bca56-d04d-4868-8bfd-53faaa8e0acb')\"\n",
              "              title=\"Convert this dataframe to an interactive table.\"\n",
              "              style=\"display:none;\">\n",
              "        \n",
              "  <svg xmlns=\"http://www.w3.org/2000/svg\" height=\"24px\"viewBox=\"0 0 24 24\"\n",
              "       width=\"24px\">\n",
              "    <path d=\"M0 0h24v24H0V0z\" fill=\"none\"/>\n",
              "    <path d=\"M18.56 5.44l.94 2.06.94-2.06 2.06-.94-2.06-.94-.94-2.06-.94 2.06-2.06.94zm-11 1L8.5 8.5l.94-2.06 2.06-.94-2.06-.94L8.5 2.5l-.94 2.06-2.06.94zm10 10l.94 2.06.94-2.06 2.06-.94-2.06-.94-.94-2.06-.94 2.06-2.06.94z\"/><path d=\"M17.41 7.96l-1.37-1.37c-.4-.4-.92-.59-1.43-.59-.52 0-1.04.2-1.43.59L10.3 9.45l-7.72 7.72c-.78.78-.78 2.05 0 2.83L4 21.41c.39.39.9.59 1.41.59.51 0 1.02-.2 1.41-.59l7.78-7.78 2.81-2.81c.8-.78.8-2.07 0-2.86zM5.41 20L4 18.59l7.72-7.72 1.47 1.35L5.41 20z\"/>\n",
              "  </svg>\n",
              "      </button>\n",
              "      \n",
              "  <style>\n",
              "    .colab-df-container {\n",
              "      display:flex;\n",
              "      flex-wrap:wrap;\n",
              "      gap: 12px;\n",
              "    }\n",
              "\n",
              "    .colab-df-convert {\n",
              "      background-color: #E8F0FE;\n",
              "      border: none;\n",
              "      border-radius: 50%;\n",
              "      cursor: pointer;\n",
              "      display: none;\n",
              "      fill: #1967D2;\n",
              "      height: 32px;\n",
              "      padding: 0 0 0 0;\n",
              "      width: 32px;\n",
              "    }\n",
              "\n",
              "    .colab-df-convert:hover {\n",
              "      background-color: #E2EBFA;\n",
              "      box-shadow: 0px 1px 2px rgba(60, 64, 67, 0.3), 0px 1px 3px 1px rgba(60, 64, 67, 0.15);\n",
              "      fill: #174EA6;\n",
              "    }\n",
              "\n",
              "    [theme=dark] .colab-df-convert {\n",
              "      background-color: #3B4455;\n",
              "      fill: #D2E3FC;\n",
              "    }\n",
              "\n",
              "    [theme=dark] .colab-df-convert:hover {\n",
              "      background-color: #434B5C;\n",
              "      box-shadow: 0px 1px 3px 1px rgba(0, 0, 0, 0.15);\n",
              "      filter: drop-shadow(0px 1px 2px rgba(0, 0, 0, 0.3));\n",
              "      fill: #FFFFFF;\n",
              "    }\n",
              "  </style>\n",
              "\n",
              "      <script>\n",
              "        const buttonEl =\n",
              "          document.querySelector('#df-4c3bca56-d04d-4868-8bfd-53faaa8e0acb button.colab-df-convert');\n",
              "        buttonEl.style.display =\n",
              "          google.colab.kernel.accessAllowed ? 'block' : 'none';\n",
              "\n",
              "        async function convertToInteractive(key) {\n",
              "          const element = document.querySelector('#df-4c3bca56-d04d-4868-8bfd-53faaa8e0acb');\n",
              "          const dataTable =\n",
              "            await google.colab.kernel.invokeFunction('convertToInteractive',\n",
              "                                                     [key], {});\n",
              "          if (!dataTable) return;\n",
              "\n",
              "          const docLinkHtml = 'Like what you see? Visit the ' +\n",
              "            '<a target=\"_blank\" href=https://colab.research.google.com/notebooks/data_table.ipynb>data table notebook</a>'\n",
              "            + ' to learn more about interactive tables.';\n",
              "          element.innerHTML = '';\n",
              "          dataTable['output_type'] = 'display_data';\n",
              "          await google.colab.output.renderOutput(dataTable, element);\n",
              "          const docLink = document.createElement('div');\n",
              "          docLink.innerHTML = docLinkHtml;\n",
              "          element.appendChild(docLink);\n",
              "        }\n",
              "      </script>\n",
              "    </div>\n",
              "  </div>\n",
              "  "
            ]
          },
          "metadata": {},
          "execution_count": 59
        }
      ]
    },
    {
      "cell_type": "code",
      "source": [
        "sub.to_csv('cr_submission.csv',index=False)"
      ],
      "metadata": {
        "id": "d4OD92DAlapx"
      },
      "execution_count": null,
      "outputs": []
    },
    {
      "cell_type": "markdown",
      "source": [
        "\n",
        "Para cumplir con el objetivo de la competencia en Kaggle, elegí utilizar el modelo XGBoost. Después de cargar los resultados en la plataforma, obtuve la posición número 456 de 4339 participantes. El código que utilicé contribuyó al 11% del total."
      ],
      "metadata": {
        "id": "FnPkIW3NSPWq"
      }
    }
  ]
}
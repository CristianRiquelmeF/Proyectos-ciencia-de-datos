{
  "nbformat": 4,
  "nbformat_minor": 0,
  "metadata": {
    "colab": {
      "provenance": [],
      "authorship_tag": "ABX9TyNE6YNKo6KOtPczeKxHiug/",
      "include_colab_link": true
    },
    "kernelspec": {
      "name": "python3",
      "display_name": "Python 3"
    },
    "language_info": {
      "name": "python"
    }
  },
  "cells": [
    {
      "cell_type": "markdown",
      "metadata": {
        "id": "view-in-github",
        "colab_type": "text"
      },
      "source": [
        "<a href=\"https://colab.research.google.com/github/CristianRiquelmeF/Ciencia-de-datos/blob/main/Trabajo2/Modelos_de_clasificaci%C3%B3n_aplicados_en_CASEN_2017.ipynb\" target=\"_parent\"><img src=\"https://colab.research.google.com/assets/colab-badge.svg\" alt=\"Open In Colab\"/></a>"
      ]
    },
    {
      "cell_type": "markdown",
      "source": [
        "**Carga de librerías y base de datos**"
      ],
      "metadata": {
        "id": "ipm1WemRGXzB"
      }
    },
    {
      "cell_type": "code",
      "source": [
        "import numpy as np\n",
        "import pandas as pd\n",
        "import matplotlib.pyplot as plt\n",
        "import seaborn as sns\n",
        "\n",
        "from sklearn.metrics import confusion_matrix\n",
        "from sklearn.metrics import classification_report\n",
        "\n",
        "\n",
        "from pylab import rcParams\n",
        "\n",
        "from sklearn.linear_model import LogisticRegression\n",
        "from sklearn.tree import DecisionTreeClassifier\n",
        "from sklearn.naive_bayes import GaussianNB\n",
        "from sklearn import metrics\n",
        "from sklearn.metrics import recall_score , classification_report , confusion_matrix  ,roc_curve , roc_auc_score , accuracy_score\n",
        "from sklearn.metrics import precision_recall_curve , auc ,f1_score , plot_confusion_matrix , precision_score , recall_score\n",
        "\n",
        "\n",
        "from imblearn.under_sampling import NearMiss\n",
        "from imblearn.over_sampling import RandomOverSampler\n",
        "from imblearn.combine import SMOTETomek\n",
        "\n",
        "\n",
        "from collections import Counter"
      ],
      "metadata": {
        "id": "QzJX-Y90oxAU"
      },
      "execution_count": null,
      "outputs": []
    },
    {
      "cell_type": "code",
      "source": [
        "from google.colab import drive\n",
        "drive.mount('/content/drive')"
      ],
      "metadata": {
        "colab": {
          "base_uri": "https://localhost:8080/"
        },
        "id": "E0Y9h8A5pRo_",
        "outputId": "8747027f-a7e0-4ea7-aad1-23e3dd42aa0f"
      },
      "execution_count": null,
      "outputs": [
        {
          "output_type": "stream",
          "name": "stdout",
          "text": [
            "Mounted at /content/drive\n"
          ]
        }
      ]
    },
    {
      "cell_type": "markdown",
      "source": [
        "+ **Presentación y objetivos**\n",
        "A continuación se realizará un análisis exploratorio aplicado a la \"La Encuesta de Caracterización Socioeconómica Nacional\" (CASEN) del año 2017.  Las variables seleccionadas para la evaluación serán:\n",
        "1. Sexo [sexo]\n",
        "2. Edad [edad]\n",
        "3. Estado civil [ecivil]\n",
        "4. Escolaridad [esc]\n",
        "5. Nivel educacional [educ]\n",
        "6. Dependencia administrativa [depen]\n",
        "7. Condición de actividad [activ]\n",
        "8. Indicador de materialidad [indmat]\n",
        "9. Indicador de Saneamiento[indsan]\n",
        "10. Calidad global de la vivienda [calglobviv]\n",
        "11. Hacinamiento [hacinamiento]\n",
        "12. Sistema de salud previsional [s12]\n",
        "13. Tipo de contrato [o16]\n",
        "14. Empleado[o1]\n",
        "15. Ocupación u Oficio[oficio1]\n",
        "16. Ingreso Total[ytot]\n",
        "\n",
        "La variable dependiente será: pobreza.\n",
        "\n",
        "Luego, se procederá a aplicar tres modelos de clasificación supervisada diferentes en Machine Learning: Regresión logística, Naive Bayes y Decision Tree Classifier. Para evaluar el rendimiento de cada modelo, se utilizará una matriz de confusión que mostrará los resultados de los indicadores: precision, recall y f1-score; además, se tendrá en cuenta la validación cruzada."
      ],
      "metadata": {
        "id": "EUJnFddKHMOF"
      }
    },
    {
      "cell_type": "markdown",
      "source": [
        "## **Exploración preliminar de la base de datos** ##"
      ],
      "metadata": {
        "id": "ABK8-dMy6tG3"
      }
    },
    {
      "cell_type": "code",
      "source": [
        "data= pd.read_csv(\"/content/drive/MyDrive/BBDD/CASEN_2017_select.csv\", encoding=\"latin-1\", sep=\",\")\n",
        "data.head()"
      ],
      "metadata": {
        "colab": {
          "base_uri": "https://localhost:8080/",
          "height": 565
        },
        "id": "-icOpZ_Op2b9",
        "outputId": "d65050d2-c5d5-4a86-98d3-68f60bfa8b2a"
      },
      "execution_count": null,
      "outputs": [
        {
          "output_type": "execute_result",
          "data": {
            "text/plain": [
              "          folio    sexo  edad  \\\n",
              "0  110110020201   Mujer    56   \n",
              "1  110110020301   Mujer    21   \n",
              "2  110110020401  Hombre    24   \n",
              "3  110110020401  Hombre    28   \n",
              "4  110110020501  Hombre    26   \n",
              "\n",
              "                                            ecivil  o1  \\\n",
              "0                                       Soltero(a)  Sí   \n",
              "1                                       Soltero(a)  Sí   \n",
              "2  Conviviente o pareja sin acuerdo de unión civil  Sí   \n",
              "3  Conviviente o pareja sin acuerdo de unión civil  Sí   \n",
              "4                                        Casado(a)  No   \n",
              "\n",
              "                                             oficio1               o16  \\\n",
              "0                         Trabajadores no calificado               NaN   \n",
              "1                         Trabajadores no calificado        Plazo fijo   \n",
              "2  Trabajadores de los servicios y vendedores de ...        Plazo fijo   \n",
              "3  Trabajadores de los servicios y vendedores de ...        Plazo fijo   \n",
              "4                         Trabajadores no calificado  Plazo indefinido   \n",
              "\n",
              "                              s12      ytot    pobreza   esc  \\\n",
              "0                         No sabe  250000.0  No pobres  12.0   \n",
              "1            Ninguno (Particular)  211091.0  No pobres   7.0   \n",
              "2                         No sabe  281750.0  No pobres  12.0   \n",
              "3                         No sabe  311750.0  No pobres  12.0   \n",
              "4  Sistema Público FONASA Grupo B  341667.0  No pobres  15.0   \n",
              "\n",
              "                              educ depen     activ              indmat  \\\n",
              "0                 M. Hum. Completa   NaN  Ocupados  Vivienda Aceptable   \n",
              "1                    Básica Incom.   NaN  Ocupados  Vivienda Aceptable   \n",
              "2                 M. Hum. Completa   NaN  Ocupados  Vivienda Aceptable   \n",
              "3                 M. Hum. Completa   NaN  Ocupados  Vivienda Aceptable   \n",
              "4  Técnico Nivel Superior Completo   NaN  Ocupados  Vivienda Aceptable   \n",
              "\n",
              "        indsan   calglobviv                     hacinamiento  \n",
              "0  Deficitario  Recuperable  Sin hacinamiento (2,49 y menos)  \n",
              "1    Aceptable    Aceptable  Sin hacinamiento (2,49 y menos)  \n",
              "2    Aceptable    Aceptable  Sin hacinamiento (2,49 y menos)  \n",
              "3    Aceptable    Aceptable  Sin hacinamiento (2,49 y menos)  \n",
              "4  Deficitario  Recuperable  Sin hacinamiento (2,49 y menos)  "
            ],
            "text/html": [
              "\n",
              "  <div id=\"df-b98e5266-10a1-44b9-983d-4d699b00138a\">\n",
              "    <div class=\"colab-df-container\">\n",
              "      <div>\n",
              "<style scoped>\n",
              "    .dataframe tbody tr th:only-of-type {\n",
              "        vertical-align: middle;\n",
              "    }\n",
              "\n",
              "    .dataframe tbody tr th {\n",
              "        vertical-align: top;\n",
              "    }\n",
              "\n",
              "    .dataframe thead th {\n",
              "        text-align: right;\n",
              "    }\n",
              "</style>\n",
              "<table border=\"1\" class=\"dataframe\">\n",
              "  <thead>\n",
              "    <tr style=\"text-align: right;\">\n",
              "      <th></th>\n",
              "      <th>folio</th>\n",
              "      <th>sexo</th>\n",
              "      <th>edad</th>\n",
              "      <th>ecivil</th>\n",
              "      <th>o1</th>\n",
              "      <th>oficio1</th>\n",
              "      <th>o16</th>\n",
              "      <th>s12</th>\n",
              "      <th>ytot</th>\n",
              "      <th>pobreza</th>\n",
              "      <th>esc</th>\n",
              "      <th>educ</th>\n",
              "      <th>depen</th>\n",
              "      <th>activ</th>\n",
              "      <th>indmat</th>\n",
              "      <th>indsan</th>\n",
              "      <th>calglobviv</th>\n",
              "      <th>hacinamiento</th>\n",
              "    </tr>\n",
              "  </thead>\n",
              "  <tbody>\n",
              "    <tr>\n",
              "      <th>0</th>\n",
              "      <td>110110020201</td>\n",
              "      <td>Mujer</td>\n",
              "      <td>56</td>\n",
              "      <td>Soltero(a)</td>\n",
              "      <td>Sí</td>\n",
              "      <td>Trabajadores no calificado</td>\n",
              "      <td>NaN</td>\n",
              "      <td>No sabe</td>\n",
              "      <td>250000.0</td>\n",
              "      <td>No pobres</td>\n",
              "      <td>12.0</td>\n",
              "      <td>M. Hum. Completa</td>\n",
              "      <td>NaN</td>\n",
              "      <td>Ocupados</td>\n",
              "      <td>Vivienda Aceptable</td>\n",
              "      <td>Deficitario</td>\n",
              "      <td>Recuperable</td>\n",
              "      <td>Sin hacinamiento (2,49 y menos)</td>\n",
              "    </tr>\n",
              "    <tr>\n",
              "      <th>1</th>\n",
              "      <td>110110020301</td>\n",
              "      <td>Mujer</td>\n",
              "      <td>21</td>\n",
              "      <td>Soltero(a)</td>\n",
              "      <td>Sí</td>\n",
              "      <td>Trabajadores no calificado</td>\n",
              "      <td>Plazo fijo</td>\n",
              "      <td>Ninguno (Particular)</td>\n",
              "      <td>211091.0</td>\n",
              "      <td>No pobres</td>\n",
              "      <td>7.0</td>\n",
              "      <td>Básica Incom.</td>\n",
              "      <td>NaN</td>\n",
              "      <td>Ocupados</td>\n",
              "      <td>Vivienda Aceptable</td>\n",
              "      <td>Aceptable</td>\n",
              "      <td>Aceptable</td>\n",
              "      <td>Sin hacinamiento (2,49 y menos)</td>\n",
              "    </tr>\n",
              "    <tr>\n",
              "      <th>2</th>\n",
              "      <td>110110020401</td>\n",
              "      <td>Hombre</td>\n",
              "      <td>24</td>\n",
              "      <td>Conviviente o pareja sin acuerdo de unión civil</td>\n",
              "      <td>Sí</td>\n",
              "      <td>Trabajadores de los servicios y vendedores de ...</td>\n",
              "      <td>Plazo fijo</td>\n",
              "      <td>No sabe</td>\n",
              "      <td>281750.0</td>\n",
              "      <td>No pobres</td>\n",
              "      <td>12.0</td>\n",
              "      <td>M. Hum. Completa</td>\n",
              "      <td>NaN</td>\n",
              "      <td>Ocupados</td>\n",
              "      <td>Vivienda Aceptable</td>\n",
              "      <td>Aceptable</td>\n",
              "      <td>Aceptable</td>\n",
              "      <td>Sin hacinamiento (2,49 y menos)</td>\n",
              "    </tr>\n",
              "    <tr>\n",
              "      <th>3</th>\n",
              "      <td>110110020401</td>\n",
              "      <td>Hombre</td>\n",
              "      <td>28</td>\n",
              "      <td>Conviviente o pareja sin acuerdo de unión civil</td>\n",
              "      <td>Sí</td>\n",
              "      <td>Trabajadores de los servicios y vendedores de ...</td>\n",
              "      <td>Plazo fijo</td>\n",
              "      <td>No sabe</td>\n",
              "      <td>311750.0</td>\n",
              "      <td>No pobres</td>\n",
              "      <td>12.0</td>\n",
              "      <td>M. Hum. Completa</td>\n",
              "      <td>NaN</td>\n",
              "      <td>Ocupados</td>\n",
              "      <td>Vivienda Aceptable</td>\n",
              "      <td>Aceptable</td>\n",
              "      <td>Aceptable</td>\n",
              "      <td>Sin hacinamiento (2,49 y menos)</td>\n",
              "    </tr>\n",
              "    <tr>\n",
              "      <th>4</th>\n",
              "      <td>110110020501</td>\n",
              "      <td>Hombre</td>\n",
              "      <td>26</td>\n",
              "      <td>Casado(a)</td>\n",
              "      <td>No</td>\n",
              "      <td>Trabajadores no calificado</td>\n",
              "      <td>Plazo indefinido</td>\n",
              "      <td>Sistema Público FONASA Grupo B</td>\n",
              "      <td>341667.0</td>\n",
              "      <td>No pobres</td>\n",
              "      <td>15.0</td>\n",
              "      <td>Técnico Nivel Superior Completo</td>\n",
              "      <td>NaN</td>\n",
              "      <td>Ocupados</td>\n",
              "      <td>Vivienda Aceptable</td>\n",
              "      <td>Deficitario</td>\n",
              "      <td>Recuperable</td>\n",
              "      <td>Sin hacinamiento (2,49 y menos)</td>\n",
              "    </tr>\n",
              "  </tbody>\n",
              "</table>\n",
              "</div>\n",
              "      <button class=\"colab-df-convert\" onclick=\"convertToInteractive('df-b98e5266-10a1-44b9-983d-4d699b00138a')\"\n",
              "              title=\"Convert this dataframe to an interactive table.\"\n",
              "              style=\"display:none;\">\n",
              "        \n",
              "  <svg xmlns=\"http://www.w3.org/2000/svg\" height=\"24px\"viewBox=\"0 0 24 24\"\n",
              "       width=\"24px\">\n",
              "    <path d=\"M0 0h24v24H0V0z\" fill=\"none\"/>\n",
              "    <path d=\"M18.56 5.44l.94 2.06.94-2.06 2.06-.94-2.06-.94-.94-2.06-.94 2.06-2.06.94zm-11 1L8.5 8.5l.94-2.06 2.06-.94-2.06-.94L8.5 2.5l-.94 2.06-2.06.94zm10 10l.94 2.06.94-2.06 2.06-.94-2.06-.94-.94-2.06-.94 2.06-2.06.94z\"/><path d=\"M17.41 7.96l-1.37-1.37c-.4-.4-.92-.59-1.43-.59-.52 0-1.04.2-1.43.59L10.3 9.45l-7.72 7.72c-.78.78-.78 2.05 0 2.83L4 21.41c.39.39.9.59 1.41.59.51 0 1.02-.2 1.41-.59l7.78-7.78 2.81-2.81c.8-.78.8-2.07 0-2.86zM5.41 20L4 18.59l7.72-7.72 1.47 1.35L5.41 20z\"/>\n",
              "  </svg>\n",
              "      </button>\n",
              "      \n",
              "  <style>\n",
              "    .colab-df-container {\n",
              "      display:flex;\n",
              "      flex-wrap:wrap;\n",
              "      gap: 12px;\n",
              "    }\n",
              "\n",
              "    .colab-df-convert {\n",
              "      background-color: #E8F0FE;\n",
              "      border: none;\n",
              "      border-radius: 50%;\n",
              "      cursor: pointer;\n",
              "      display: none;\n",
              "      fill: #1967D2;\n",
              "      height: 32px;\n",
              "      padding: 0 0 0 0;\n",
              "      width: 32px;\n",
              "    }\n",
              "\n",
              "    .colab-df-convert:hover {\n",
              "      background-color: #E2EBFA;\n",
              "      box-shadow: 0px 1px 2px rgba(60, 64, 67, 0.3), 0px 1px 3px 1px rgba(60, 64, 67, 0.15);\n",
              "      fill: #174EA6;\n",
              "    }\n",
              "\n",
              "    [theme=dark] .colab-df-convert {\n",
              "      background-color: #3B4455;\n",
              "      fill: #D2E3FC;\n",
              "    }\n",
              "\n",
              "    [theme=dark] .colab-df-convert:hover {\n",
              "      background-color: #434B5C;\n",
              "      box-shadow: 0px 1px 3px 1px rgba(0, 0, 0, 0.15);\n",
              "      filter: drop-shadow(0px 1px 2px rgba(0, 0, 0, 0.3));\n",
              "      fill: #FFFFFF;\n",
              "    }\n",
              "  </style>\n",
              "\n",
              "      <script>\n",
              "        const buttonEl =\n",
              "          document.querySelector('#df-b98e5266-10a1-44b9-983d-4d699b00138a button.colab-df-convert');\n",
              "        buttonEl.style.display =\n",
              "          google.colab.kernel.accessAllowed ? 'block' : 'none';\n",
              "\n",
              "        async function convertToInteractive(key) {\n",
              "          const element = document.querySelector('#df-b98e5266-10a1-44b9-983d-4d699b00138a');\n",
              "          const dataTable =\n",
              "            await google.colab.kernel.invokeFunction('convertToInteractive',\n",
              "                                                     [key], {});\n",
              "          if (!dataTable) return;\n",
              "\n",
              "          const docLinkHtml = 'Like what you see? Visit the ' +\n",
              "            '<a target=\"_blank\" href=https://colab.research.google.com/notebooks/data_table.ipynb>data table notebook</a>'\n",
              "            + ' to learn more about interactive tables.';\n",
              "          element.innerHTML = '';\n",
              "          dataTable['output_type'] = 'display_data';\n",
              "          await google.colab.output.renderOutput(dataTable, element);\n",
              "          const docLink = document.createElement('div');\n",
              "          docLink.innerHTML = docLinkHtml;\n",
              "          element.appendChild(docLink);\n",
              "        }\n",
              "      </script>\n",
              "    </div>\n",
              "  </div>\n",
              "  "
            ]
          },
          "metadata": {},
          "execution_count": 3
        }
      ]
    },
    {
      "cell_type": "code",
      "source": [
        "data.shape"
      ],
      "metadata": {
        "colab": {
          "base_uri": "https://localhost:8080/"
        },
        "id": "1qIdUVwWdx48",
        "outputId": "4bc5087e-95fc-406e-e9cc-44bb4864afa9"
      },
      "execution_count": null,
      "outputs": [
        {
          "output_type": "execute_result",
          "data": {
            "text/plain": [
              "(216439, 18)"
            ]
          },
          "metadata": {},
          "execution_count": 4
        }
      ]
    },
    {
      "cell_type": "code",
      "source": [
        "#Registrando conteo inicial de la variable objetivo antes de procesar la data.\n",
        "data['pobreza'].value_counts()"
      ],
      "metadata": {
        "colab": {
          "base_uri": "https://localhost:8080/"
        },
        "id": "g7t-99H8awN-",
        "outputId": "54cc2465-5006-42bf-e67d-bcfc7f6ba592"
      },
      "execution_count": null,
      "outputs": [
        {
          "output_type": "execute_result",
          "data": {
            "text/plain": [
              "No pobres             195357\n",
              "Pobres no extremos     15260\n",
              "Pobres extremos         5614\n",
              "Name: pobreza, dtype: int64"
            ]
          },
          "metadata": {},
          "execution_count": 5
        }
      ]
    },
    {
      "cell_type": "code",
      "source": [
        "data.info()"
      ],
      "metadata": {
        "colab": {
          "base_uri": "https://localhost:8080/"
        },
        "id": "VEFaCjwxhzZT",
        "outputId": "54bd82c7-4dca-46c3-c7d6-7e3db264e2cd"
      },
      "execution_count": null,
      "outputs": [
        {
          "output_type": "stream",
          "name": "stdout",
          "text": [
            "<class 'pandas.core.frame.DataFrame'>\n",
            "RangeIndex: 216439 entries, 0 to 216438\n",
            "Data columns (total 18 columns):\n",
            " #   Column        Non-Null Count   Dtype  \n",
            "---  ------        --------------   -----  \n",
            " 0   folio         216439 non-null  int64  \n",
            " 1   sexo          216439 non-null  object \n",
            " 2   edad          216439 non-null  int64  \n",
            " 3   ecivil        216439 non-null  object \n",
            " 4   o1            175076 non-null  object \n",
            " 5   oficio1       92417 non-null   object \n",
            " 6   o16           68630 non-null   object \n",
            " 7   s12           216439 non-null  object \n",
            " 8   ytot          144706 non-null  float64\n",
            " 9   pobreza       216231 non-null  object \n",
            " 10  esc           174058 non-null  float64\n",
            " 11  educ          216439 non-null  object \n",
            " 12  depen         58122 non-null   object \n",
            " 13  activ         175076 non-null  object \n",
            " 14  indmat        216439 non-null  object \n",
            " 15  indsan        216439 non-null  object \n",
            " 16  calglobviv    216439 non-null  object \n",
            " 17  hacinamiento  216439 non-null  object \n",
            "dtypes: float64(2), int64(2), object(14)\n",
            "memory usage: 29.7+ MB\n"
          ]
        }
      ]
    },
    {
      "cell_type": "code",
      "source": [
        "data.nunique().sort_values()"
      ],
      "metadata": {
        "colab": {
          "base_uri": "https://localhost:8080/"
        },
        "id": "7jrNoCVKXUdH",
        "outputId": "943cbeeb-ab33-4e99-f9a9-61c0383c0650"
      },
      "execution_count": null,
      "outputs": [
        {
          "output_type": "execute_result",
          "data": {
            "text/plain": [
              "sexo                2\n",
              "o1                  2\n",
              "o16                 3\n",
              "pobreza             3\n",
              "activ               3\n",
              "indsan              3\n",
              "calglobviv          4\n",
              "indmat              4\n",
              "hacinamiento        5\n",
              "ecivil              8\n",
              "s12                10\n",
              "oficio1            11\n",
              "depen              12\n",
              "educ               14\n",
              "esc                23\n",
              "edad              108\n",
              "ytot            27028\n",
              "folio           70948\n",
              "dtype: int64"
            ]
          },
          "metadata": {},
          "execution_count": 12
        }
      ]
    },
    {
      "cell_type": "code",
      "source": [
        "data['esc'].nunique()"
      ],
      "metadata": {
        "colab": {
          "base_uri": "https://localhost:8080/"
        },
        "id": "nnzMOvb5EA48",
        "outputId": "0cf78bb1-a104-4dab-f65f-0ff1ea6ae73a"
      },
      "execution_count": null,
      "outputs": [
        {
          "output_type": "execute_result",
          "data": {
            "text/plain": [
              "23"
            ]
          },
          "metadata": {},
          "execution_count": 14
        }
      ]
    },
    {
      "cell_type": "code",
      "source": [
        "data.describe()"
      ],
      "metadata": {
        "colab": {
          "base_uri": "https://localhost:8080/",
          "height": 300
        },
        "id": "mcqnFLliMs61",
        "outputId": "a821aab9-30b0-4dd3-9d7b-7db3412515db"
      },
      "execution_count": null,
      "outputs": [
        {
          "output_type": "execute_result",
          "data": {
            "text/plain": [
              "              folio           edad          ytot            esc\n",
              "count  2.164390e+05  216439.000000  1.447060e+05  174058.000000\n",
              "mean   8.704111e+11      37.780257  4.039880e+05      10.825771\n",
              "std    3.926348e+11      22.950752  7.838145e+05       4.293652\n",
              "min    1.101100e+11       0.000000  8.300000e+01       0.000000\n",
              "25%    5.804101e+11      19.000000  1.083300e+05       8.000000\n",
              "50%    8.401102e+11      36.000000  2.700000e+05      12.000000\n",
              "75%    1.310910e+12      56.000000  4.500000e+05      14.000000\n",
              "max    1.520130e+12     117.000000  8.470000e+07      22.000000"
            ],
            "text/html": [
              "\n",
              "  <div id=\"df-29b91f74-7a63-4a35-8269-f6bfefc24df8\">\n",
              "    <div class=\"colab-df-container\">\n",
              "      <div>\n",
              "<style scoped>\n",
              "    .dataframe tbody tr th:only-of-type {\n",
              "        vertical-align: middle;\n",
              "    }\n",
              "\n",
              "    .dataframe tbody tr th {\n",
              "        vertical-align: top;\n",
              "    }\n",
              "\n",
              "    .dataframe thead th {\n",
              "        text-align: right;\n",
              "    }\n",
              "</style>\n",
              "<table border=\"1\" class=\"dataframe\">\n",
              "  <thead>\n",
              "    <tr style=\"text-align: right;\">\n",
              "      <th></th>\n",
              "      <th>folio</th>\n",
              "      <th>edad</th>\n",
              "      <th>ytot</th>\n",
              "      <th>esc</th>\n",
              "    </tr>\n",
              "  </thead>\n",
              "  <tbody>\n",
              "    <tr>\n",
              "      <th>count</th>\n",
              "      <td>2.164390e+05</td>\n",
              "      <td>216439.000000</td>\n",
              "      <td>1.447060e+05</td>\n",
              "      <td>174058.000000</td>\n",
              "    </tr>\n",
              "    <tr>\n",
              "      <th>mean</th>\n",
              "      <td>8.704111e+11</td>\n",
              "      <td>37.780257</td>\n",
              "      <td>4.039880e+05</td>\n",
              "      <td>10.825771</td>\n",
              "    </tr>\n",
              "    <tr>\n",
              "      <th>std</th>\n",
              "      <td>3.926348e+11</td>\n",
              "      <td>22.950752</td>\n",
              "      <td>7.838145e+05</td>\n",
              "      <td>4.293652</td>\n",
              "    </tr>\n",
              "    <tr>\n",
              "      <th>min</th>\n",
              "      <td>1.101100e+11</td>\n",
              "      <td>0.000000</td>\n",
              "      <td>8.300000e+01</td>\n",
              "      <td>0.000000</td>\n",
              "    </tr>\n",
              "    <tr>\n",
              "      <th>25%</th>\n",
              "      <td>5.804101e+11</td>\n",
              "      <td>19.000000</td>\n",
              "      <td>1.083300e+05</td>\n",
              "      <td>8.000000</td>\n",
              "    </tr>\n",
              "    <tr>\n",
              "      <th>50%</th>\n",
              "      <td>8.401102e+11</td>\n",
              "      <td>36.000000</td>\n",
              "      <td>2.700000e+05</td>\n",
              "      <td>12.000000</td>\n",
              "    </tr>\n",
              "    <tr>\n",
              "      <th>75%</th>\n",
              "      <td>1.310910e+12</td>\n",
              "      <td>56.000000</td>\n",
              "      <td>4.500000e+05</td>\n",
              "      <td>14.000000</td>\n",
              "    </tr>\n",
              "    <tr>\n",
              "      <th>max</th>\n",
              "      <td>1.520130e+12</td>\n",
              "      <td>117.000000</td>\n",
              "      <td>8.470000e+07</td>\n",
              "      <td>22.000000</td>\n",
              "    </tr>\n",
              "  </tbody>\n",
              "</table>\n",
              "</div>\n",
              "      <button class=\"colab-df-convert\" onclick=\"convertToInteractive('df-29b91f74-7a63-4a35-8269-f6bfefc24df8')\"\n",
              "              title=\"Convert this dataframe to an interactive table.\"\n",
              "              style=\"display:none;\">\n",
              "        \n",
              "  <svg xmlns=\"http://www.w3.org/2000/svg\" height=\"24px\"viewBox=\"0 0 24 24\"\n",
              "       width=\"24px\">\n",
              "    <path d=\"M0 0h24v24H0V0z\" fill=\"none\"/>\n",
              "    <path d=\"M18.56 5.44l.94 2.06.94-2.06 2.06-.94-2.06-.94-.94-2.06-.94 2.06-2.06.94zm-11 1L8.5 8.5l.94-2.06 2.06-.94-2.06-.94L8.5 2.5l-.94 2.06-2.06.94zm10 10l.94 2.06.94-2.06 2.06-.94-2.06-.94-.94-2.06-.94 2.06-2.06.94z\"/><path d=\"M17.41 7.96l-1.37-1.37c-.4-.4-.92-.59-1.43-.59-.52 0-1.04.2-1.43.59L10.3 9.45l-7.72 7.72c-.78.78-.78 2.05 0 2.83L4 21.41c.39.39.9.59 1.41.59.51 0 1.02-.2 1.41-.59l7.78-7.78 2.81-2.81c.8-.78.8-2.07 0-2.86zM5.41 20L4 18.59l7.72-7.72 1.47 1.35L5.41 20z\"/>\n",
              "  </svg>\n",
              "      </button>\n",
              "      \n",
              "  <style>\n",
              "    .colab-df-container {\n",
              "      display:flex;\n",
              "      flex-wrap:wrap;\n",
              "      gap: 12px;\n",
              "    }\n",
              "\n",
              "    .colab-df-convert {\n",
              "      background-color: #E8F0FE;\n",
              "      border: none;\n",
              "      border-radius: 50%;\n",
              "      cursor: pointer;\n",
              "      display: none;\n",
              "      fill: #1967D2;\n",
              "      height: 32px;\n",
              "      padding: 0 0 0 0;\n",
              "      width: 32px;\n",
              "    }\n",
              "\n",
              "    .colab-df-convert:hover {\n",
              "      background-color: #E2EBFA;\n",
              "      box-shadow: 0px 1px 2px rgba(60, 64, 67, 0.3), 0px 1px 3px 1px rgba(60, 64, 67, 0.15);\n",
              "      fill: #174EA6;\n",
              "    }\n",
              "\n",
              "    [theme=dark] .colab-df-convert {\n",
              "      background-color: #3B4455;\n",
              "      fill: #D2E3FC;\n",
              "    }\n",
              "\n",
              "    [theme=dark] .colab-df-convert:hover {\n",
              "      background-color: #434B5C;\n",
              "      box-shadow: 0px 1px 3px 1px rgba(0, 0, 0, 0.15);\n",
              "      filter: drop-shadow(0px 1px 2px rgba(0, 0, 0, 0.3));\n",
              "      fill: #FFFFFF;\n",
              "    }\n",
              "  </style>\n",
              "\n",
              "      <script>\n",
              "        const buttonEl =\n",
              "          document.querySelector('#df-29b91f74-7a63-4a35-8269-f6bfefc24df8 button.colab-df-convert');\n",
              "        buttonEl.style.display =\n",
              "          google.colab.kernel.accessAllowed ? 'block' : 'none';\n",
              "\n",
              "        async function convertToInteractive(key) {\n",
              "          const element = document.querySelector('#df-29b91f74-7a63-4a35-8269-f6bfefc24df8');\n",
              "          const dataTable =\n",
              "            await google.colab.kernel.invokeFunction('convertToInteractive',\n",
              "                                                     [key], {});\n",
              "          if (!dataTable) return;\n",
              "\n",
              "          const docLinkHtml = 'Like what you see? Visit the ' +\n",
              "            '<a target=\"_blank\" href=https://colab.research.google.com/notebooks/data_table.ipynb>data table notebook</a>'\n",
              "            + ' to learn more about interactive tables.';\n",
              "          element.innerHTML = '';\n",
              "          dataTable['output_type'] = 'display_data';\n",
              "          await google.colab.output.renderOutput(dataTable, element);\n",
              "          const docLink = document.createElement('div');\n",
              "          docLink.innerHTML = docLinkHtml;\n",
              "          element.appendChild(docLink);\n",
              "        }\n",
              "      </script>\n",
              "    </div>\n",
              "  </div>\n",
              "  "
            ]
          },
          "metadata": {},
          "execution_count": 8
        }
      ]
    },
    {
      "cell_type": "code",
      "source": [
        "#Analizo los datos duplicados.\n",
        "data.duplicated().sum()"
      ],
      "metadata": {
        "colab": {
          "base_uri": "https://localhost:8080/"
        },
        "id": "Q0Jfd9jTMQOJ",
        "outputId": "76e3e063-0c9c-410d-f54a-0df68634d11a"
      },
      "execution_count": null,
      "outputs": [
        {
          "output_type": "execute_result",
          "data": {
            "text/plain": [
              "385"
            ]
          },
          "metadata": {},
          "execution_count": 9
        }
      ]
    },
    {
      "cell_type": "code",
      "source": [
        "#Borro los duplicados. Al ser un total de 216439 filas, borrar 385 filas duplicadas no afectan en general pero permite limpiar de la data información innecesaria.\n",
        "data = data.drop_duplicates()\n",
        "print(data.duplicated().sum())\n",
        "print(data.shape)"
      ],
      "metadata": {
        "colab": {
          "base_uri": "https://localhost:8080/"
        },
        "id": "C4Z6_rbQOghi",
        "outputId": "77323c6a-975a-40eb-a59e-4ce057fdcf1d"
      },
      "execution_count": null,
      "outputs": [
        {
          "output_type": "stream",
          "name": "stdout",
          "text": [
            "0\n",
            "(216054, 18)\n"
          ]
        }
      ]
    },
    {
      "cell_type": "code",
      "source": [
        "#Revisión de valores nulos.\n",
        "print(data.isnull().sum().sort_values(ascending = False))\n",
        "na_por = ((data.isnull().sum() / len(data))*100).sort_values(ascending = False)\n",
        "print('##################################')\n",
        "print('Valores porcentuales de nulos')\n",
        "print(na_por)\n"
      ],
      "metadata": {
        "colab": {
          "base_uri": "https://localhost:8080/"
        },
        "id": "NzIK1RiOiGQw",
        "outputId": "047fc975-fc30-4dfb-dd29-382c8031e892"
      },
      "execution_count": null,
      "outputs": [
        {
          "output_type": "stream",
          "name": "stdout",
          "text": [
            "depen           158227\n",
            "o16             147438\n",
            "oficio1         123655\n",
            "ytot             71465\n",
            "esc              42099\n",
            "o1               41081\n",
            "activ            41081\n",
            "pobreza            208\n",
            "calglobviv           0\n",
            "indsan               0\n",
            "indmat               0\n",
            "folio                0\n",
            "educ                 0\n",
            "sexo                 0\n",
            "s12                  0\n",
            "ecivil               0\n",
            "edad                 0\n",
            "hacinamiento         0\n",
            "dtype: int64\n",
            "##################################\n",
            "Valores porcentuales de nulos\n",
            "depen           73.234932\n",
            "o16             68.241273\n",
            "oficio1         57.233377\n",
            "ytot            33.077379\n",
            "esc             19.485406\n",
            "o1              19.014228\n",
            "activ           19.014228\n",
            "pobreza          0.096272\n",
            "calglobviv       0.000000\n",
            "indsan           0.000000\n",
            "indmat           0.000000\n",
            "folio            0.000000\n",
            "educ             0.000000\n",
            "sexo             0.000000\n",
            "s12              0.000000\n",
            "ecivil           0.000000\n",
            "edad             0.000000\n",
            "hacinamiento     0.000000\n",
            "dtype: float64\n"
          ]
        }
      ]
    },
    {
      "cell_type": "markdown",
      "source": [
        "+ Se trabajará con la variable dependiente pobreza para generar un modelo de clasificación, por lo tanto, será ésta la que focalice el trabajo exploratorio para luego implementar modelos y estrategias de machine learning."
      ],
      "metadata": {
        "id": "gpj4SPfF7smF"
      }
    },
    {
      "cell_type": "markdown",
      "source": [
        "Borrando los valores nulos de la variable 'pobreza', al ser sólo 208 (0.09%) de un total de 216054 no se producirá gran impacto al borrarlos."
      ],
      "metadata": {
        "id": "7tXCU-Hs8pQY"
      }
    },
    {
      "cell_type": "code",
      "source": [
        "data = data.dropna(subset=[\"pobreza\"])\n",
        "print(data['pobreza'].isnull().sum())\n",
        "print(data['pobreza'].value_counts())"
      ],
      "metadata": {
        "colab": {
          "base_uri": "https://localhost:8080/"
        },
        "id": "2NOp6mBXM6Kb",
        "outputId": "c4e9f954-21b3-4d50-fb00-6c968e5b2002"
      },
      "execution_count": null,
      "outputs": [
        {
          "output_type": "stream",
          "name": "stdout",
          "text": [
            "0\n",
            "No pobres             195029\n",
            "Pobres no extremos     15216\n",
            "Pobres extremos         5601\n",
            "Name: pobreza, dtype: int64\n"
          ]
        }
      ]
    },
    {
      "cell_type": "markdown",
      "source": [
        "+ Analizando variable edad"
      ],
      "metadata": {
        "id": "HF0oON7mNJSY"
      }
    },
    {
      "cell_type": "code",
      "source": [
        "plt.figure(figsize=(10,5))\n",
        "sns.distplot(data['edad'])"
      ],
      "metadata": {
        "colab": {
          "base_uri": "https://localhost:8080/",
          "height": 409
        },
        "id": "alwGXJ7A2XqY",
        "outputId": "aa5e9f2b-bde6-40a8-d6aa-a5626047a184"
      },
      "execution_count": null,
      "outputs": [
        {
          "output_type": "stream",
          "name": "stderr",
          "text": [
            "/usr/local/lib/python3.7/dist-packages/seaborn/distributions.py:2619: FutureWarning: `distplot` is a deprecated function and will be removed in a future version. Please adapt your code to use either `displot` (a figure-level function with similar flexibility) or `histplot` (an axes-level function for histograms).\n",
            "  warnings.warn(msg, FutureWarning)\n"
          ]
        },
        {
          "output_type": "execute_result",
          "data": {
            "text/plain": [
              "<matplotlib.axes._subplots.AxesSubplot at 0x7f2ba4bc3550>"
            ]
          },
          "metadata": {},
          "execution_count": 14
        },
        {
          "output_type": "display_data",
          "data": {
            "text/plain": [
              "<Figure size 720x360 with 1 Axes>"
            ],
            "image/png": "[encoded data removed]"
          },
          "metadata": {
            "needs_background": "light"
          }
        }
      ]
    },
    {
      "cell_type": "code",
      "source": [
        "#Revisión outliers\n",
        "fig=plt.figure(figsize=(10,4))\n",
        "ax=sns.boxplot(data['edad'])\n",
        "ax.set_title('Distribución Edad')"
      ],
      "metadata": {
        "colab": {
          "base_uri": "https://localhost:8080/",
          "height": 370
        },
        "id": "W3aLvNOp8Ycl",
        "outputId": "771543b0-657c-4f43-8c0d-8a27758b5ba8"
      },
      "execution_count": null,
      "outputs": [
        {
          "output_type": "stream",
          "name": "stderr",
          "text": [
            "/usr/local/lib/python3.7/dist-packages/seaborn/_decorators.py:43: FutureWarning: Pass the following variable as a keyword arg: x. From version 0.12, the only valid positional argument will be `data`, and passing other arguments without an explicit keyword will result in an error or misinterpretation.\n",
            "  FutureWarning\n"
          ]
        },
        {
          "output_type": "execute_result",
          "data": {
            "text/plain": [
              "Text(0.5, 1.0, 'Distribución Edad')"
            ]
          },
          "metadata": {},
          "execution_count": 15
        },
        {
          "output_type": "display_data",
          "data": {
            "text/plain": [
              "<Figure size 720x288 with 1 Axes>"
            ],
            "image/png": "[encoded data removed]"
          },
          "metadata": {
            "needs_background": "light"
          }
        }
      ]
    },
    {
      "cell_type": "code",
      "source": [
        "#Borrando dato extremo\n",
        "data.loc[data['edad']>100,'edad']=data[data['edad']<100]['edad'].max()\n",
        "fig=plt.figure(figsize=(10,4))\n",
        "ax=sns.boxplot(data['edad'])\n",
        "ax.set_title('Distribución Edad')"
      ],
      "metadata": {
        "id": "Ahl1ycGm7PKh",
        "colab": {
          "base_uri": "https://localhost:8080/",
          "height": 370
        },
        "outputId": "ab9ce042-49bb-467f-ec33-af84be1fb22d"
      },
      "execution_count": null,
      "outputs": [
        {
          "output_type": "stream",
          "name": "stderr",
          "text": [
            "/usr/local/lib/python3.7/dist-packages/seaborn/_decorators.py:43: FutureWarning: Pass the following variable as a keyword arg: x. From version 0.12, the only valid positional argument will be `data`, and passing other arguments without an explicit keyword will result in an error or misinterpretation.\n",
            "  FutureWarning\n"
          ]
        },
        {
          "output_type": "execute_result",
          "data": {
            "text/plain": [
              "Text(0.5, 1.0, 'Distribución Edad')"
            ]
          },
          "metadata": {},
          "execution_count": 16
        },
        {
          "output_type": "display_data",
          "data": {
            "text/plain": [
              "<Figure size 720x288 with 1 Axes>"
            ],
            "image/png": "[encoded data removed]"
          },
          "metadata": {
            "needs_background": "light"
          }
        }
      ]
    },
    {
      "cell_type": "markdown",
      "source": [
        "+ Realizo una revisión con un nuevo dataframe filtrado por la edad de los menores de 18 años.Esto para ver la variación en los porcentajes de valores nulos."
      ],
      "metadata": {
        "id": "NMlmDzY8NYiZ"
      }
    },
    {
      "cell_type": "code",
      "source": [
        "filtro =data['edad'] < 18\n",
        "data_menores = data[filtro]\n",
        "data_menores.head()"
      ],
      "metadata": {
        "colab": {
          "base_uri": "https://localhost:8080/",
          "height": 476
        },
        "id": "S1cZYKOLFGSz",
        "outputId": "aa0e5607-91be-45e2-aeda-86ffa10542ef"
      },
      "execution_count": null,
      "outputs": [
        {
          "output_type": "execute_result",
          "data": {
            "text/plain": [
              "           folio    sexo  edad      ecivil   o1 oficio1  o16  \\\n",
              "6   110110020501   Mujer     1  Soltero(a)  NaN     NaN  NaN   \n",
              "12  110110020901  Hombre     1  Soltero(a)  NaN     NaN  NaN   \n",
              "23  110110040101   Mujer    16  Soltero(a)   No     NaN  NaN   \n",
              "24  110110040101   Mujer    10  Soltero(a)  NaN     NaN  NaN   \n",
              "25  110110040101   Mujer     3  Soltero(a)  NaN     NaN  NaN   \n",
              "\n",
              "                               s12     ytot    pobreza   esc  \\\n",
              "6   Sistema Público FONASA Grupo B      NaN  No pobres   NaN   \n",
              "12  Sistema Público FONASA Grupo A      NaN  No pobres   NaN   \n",
              "23               FF.AA. y de Orden      NaN  No pobres  11.0   \n",
              "24  Sistema Público FONASA Grupo C  18675.0  No pobres   NaN   \n",
              "25  Sistema Público FONASA Grupo C      NaN  No pobres   NaN   \n",
              "\n",
              "                  educ                     depen      activ  \\\n",
              "6     Sin Educ. Formal                       NaN        NaN   \n",
              "12    Sin Educ. Formal  Particular Subvencionado        NaN   \n",
              "23  M. Hum. Incompleta  Particular Subvencionado  Inactivos   \n",
              "24       Básica Incom.  Particular Subvencionado        NaN   \n",
              "25    Sin Educ. Formal                     Junji        NaN   \n",
              "\n",
              "                indmat       indsan   calglobviv  \\\n",
              "6   Vivienda Aceptable  Deficitario  Recuperable   \n",
              "12  Vivienda Aceptable    Aceptable    Aceptable   \n",
              "23  Vivienda Aceptable    Aceptable    Aceptable   \n",
              "24  Vivienda Aceptable    Aceptable    Aceptable   \n",
              "25  Vivienda Aceptable    Aceptable    Aceptable   \n",
              "\n",
              "                       hacinamiento  \n",
              "6   Sin hacinamiento (2,49 y menos)  \n",
              "12  Sin hacinamiento (2,49 y menos)  \n",
              "23  Sin hacinamiento (2,49 y menos)  \n",
              "24  Sin hacinamiento (2,49 y menos)  \n",
              "25  Sin hacinamiento (2,49 y menos)  "
            ],
            "text/html": [
              "\n",
              "  <div id=\"df-d691ea6e-6c5c-445a-9572-84bb04afd781\">\n",
              "    <div class=\"colab-df-container\">\n",
              "      <div>\n",
              "<style scoped>\n",
              "    .dataframe tbody tr th:only-of-type {\n",
              "        vertical-align: middle;\n",
              "    }\n",
              "\n",
              "    .dataframe tbody tr th {\n",
              "        vertical-align: top;\n",
              "    }\n",
              "\n",
              "    .dataframe thead th {\n",
              "        text-align: right;\n",
              "    }\n",
              "</style>\n",
              "<table border=\"1\" class=\"dataframe\">\n",
              "  <thead>\n",
              "    <tr style=\"text-align: right;\">\n",
              "      <th></th>\n",
              "      <th>folio</th>\n",
              "      <th>sexo</th>\n",
              "      <th>edad</th>\n",
              "      <th>ecivil</th>\n",
              "      <th>o1</th>\n",
              "      <th>oficio1</th>\n",
              "      <th>o16</th>\n",
              "      <th>s12</th>\n",
              "      <th>ytot</th>\n",
              "      <th>pobreza</th>\n",
              "      <th>esc</th>\n",
              "      <th>educ</th>\n",
              "      <th>depen</th>\n",
              "      <th>activ</th>\n",
              "      <th>indmat</th>\n",
              "      <th>indsan</th>\n",
              "      <th>calglobviv</th>\n",
              "      <th>hacinamiento</th>\n",
              "    </tr>\n",
              "  </thead>\n",
              "  <tbody>\n",
              "    <tr>\n",
              "      <th>6</th>\n",
              "      <td>110110020501</td>\n",
              "      <td>Mujer</td>\n",
              "      <td>1</td>\n",
              "      <td>Soltero(a)</td>\n",
              "      <td>NaN</td>\n",
              "      <td>NaN</td>\n",
              "      <td>NaN</td>\n",
              "      <td>Sistema Público FONASA Grupo B</td>\n",
              "      <td>NaN</td>\n",
              "      <td>No pobres</td>\n",
              "      <td>NaN</td>\n",
              "      <td>Sin Educ. Formal</td>\n",
              "      <td>NaN</td>\n",
              "      <td>NaN</td>\n",
              "      <td>Vivienda Aceptable</td>\n",
              "      <td>Deficitario</td>\n",
              "      <td>Recuperable</td>\n",
              "      <td>Sin hacinamiento (2,49 y menos)</td>\n",
              "    </tr>\n",
              "    <tr>\n",
              "      <th>12</th>\n",
              "      <td>110110020901</td>\n",
              "      <td>Hombre</td>\n",
              "      <td>1</td>\n",
              "      <td>Soltero(a)</td>\n",
              "      <td>NaN</td>\n",
              "      <td>NaN</td>\n",
              "      <td>NaN</td>\n",
              "      <td>Sistema Público FONASA Grupo A</td>\n",
              "      <td>NaN</td>\n",
              "      <td>No pobres</td>\n",
              "      <td>NaN</td>\n",
              "      <td>Sin Educ. Formal</td>\n",
              "      <td>Particular Subvencionado</td>\n",
              "      <td>NaN</td>\n",
              "      <td>Vivienda Aceptable</td>\n",
              "      <td>Aceptable</td>\n",
              "      <td>Aceptable</td>\n",
              "      <td>Sin hacinamiento (2,49 y menos)</td>\n",
              "    </tr>\n",
              "    <tr>\n",
              "      <th>23</th>\n",
              "      <td>110110040101</td>\n",
              "      <td>Mujer</td>\n",
              "      <td>16</td>\n",
              "      <td>Soltero(a)</td>\n",
              "      <td>No</td>\n",
              "      <td>NaN</td>\n",
              "      <td>NaN</td>\n",
              "      <td>FF.AA. y de Orden</td>\n",
              "      <td>NaN</td>\n",
              "      <td>No pobres</td>\n",
              "      <td>11.0</td>\n",
              "      <td>M. Hum. Incompleta</td>\n",
              "      <td>Particular Subvencionado</td>\n",
              "      <td>Inactivos</td>\n",
              "      <td>Vivienda Aceptable</td>\n",
              "      <td>Aceptable</td>\n",
              "      <td>Aceptable</td>\n",
              "      <td>Sin hacinamiento (2,49 y menos)</td>\n",
              "    </tr>\n",
              "    <tr>\n",
              "      <th>24</th>\n",
              "      <td>110110040101</td>\n",
              "      <td>Mujer</td>\n",
              "      <td>10</td>\n",
              "      <td>Soltero(a)</td>\n",
              "      <td>NaN</td>\n",
              "      <td>NaN</td>\n",
              "      <td>NaN</td>\n",
              "      <td>Sistema Público FONASA Grupo C</td>\n",
              "      <td>18675.0</td>\n",
              "      <td>No pobres</td>\n",
              "      <td>NaN</td>\n",
              "      <td>Básica Incom.</td>\n",
              "      <td>Particular Subvencionado</td>\n",
              "      <td>NaN</td>\n",
              "      <td>Vivienda Aceptable</td>\n",
              "      <td>Aceptable</td>\n",
              "      <td>Aceptable</td>\n",
              "      <td>Sin hacinamiento (2,49 y menos)</td>\n",
              "    </tr>\n",
              "    <tr>\n",
              "      <th>25</th>\n",
              "      <td>110110040101</td>\n",
              "      <td>Mujer</td>\n",
              "      <td>3</td>\n",
              "      <td>Soltero(a)</td>\n",
              "      <td>NaN</td>\n",
              "      <td>NaN</td>\n",
              "      <td>NaN</td>\n",
              "      <td>Sistema Público FONASA Grupo C</td>\n",
              "      <td>NaN</td>\n",
              "      <td>No pobres</td>\n",
              "      <td>NaN</td>\n",
              "      <td>Sin Educ. Formal</td>\n",
              "      <td>Junji</td>\n",
              "      <td>NaN</td>\n",
              "      <td>Vivienda Aceptable</td>\n",
              "      <td>Aceptable</td>\n",
              "      <td>Aceptable</td>\n",
              "      <td>Sin hacinamiento (2,49 y menos)</td>\n",
              "    </tr>\n",
              "  </tbody>\n",
              "</table>\n",
              "</div>\n",
              "      <button class=\"colab-df-convert\" onclick=\"convertToInteractive('df-d691ea6e-6c5c-445a-9572-84bb04afd781')\"\n",
              "              title=\"Convert this dataframe to an interactive table.\"\n",
              "              style=\"display:none;\">\n",
              "        \n",
              "  <svg xmlns=\"http://www.w3.org/2000/svg\" height=\"24px\"viewBox=\"0 0 24 24\"\n",
              "       width=\"24px\">\n",
              "    <path d=\"M0 0h24v24H0V0z\" fill=\"none\"/>\n",
              "    <path d=\"M18.56 5.44l.94 2.06.94-2.06 2.06-.94-2.06-.94-.94-2.06-.94 2.06-2.06.94zm-11 1L8.5 8.5l.94-2.06 2.06-.94-2.06-.94L8.5 2.5l-.94 2.06-2.06.94zm10 10l.94 2.06.94-2.06 2.06-.94-2.06-.94-.94-2.06-.94 2.06-2.06.94z\"/><path d=\"M17.41 7.96l-1.37-1.37c-.4-.4-.92-.59-1.43-.59-.52 0-1.04.2-1.43.59L10.3 9.45l-7.72 7.72c-.78.78-.78 2.05 0 2.83L4 21.41c.39.39.9.59 1.41.59.51 0 1.02-.2 1.41-.59l7.78-7.78 2.81-2.81c.8-.78.8-2.07 0-2.86zM5.41 20L4 18.59l7.72-7.72 1.47 1.35L5.41 20z\"/>\n",
              "  </svg>\n",
              "      </button>\n",
              "      \n",
              "  <style>\n",
              "    .colab-df-container {\n",
              "      display:flex;\n",
              "      flex-wrap:wrap;\n",
              "      gap: 12px;\n",
              "    }\n",
              "\n",
              "    .colab-df-convert {\n",
              "      background-color: #E8F0FE;\n",
              "      border: none;\n",
              "      border-radius: 50%;\n",
              "      cursor: pointer;\n",
              "      display: none;\n",
              "      fill: #1967D2;\n",
              "      height: 32px;\n",
              "      padding: 0 0 0 0;\n",
              "      width: 32px;\n",
              "    }\n",
              "\n",
              "    .colab-df-convert:hover {\n",
              "      background-color: #E2EBFA;\n",
              "      box-shadow: 0px 1px 2px rgba(60, 64, 67, 0.3), 0px 1px 3px 1px rgba(60, 64, 67, 0.15);\n",
              "      fill: #174EA6;\n",
              "    }\n",
              "\n",
              "    [theme=dark] .colab-df-convert {\n",
              "      background-color: #3B4455;\n",
              "      fill: #D2E3FC;\n",
              "    }\n",
              "\n",
              "    [theme=dark] .colab-df-convert:hover {\n",
              "      background-color: #434B5C;\n",
              "      box-shadow: 0px 1px 3px 1px rgba(0, 0, 0, 0.15);\n",
              "      filter: drop-shadow(0px 1px 2px rgba(0, 0, 0, 0.3));\n",
              "      fill: #FFFFFF;\n",
              "    }\n",
              "  </style>\n",
              "\n",
              "      <script>\n",
              "        const buttonEl =\n",
              "          document.querySelector('#df-d691ea6e-6c5c-445a-9572-84bb04afd781 button.colab-df-convert');\n",
              "        buttonEl.style.display =\n",
              "          google.colab.kernel.accessAllowed ? 'block' : 'none';\n",
              "\n",
              "        async function convertToInteractive(key) {\n",
              "          const element = document.querySelector('#df-d691ea6e-6c5c-445a-9572-84bb04afd781');\n",
              "          const dataTable =\n",
              "            await google.colab.kernel.invokeFunction('convertToInteractive',\n",
              "                                                     [key], {});\n",
              "          if (!dataTable) return;\n",
              "\n",
              "          const docLinkHtml = 'Like what you see? Visit the ' +\n",
              "            '<a target=\"_blank\" href=https://colab.research.google.com/notebooks/data_table.ipynb>data table notebook</a>'\n",
              "            + ' to learn more about interactive tables.';\n",
              "          element.innerHTML = '';\n",
              "          dataTable['output_type'] = 'display_data';\n",
              "          await google.colab.output.renderOutput(dataTable, element);\n",
              "          const docLink = document.createElement('div');\n",
              "          docLink.innerHTML = docLinkHtml;\n",
              "          element.appendChild(docLink);\n",
              "        }\n",
              "      </script>\n",
              "    </div>\n",
              "  </div>\n",
              "  "
            ]
          },
          "metadata": {},
          "execution_count": 17
        }
      ]
    },
    {
      "cell_type": "code",
      "source": [
        "data_menores.shape"
      ],
      "metadata": {
        "colab": {
          "base_uri": "https://localhost:8080/"
        },
        "id": "vWBJlNuNJWCK",
        "outputId": "52b80e47-fb51-45b0-dcee-4d4fdf1dbc33"
      },
      "execution_count": null,
      "outputs": [
        {
          "output_type": "execute_result",
          "data": {
            "text/plain": [
              "(49974, 18)"
            ]
          },
          "metadata": {},
          "execution_count": 18
        }
      ]
    },
    {
      "cell_type": "code",
      "source": [
        "#Revisión de valores nulos en base de sólo menores de edad.\n",
        "print(data_menores.isnull().sum().sort_values(ascending = False))\n",
        "menores_por = (data_menores.isnull().sum() / len((data_menores))*100).sort_values(ascending = False)\n",
        "print('##################################')\n",
        "print('Valores porcentuales de nulos')\n",
        "print(menores_por)"
      ],
      "metadata": {
        "colab": {
          "base_uri": "https://localhost:8080/"
        },
        "id": "v0-mv-HdGjVl",
        "outputId": "db5428dd-98da-44cd-e404-fadce8f16246"
      },
      "execution_count": null,
      "outputs": [
        {
          "output_type": "stream",
          "name": "stdout",
          "text": [
            "o16             49809\n",
            "oficio1         49760\n",
            "esc             41085\n",
            "o1              41077\n",
            "activ           41077\n",
            "ytot            35985\n",
            "depen            7907\n",
            "folio               0\n",
            "calglobviv          0\n",
            "indsan              0\n",
            "indmat              0\n",
            "pobreza             0\n",
            "educ                0\n",
            "sexo                0\n",
            "s12                 0\n",
            "ecivil              0\n",
            "edad                0\n",
            "hacinamiento        0\n",
            "dtype: int64\n",
            "##################################\n",
            "Valores porcentuales de nulos\n",
            "o16             99.669828\n",
            "oficio1         99.571777\n",
            "esc             82.212751\n",
            "o1              82.196742\n",
            "activ           82.196742\n",
            "ytot            72.007444\n",
            "depen           15.822228\n",
            "folio            0.000000\n",
            "calglobviv       0.000000\n",
            "indsan           0.000000\n",
            "indmat           0.000000\n",
            "pobreza          0.000000\n",
            "educ             0.000000\n",
            "sexo             0.000000\n",
            "s12              0.000000\n",
            "ecivil           0.000000\n",
            "edad             0.000000\n",
            "hacinamiento     0.000000\n",
            "dtype: float64\n"
          ]
        }
      ]
    },
    {
      "cell_type": "markdown",
      "source": [
        "+ Al analizar los datos nulos, tomo la decisión de eliminar de la base los menores de 18 años. Esta decisión es tomada en base a las características de la encuesta, ya que es aplicada por hogar y se incluyen los presentes en el momento creando más de un registro, lo cual se puede verificar por el número de folio(identificador de hogar). Con esto, los menores de edad introducidos a la base significan desbalance importante en las varible como: 'ingreso total', 'años de escolaridad', 'condición de actividad', 'empleado','oficio'. Además, por lógica de dependencia de los adultos del hogar, los menores generan redundancia en las varibles referidas a las condiciones de hogar, hacinamiento, indicador de materialidad o saneamiento. De estas últimas, se crean duplicados, y considerando que se analizan las condiciones del hogar en sí, no es conveniente considerarlas dos o tres veces dentro de un mismo núcleo. Por lo tanto, realizaré un filtro en la variable edad con valores iguales y mayores a 18 años, y volveré a revisar los valores nulos y el cómo tratarlos, ya que hay variables que no pueden ser eliminadas o imputadas para realizar un buen modelo de analisís de la variable 'pobreza'."
      ],
      "metadata": {
        "id": "2f4H8xHrNuBD"
      }
    },
    {
      "cell_type": "code",
      "source": [
        "#filtrando la data\n",
        "filtro =data['edad'] >=18\n",
        "data_2 = data[filtro]\n",
        "data_2.head()"
      ],
      "metadata": {
        "colab": {
          "base_uri": "https://localhost:8080/",
          "height": 510
        },
        "id": "NPQ_792hHk2t",
        "outputId": "1c7e56f6-2dde-4ef7-aa59-f2c2328d8593"
      },
      "execution_count": null,
      "outputs": [
        {
          "output_type": "execute_result",
          "data": {
            "text/plain": [
              "          folio    sexo  edad  \\\n",
              "0  110110020201   Mujer    56   \n",
              "1  110110020301   Mujer    21   \n",
              "2  110110020401  Hombre    24   \n",
              "3  110110020401  Hombre    28   \n",
              "4  110110020501  Hombre    26   \n",
              "\n",
              "                                            ecivil  o1  \\\n",
              "0                                       Soltero(a)  Sí   \n",
              "1                                       Soltero(a)  Sí   \n",
              "2  Conviviente o pareja sin acuerdo de unión civil  Sí   \n",
              "3  Conviviente o pareja sin acuerdo de unión civil  Sí   \n",
              "4                                        Casado(a)  No   \n",
              "\n",
              "                                             oficio1               o16  \\\n",
              "0                         Trabajadores no calificado               NaN   \n",
              "1                         Trabajadores no calificado        Plazo fijo   \n",
              "2  Trabajadores de los servicios y vendedores de ...        Plazo fijo   \n",
              "3  Trabajadores de los servicios y vendedores de ...        Plazo fijo   \n",
              "4                         Trabajadores no calificado  Plazo indefinido   \n",
              "\n",
              "                              s12      ytot    pobreza   esc  \\\n",
              "0                         No sabe  250000.0  No pobres  12.0   \n",
              "1            Ninguno (Particular)  211091.0  No pobres   7.0   \n",
              "2                         No sabe  281750.0  No pobres  12.0   \n",
              "3                         No sabe  311750.0  No pobres  12.0   \n",
              "4  Sistema Público FONASA Grupo B  341667.0  No pobres  15.0   \n",
              "\n",
              "                              educ depen     activ              indmat  \\\n",
              "0                 M. Hum. Completa   NaN  Ocupados  Vivienda Aceptable   \n",
              "1                    Básica Incom.   NaN  Ocupados  Vivienda Aceptable   \n",
              "2                 M. Hum. Completa   NaN  Ocupados  Vivienda Aceptable   \n",
              "3                 M. Hum. Completa   NaN  Ocupados  Vivienda Aceptable   \n",
              "4  Técnico Nivel Superior Completo   NaN  Ocupados  Vivienda Aceptable   \n",
              "\n",
              "        indsan   calglobviv                     hacinamiento  \n",
              "0  Deficitario  Recuperable  Sin hacinamiento (2,49 y menos)  \n",
              "1    Aceptable    Aceptable  Sin hacinamiento (2,49 y menos)  \n",
              "2    Aceptable    Aceptable  Sin hacinamiento (2,49 y menos)  \n",
              "3    Aceptable    Aceptable  Sin hacinamiento (2,49 y menos)  \n",
              "4  Deficitario  Recuperable  Sin hacinamiento (2,49 y menos)  "
            ],
            "text/html": [
              "\n",
              "  <div id=\"df-11cfa1ec-f115-4e2b-8e33-87023b90d8c3\">\n",
              "    <div class=\"colab-df-container\">\n",
              "      <div>\n",
              "<style scoped>\n",
              "    .dataframe tbody tr th:only-of-type {\n",
              "        vertical-align: middle;\n",
              "    }\n",
              "\n",
              "    .dataframe tbody tr th {\n",
              "        vertical-align: top;\n",
              "    }\n",
              "\n",
              "    .dataframe thead th {\n",
              "        text-align: right;\n",
              "    }\n",
              "</style>\n",
              "<table border=\"1\" class=\"dataframe\">\n",
              "  <thead>\n",
              "    <tr style=\"text-align: right;\">\n",
              "      <th></th>\n",
              "      <th>folio</th>\n",
              "      <th>sexo</th>\n",
              "      <th>edad</th>\n",
              "      <th>ecivil</th>\n",
              "      <th>o1</th>\n",
              "      <th>oficio1</th>\n",
              "      <th>o16</th>\n",
              "      <th>s12</th>\n",
              "      <th>ytot</th>\n",
              "      <th>pobreza</th>\n",
              "      <th>esc</th>\n",
              "      <th>educ</th>\n",
              "      <th>depen</th>\n",
              "      <th>activ</th>\n",
              "      <th>indmat</th>\n",
              "      <th>indsan</th>\n",
              "      <th>calglobviv</th>\n",
              "      <th>hacinamiento</th>\n",
              "    </tr>\n",
              "  </thead>\n",
              "  <tbody>\n",
              "    <tr>\n",
              "      <th>0</th>\n",
              "      <td>110110020201</td>\n",
              "      <td>Mujer</td>\n",
              "      <td>56</td>\n",
              "      <td>Soltero(a)</td>\n",
              "      <td>Sí</td>\n",
              "      <td>Trabajadores no calificado</td>\n",
              "      <td>NaN</td>\n",
              "      <td>No sabe</td>\n",
              "      <td>250000.0</td>\n",
              "      <td>No pobres</td>\n",
              "      <td>12.0</td>\n",
              "      <td>M. Hum. Completa</td>\n",
              "      <td>NaN</td>\n",
              "      <td>Ocupados</td>\n",
              "      <td>Vivienda Aceptable</td>\n",
              "      <td>Deficitario</td>\n",
              "      <td>Recuperable</td>\n",
              "      <td>Sin hacinamiento (2,49 y menos)</td>\n",
              "    </tr>\n",
              "    <tr>\n",
              "      <th>1</th>\n",
              "      <td>110110020301</td>\n",
              "      <td>Mujer</td>\n",
              "      <td>21</td>\n",
              "      <td>Soltero(a)</td>\n",
              "      <td>Sí</td>\n",
              "      <td>Trabajadores no calificado</td>\n",
              "      <td>Plazo fijo</td>\n",
              "      <td>Ninguno (Particular)</td>\n",
              "      <td>211091.0</td>\n",
              "      <td>No pobres</td>\n",
              "      <td>7.0</td>\n",
              "      <td>Básica Incom.</td>\n",
              "      <td>NaN</td>\n",
              "      <td>Ocupados</td>\n",
              "      <td>Vivienda Aceptable</td>\n",
              "      <td>Aceptable</td>\n",
              "      <td>Aceptable</td>\n",
              "      <td>Sin hacinamiento (2,49 y menos)</td>\n",
              "    </tr>\n",
              "    <tr>\n",
              "      <th>2</th>\n",
              "      <td>110110020401</td>\n",
              "      <td>Hombre</td>\n",
              "      <td>24</td>\n",
              "      <td>Conviviente o pareja sin acuerdo de unión civil</td>\n",
              "      <td>Sí</td>\n",
              "      <td>Trabajadores de los servicios y vendedores de ...</td>\n",
              "      <td>Plazo fijo</td>\n",
              "      <td>No sabe</td>\n",
              "      <td>281750.0</td>\n",
              "      <td>No pobres</td>\n",
              "      <td>12.0</td>\n",
              "      <td>M. Hum. Completa</td>\n",
              "      <td>NaN</td>\n",
              "      <td>Ocupados</td>\n",
              "      <td>Vivienda Aceptable</td>\n",
              "      <td>Aceptable</td>\n",
              "      <td>Aceptable</td>\n",
              "      <td>Sin hacinamiento (2,49 y menos)</td>\n",
              "    </tr>\n",
              "    <tr>\n",
              "      <th>3</th>\n",
              "      <td>110110020401</td>\n",
              "      <td>Hombre</td>\n",
              "      <td>28</td>\n",
              "      <td>Conviviente o pareja sin acuerdo de unión civil</td>\n",
              "      <td>Sí</td>\n",
              "      <td>Trabajadores de los servicios y vendedores de ...</td>\n",
              "      <td>Plazo fijo</td>\n",
              "      <td>No sabe</td>\n",
              "      <td>311750.0</td>\n",
              "      <td>No pobres</td>\n",
              "      <td>12.0</td>\n",
              "      <td>M. Hum. Completa</td>\n",
              "      <td>NaN</td>\n",
              "      <td>Ocupados</td>\n",
              "      <td>Vivienda Aceptable</td>\n",
              "      <td>Aceptable</td>\n",
              "      <td>Aceptable</td>\n",
              "      <td>Sin hacinamiento (2,49 y menos)</td>\n",
              "    </tr>\n",
              "    <tr>\n",
              "      <th>4</th>\n",
              "      <td>110110020501</td>\n",
              "      <td>Hombre</td>\n",
              "      <td>26</td>\n",
              "      <td>Casado(a)</td>\n",
              "      <td>No</td>\n",
              "      <td>Trabajadores no calificado</td>\n",
              "      <td>Plazo indefinido</td>\n",
              "      <td>Sistema Público FONASA Grupo B</td>\n",
              "      <td>341667.0</td>\n",
              "      <td>No pobres</td>\n",
              "      <td>15.0</td>\n",
              "      <td>Técnico Nivel Superior Completo</td>\n",
              "      <td>NaN</td>\n",
              "      <td>Ocupados</td>\n",
              "      <td>Vivienda Aceptable</td>\n",
              "      <td>Deficitario</td>\n",
              "      <td>Recuperable</td>\n",
              "      <td>Sin hacinamiento (2,49 y menos)</td>\n",
              "    </tr>\n",
              "  </tbody>\n",
              "</table>\n",
              "</div>\n",
              "      <button class=\"colab-df-convert\" onclick=\"convertToInteractive('df-11cfa1ec-f115-4e2b-8e33-87023b90d8c3')\"\n",
              "              title=\"Convert this dataframe to an interactive table.\"\n",
              "              style=\"display:none;\">\n",
              "        \n",
              "  <svg xmlns=\"http://www.w3.org/2000/svg\" height=\"24px\"viewBox=\"0 0 24 24\"\n",
              "       width=\"24px\">\n",
              "    <path d=\"M0 0h24v24H0V0z\" fill=\"none\"/>\n",
              "    <path d=\"M18.56 5.44l.94 2.06.94-2.06 2.06-.94-2.06-.94-.94-2.06-.94 2.06-2.06.94zm-11 1L8.5 8.5l.94-2.06 2.06-.94-2.06-.94L8.5 2.5l-.94 2.06-2.06.94zm10 10l.94 2.06.94-2.06 2.06-.94-2.06-.94-.94-2.06-.94 2.06-2.06.94z\"/><path d=\"M17.41 7.96l-1.37-1.37c-.4-.4-.92-.59-1.43-.59-.52 0-1.04.2-1.43.59L10.3 9.45l-7.72 7.72c-.78.78-.78 2.05 0 2.83L4 21.41c.39.39.9.59 1.41.59.51 0 1.02-.2 1.41-.59l7.78-7.78 2.81-2.81c.8-.78.8-2.07 0-2.86zM5.41 20L4 18.59l7.72-7.72 1.47 1.35L5.41 20z\"/>\n",
              "  </svg>\n",
              "      </button>\n",
              "      \n",
              "  <style>\n",
              "    .colab-df-container {\n",
              "      display:flex;\n",
              "      flex-wrap:wrap;\n",
              "      gap: 12px;\n",
              "    }\n",
              "\n",
              "    .colab-df-convert {\n",
              "      background-color: #E8F0FE;\n",
              "      border: none;\n",
              "      border-radius: 50%;\n",
              "      cursor: pointer;\n",
              "      display: none;\n",
              "      fill: #1967D2;\n",
              "      height: 32px;\n",
              "      padding: 0 0 0 0;\n",
              "      width: 32px;\n",
              "    }\n",
              "\n",
              "    .colab-df-convert:hover {\n",
              "      background-color: #E2EBFA;\n",
              "      box-shadow: 0px 1px 2px rgba(60, 64, 67, 0.3), 0px 1px 3px 1px rgba(60, 64, 67, 0.15);\n",
              "      fill: #174EA6;\n",
              "    }\n",
              "\n",
              "    [theme=dark] .colab-df-convert {\n",
              "      background-color: #3B4455;\n",
              "      fill: #D2E3FC;\n",
              "    }\n",
              "\n",
              "    [theme=dark] .colab-df-convert:hover {\n",
              "      background-color: #434B5C;\n",
              "      box-shadow: 0px 1px 3px 1px rgba(0, 0, 0, 0.15);\n",
              "      filter: drop-shadow(0px 1px 2px rgba(0, 0, 0, 0.3));\n",
              "      fill: #FFFFFF;\n",
              "    }\n",
              "  </style>\n",
              "\n",
              "      <script>\n",
              "        const buttonEl =\n",
              "          document.querySelector('#df-11cfa1ec-f115-4e2b-8e33-87023b90d8c3 button.colab-df-convert');\n",
              "        buttonEl.style.display =\n",
              "          google.colab.kernel.accessAllowed ? 'block' : 'none';\n",
              "\n",
              "        async function convertToInteractive(key) {\n",
              "          const element = document.querySelector('#df-11cfa1ec-f115-4e2b-8e33-87023b90d8c3');\n",
              "          const dataTable =\n",
              "            await google.colab.kernel.invokeFunction('convertToInteractive',\n",
              "                                                     [key], {});\n",
              "          if (!dataTable) return;\n",
              "\n",
              "          const docLinkHtml = 'Like what you see? Visit the ' +\n",
              "            '<a target=\"_blank\" href=https://colab.research.google.com/notebooks/data_table.ipynb>data table notebook</a>'\n",
              "            + ' to learn more about interactive tables.';\n",
              "          element.innerHTML = '';\n",
              "          dataTable['output_type'] = 'display_data';\n",
              "          await google.colab.output.renderOutput(dataTable, element);\n",
              "          const docLink = document.createElement('div');\n",
              "          docLink.innerHTML = docLinkHtml;\n",
              "          element.appendChild(docLink);\n",
              "        }\n",
              "      </script>\n",
              "    </div>\n",
              "  </div>\n",
              "  "
            ]
          },
          "metadata": {},
          "execution_count": 20
        }
      ]
    },
    {
      "cell_type": "code",
      "source": [
        "data_2.shape"
      ],
      "metadata": {
        "colab": {
          "base_uri": "https://localhost:8080/"
        },
        "id": "vvdM1rtKI06i",
        "outputId": "7bbb9493-44e4-4b30-92f4-c59812154891"
      },
      "execution_count": null,
      "outputs": [
        {
          "output_type": "execute_result",
          "data": {
            "text/plain": [
              "(165872, 18)"
            ]
          },
          "metadata": {},
          "execution_count": 21
        }
      ]
    },
    {
      "cell_type": "code",
      "source": [
        "data_2.describe()"
      ],
      "metadata": {
        "colab": {
          "base_uri": "https://localhost:8080/",
          "height": 300
        },
        "id": "zm2dgDCGITgk",
        "outputId": "2bd5e7f2-e67a-437b-e549-5fa9f013e0b3"
      },
      "execution_count": null,
      "outputs": [
        {
          "output_type": "execute_result",
          "data": {
            "text/plain": [
              "              folio           edad          ytot            esc\n",
              "count  1.658720e+05  165872.000000  1.304040e+05  164875.000000\n",
              "mean   8.729825e+11      46.575233  4.448927e+05      10.876694\n",
              "std    3.888274e+11      18.593226  8.144375e+05       4.388192\n",
              "min    1.101100e+11      18.000000  8.300000e+01       0.000000\n",
              "25%    5.804300e+11      30.000000  1.378030e+05       8.000000\n",
              "50%    8.401102e+11      46.000000  2.900000e+05      12.000000\n",
              "75%    1.310810e+12      60.000000  5.000000e+05      14.000000\n",
              "max    1.520130e+12     100.000000  8.470000e+07      22.000000"
            ],
            "text/html": [
              "\n",
              "  <div id=\"df-a5605aa8-a7d9-4075-9154-21963bfec6b4\">\n",
              "    <div class=\"colab-df-container\">\n",
              "      <div>\n",
              "<style scoped>\n",
              "    .dataframe tbody tr th:only-of-type {\n",
              "        vertical-align: middle;\n",
              "    }\n",
              "\n",
              "    .dataframe tbody tr th {\n",
              "        vertical-align: top;\n",
              "    }\n",
              "\n",
              "    .dataframe thead th {\n",
              "        text-align: right;\n",
              "    }\n",
              "</style>\n",
              "<table border=\"1\" class=\"dataframe\">\n",
              "  <thead>\n",
              "    <tr style=\"text-align: right;\">\n",
              "      <th></th>\n",
              "      <th>folio</th>\n",
              "      <th>edad</th>\n",
              "      <th>ytot</th>\n",
              "      <th>esc</th>\n",
              "    </tr>\n",
              "  </thead>\n",
              "  <tbody>\n",
              "    <tr>\n",
              "      <th>count</th>\n",
              "      <td>1.658720e+05</td>\n",
              "      <td>165872.000000</td>\n",
              "      <td>1.304040e+05</td>\n",
              "      <td>164875.000000</td>\n",
              "    </tr>\n",
              "    <tr>\n",
              "      <th>mean</th>\n",
              "      <td>8.729825e+11</td>\n",
              "      <td>46.575233</td>\n",
              "      <td>4.448927e+05</td>\n",
              "      <td>10.876694</td>\n",
              "    </tr>\n",
              "    <tr>\n",
              "      <th>std</th>\n",
              "      <td>3.888274e+11</td>\n",
              "      <td>18.593226</td>\n",
              "      <td>8.144375e+05</td>\n",
              "      <td>4.388192</td>\n",
              "    </tr>\n",
              "    <tr>\n",
              "      <th>min</th>\n",
              "      <td>1.101100e+11</td>\n",
              "      <td>18.000000</td>\n",
              "      <td>8.300000e+01</td>\n",
              "      <td>0.000000</td>\n",
              "    </tr>\n",
              "    <tr>\n",
              "      <th>25%</th>\n",
              "      <td>5.804300e+11</td>\n",
              "      <td>30.000000</td>\n",
              "      <td>1.378030e+05</td>\n",
              "      <td>8.000000</td>\n",
              "    </tr>\n",
              "    <tr>\n",
              "      <th>50%</th>\n",
              "      <td>8.401102e+11</td>\n",
              "      <td>46.000000</td>\n",
              "      <td>2.900000e+05</td>\n",
              "      <td>12.000000</td>\n",
              "    </tr>\n",
              "    <tr>\n",
              "      <th>75%</th>\n",
              "      <td>1.310810e+12</td>\n",
              "      <td>60.000000</td>\n",
              "      <td>5.000000e+05</td>\n",
              "      <td>14.000000</td>\n",
              "    </tr>\n",
              "    <tr>\n",
              "      <th>max</th>\n",
              "      <td>1.520130e+12</td>\n",
              "      <td>100.000000</td>\n",
              "      <td>8.470000e+07</td>\n",
              "      <td>22.000000</td>\n",
              "    </tr>\n",
              "  </tbody>\n",
              "</table>\n",
              "</div>\n",
              "      <button class=\"colab-df-convert\" onclick=\"convertToInteractive('df-a5605aa8-a7d9-4075-9154-21963bfec6b4')\"\n",
              "              title=\"Convert this dataframe to an interactive table.\"\n",
              "              style=\"display:none;\">\n",
              "        \n",
              "  <svg xmlns=\"http://www.w3.org/2000/svg\" height=\"24px\"viewBox=\"0 0 24 24\"\n",
              "       width=\"24px\">\n",
              "    <path d=\"M0 0h24v24H0V0z\" fill=\"none\"/>\n",
              "    <path d=\"M18.56 5.44l.94 2.06.94-2.06 2.06-.94-2.06-.94-.94-2.06-.94 2.06-2.06.94zm-11 1L8.5 8.5l.94-2.06 2.06-.94-2.06-.94L8.5 2.5l-.94 2.06-2.06.94zm10 10l.94 2.06.94-2.06 2.06-.94-2.06-.94-.94-2.06-.94 2.06-2.06.94z\"/><path d=\"M17.41 7.96l-1.37-1.37c-.4-.4-.92-.59-1.43-.59-.52 0-1.04.2-1.43.59L10.3 9.45l-7.72 7.72c-.78.78-.78 2.05 0 2.83L4 21.41c.39.39.9.59 1.41.59.51 0 1.02-.2 1.41-.59l7.78-7.78 2.81-2.81c.8-.78.8-2.07 0-2.86zM5.41 20L4 18.59l7.72-7.72 1.47 1.35L5.41 20z\"/>\n",
              "  </svg>\n",
              "      </button>\n",
              "      \n",
              "  <style>\n",
              "    .colab-df-container {\n",
              "      display:flex;\n",
              "      flex-wrap:wrap;\n",
              "      gap: 12px;\n",
              "    }\n",
              "\n",
              "    .colab-df-convert {\n",
              "      background-color: #E8F0FE;\n",
              "      border: none;\n",
              "      border-radius: 50%;\n",
              "      cursor: pointer;\n",
              "      display: none;\n",
              "      fill: #1967D2;\n",
              "      height: 32px;\n",
              "      padding: 0 0 0 0;\n",
              "      width: 32px;\n",
              "    }\n",
              "\n",
              "    .colab-df-convert:hover {\n",
              "      background-color: #E2EBFA;\n",
              "      box-shadow: 0px 1px 2px rgba(60, 64, 67, 0.3), 0px 1px 3px 1px rgba(60, 64, 67, 0.15);\n",
              "      fill: #174EA6;\n",
              "    }\n",
              "\n",
              "    [theme=dark] .colab-df-convert {\n",
              "      background-color: #3B4455;\n",
              "      fill: #D2E3FC;\n",
              "    }\n",
              "\n",
              "    [theme=dark] .colab-df-convert:hover {\n",
              "      background-color: #434B5C;\n",
              "      box-shadow: 0px 1px 3px 1px rgba(0, 0, 0, 0.15);\n",
              "      filter: drop-shadow(0px 1px 2px rgba(0, 0, 0, 0.3));\n",
              "      fill: #FFFFFF;\n",
              "    }\n",
              "  </style>\n",
              "\n",
              "      <script>\n",
              "        const buttonEl =\n",
              "          document.querySelector('#df-a5605aa8-a7d9-4075-9154-21963bfec6b4 button.colab-df-convert');\n",
              "        buttonEl.style.display =\n",
              "          google.colab.kernel.accessAllowed ? 'block' : 'none';\n",
              "\n",
              "        async function convertToInteractive(key) {\n",
              "          const element = document.querySelector('#df-a5605aa8-a7d9-4075-9154-21963bfec6b4');\n",
              "          const dataTable =\n",
              "            await google.colab.kernel.invokeFunction('convertToInteractive',\n",
              "                                                     [key], {});\n",
              "          if (!dataTable) return;\n",
              "\n",
              "          const docLinkHtml = 'Like what you see? Visit the ' +\n",
              "            '<a target=\"_blank\" href=https://colab.research.google.com/notebooks/data_table.ipynb>data table notebook</a>'\n",
              "            + ' to learn more about interactive tables.';\n",
              "          element.innerHTML = '';\n",
              "          dataTable['output_type'] = 'display_data';\n",
              "          await google.colab.output.renderOutput(dataTable, element);\n",
              "          const docLink = document.createElement('div');\n",
              "          docLink.innerHTML = docLinkHtml;\n",
              "          element.appendChild(docLink);\n",
              "        }\n",
              "      </script>\n",
              "    </div>\n",
              "  </div>\n",
              "  "
            ]
          },
          "metadata": {},
          "execution_count": 22
        }
      ]
    },
    {
      "cell_type": "code",
      "source": [
        "plt.figure(figsize=(10,5))\n",
        "sns.distplot(data_2['edad'])"
      ],
      "metadata": {
        "colab": {
          "base_uri": "https://localhost:8080/",
          "height": 409
        },
        "id": "eANi0QEkeC9W",
        "outputId": "d939f3ff-b168-41bf-e91c-1ded6d3d647c"
      },
      "execution_count": null,
      "outputs": [
        {
          "output_type": "stream",
          "name": "stderr",
          "text": [
            "/usr/local/lib/python3.7/dist-packages/seaborn/distributions.py:2619: FutureWarning: `distplot` is a deprecated function and will be removed in a future version. Please adapt your code to use either `displot` (a figure-level function with similar flexibility) or `histplot` (an axes-level function for histograms).\n",
            "  warnings.warn(msg, FutureWarning)\n"
          ]
        },
        {
          "output_type": "execute_result",
          "data": {
            "text/plain": [
              "<matplotlib.axes._subplots.AxesSubplot at 0x7f2ba1c66ed0>"
            ]
          },
          "metadata": {},
          "execution_count": 23
        },
        {
          "output_type": "display_data",
          "data": {
            "text/plain": [
              "<Figure size 720x360 with 1 Axes>"
            ],
            "image/png": "[encoded data removed]"
          },
          "metadata": {
            "needs_background": "light"
          }
        }
      ]
    },
    {
      "cell_type": "code",
      "source": [
        "#Revisión de valores nulos.\n",
        "print(data_2.isnull().sum().sort_values(ascending = False))\n",
        "na_por = ((data_2.isnull().sum() / len(data))*100).sort_values(ascending = False)\n",
        "print('##################################')\n",
        "print('Valores porcentuales de nulos')\n",
        "print(na_por)"
      ],
      "metadata": {
        "colab": {
          "base_uri": "https://localhost:8080/"
        },
        "id": "S8VDgkrFIhVr",
        "outputId": "b33aeea8-e1f9-4475-fe1d-ce0abfe0d618"
      },
      "execution_count": null,
      "outputs": [
        {
          "output_type": "stream",
          "name": "stdout",
          "text": [
            "depen           150121\n",
            "o16              97623\n",
            "oficio1          73889\n",
            "ytot             35468\n",
            "esc                997\n",
            "folio                0\n",
            "educ                 0\n",
            "calglobviv           0\n",
            "indsan               0\n",
            "indmat               0\n",
            "activ                0\n",
            "pobreza              0\n",
            "sexo                 0\n",
            "s12                  0\n",
            "o1                   0\n",
            "ecivil               0\n",
            "edad                 0\n",
            "hacinamiento         0\n",
            "dtype: int64\n",
            "##################################\n",
            "Valores porcentuales de nulos\n",
            "depen           69.550050\n",
            "o16             45.228079\n",
            "oficio1         34.232277\n",
            "ytot            16.432086\n",
            "esc              0.461903\n",
            "folio            0.000000\n",
            "educ             0.000000\n",
            "calglobviv       0.000000\n",
            "indsan           0.000000\n",
            "indmat           0.000000\n",
            "activ            0.000000\n",
            "pobreza          0.000000\n",
            "sexo             0.000000\n",
            "s12              0.000000\n",
            "o1               0.000000\n",
            "ecivil           0.000000\n",
            "edad             0.000000\n",
            "hacinamiento     0.000000\n",
            "dtype: float64\n"
          ]
        }
      ]
    },
    {
      "cell_type": "markdown",
      "source": [
        "Efectivamente hay cambios en los porcentajes de valores nulos:\n",
        "+ Dependencia administrativa [depen] paso de 73% a 69%, por lo tanto borro la columna.\n",
        "+ Tipo de contrato [o16] pasó de 68% a 45%, por lo tanto borro la columna.\n",
        "+ Ocupación u Oficio [oficio1] pasó de 57% a 34%, por lo tanto borro la columna.\n",
        "+ Ingreso Total [ytot] pasó de 33% a 16%, valor óptimo para imputar por la mediana.\n",
        "+ Escolaridad [esc] pasó de 19% a 0,4% y al ser pocos simplemente los imputaré por la mediana.\n",
        "+ Empleado [o1] pasó de 19% a 0%.\n",
        "+ Condición de actividad [activ] pasó de 19% a 0%.\n",
        "\n",
        "Este sería mi criterio para tratar los valores nulos de la base de datos.\n",
        "\n",
        "+ Además, se eliminará la varibale categórica que indica el tipo de educación y sólo se contará con la variable de los años. La variable \"estado civil\", también se retirará, esto se considera luego de revisar el informe \"Situación de pobreza; síntesis de resultados\" del Ministerio de Desarrollo del año 2018, donde no se considera esta variable en su análisis, y así, reducir en parte la data de trabajo pero no eliminándola de la data principal(al igual que todo lo modificado hasta ahora).\n",
        "+ A la variable objetivo 'pobreza' la agruparé entre pobres y no pobres, pasandola de tres a dos dimensiones.  "
      ],
      "metadata": {
        "id": "_YsFRLlkT-3u"
      }
    },
    {
      "cell_type": "code",
      "source": [
        "print(data_2[\"ytot\"].median())\n",
        "print(data_2[\"edad\"].median())"
      ],
      "metadata": {
        "colab": {
          "base_uri": "https://localhost:8080/"
        },
        "id": "qsEw3PongklG",
        "outputId": "e8ea47fe-b75a-4554-8570-0ee3c4b8855e"
      },
      "execution_count": null,
      "outputs": [
        {
          "output_type": "stream",
          "name": "stdout",
          "text": [
            "290000.0\n",
            "46.0\n"
          ]
        }
      ]
    },
    {
      "cell_type": "code",
      "source": [
        "#Elimino las variables con altos porcentajes de nulos y reemplazo por la mediana la variable años de escolaridad e ingresos.\n",
        "data_2.drop('depen', axis=1, inplace=True)\n",
        "data_2.drop('o16', axis=1, inplace=True)\n",
        "data_2.drop('oficio1', axis=1, inplace=True)\n",
        "data_2.drop('educ', axis=1, inplace=True)\n",
        "data_2.drop('ecivil', axis=1, inplace=True)\n",
        "data_2[\"esc\"].fillna(data_2[\"esc\"].median(skipna=True), inplace=True)\n",
        "data_2[\"ytot\"].fillna(data_2[\"ytot\"].median(skipna=True), inplace=True)\n",
        "data_2['cat_pobreza'] = np.where((data_2[\"pobreza\"])== 'No pobres', 0, 1)\n",
        "data_2.drop('pobreza', axis=1, inplace=True)\n",
        "data_2.drop('folio', axis=1, inplace=True)\n",
        "print(data_2.isnull().sum().sort_values(ascending = False))\n",
        "\n"
      ],
      "metadata": {
        "colab": {
          "base_uri": "https://localhost:8080/"
        },
        "id": "MdK5FjiaWFlq",
        "outputId": "ea2f727f-d577-4867-eb81-2da5fe6a6300"
      },
      "execution_count": null,
      "outputs": [
        {
          "output_type": "stream",
          "name": "stdout",
          "text": [
            "sexo            0\n",
            "edad            0\n",
            "o1              0\n",
            "s12             0\n",
            "ytot            0\n",
            "esc             0\n",
            "activ           0\n",
            "indmat          0\n",
            "indsan          0\n",
            "calglobviv      0\n",
            "hacinamiento    0\n",
            "cat_pobreza     0\n",
            "dtype: int64\n"
          ]
        },
        {
          "output_type": "stream",
          "name": "stderr",
          "text": [
            "/usr/local/lib/python3.7/dist-packages/pandas/core/frame.py:4913: SettingWithCopyWarning: \n",
            "A value is trying to be set on a copy of a slice from a DataFrame\n",
            "\n",
            "See the caveats in the documentation: https://pandas.pydata.org/pandas-docs/stable/user_guide/indexing.html#returning-a-view-versus-a-copy\n",
            "  errors=errors,\n",
            "/usr/local/lib/python3.7/dist-packages/pandas/core/generic.py:6392: SettingWithCopyWarning: \n",
            "A value is trying to be set on a copy of a slice from a DataFrame\n",
            "\n",
            "See the caveats in the documentation: https://pandas.pydata.org/pandas-docs/stable/user_guide/indexing.html#returning-a-view-versus-a-copy\n",
            "  return self._update_inplace(result)\n",
            "/usr/local/lib/python3.7/dist-packages/pandas/core/generic.py:6392: SettingWithCopyWarning: \n",
            "A value is trying to be set on a copy of a slice from a DataFrame\n",
            "\n",
            "See the caveats in the documentation: https://pandas.pydata.org/pandas-docs/stable/user_guide/indexing.html#returning-a-view-versus-a-copy\n",
            "  return self._update_inplace(result)\n",
            "/usr/local/lib/python3.7/dist-packages/ipykernel_launcher.py:9: SettingWithCopyWarning: \n",
            "A value is trying to be set on a copy of a slice from a DataFrame.\n",
            "Try using .loc[row_indexer,col_indexer] = value instead\n",
            "\n",
            "See the caveats in the documentation: https://pandas.pydata.org/pandas-docs/stable/user_guide/indexing.html#returning-a-view-versus-a-copy\n",
            "  if __name__ == '__main__':\n",
            "/usr/local/lib/python3.7/dist-packages/pandas/core/frame.py:4913: SettingWithCopyWarning: \n",
            "A value is trying to be set on a copy of a slice from a DataFrame\n",
            "\n",
            "See the caveats in the documentation: https://pandas.pydata.org/pandas-docs/stable/user_guide/indexing.html#returning-a-view-versus-a-copy\n",
            "  errors=errors,\n"
          ]
        }
      ]
    },
    {
      "cell_type": "code",
      "source": [
        "print(data_2['cat_pobreza'].value_counts())"
      ],
      "metadata": {
        "colab": {
          "base_uri": "https://localhost:8080/"
        },
        "id": "cw3qP5e9oDfj",
        "outputId": "002363bd-7c65-4dcd-fd43-4e779a1a34e5"
      },
      "execution_count": null,
      "outputs": [
        {
          "output_type": "stream",
          "name": "stdout",
          "text": [
            "0    152653\n",
            "1     13219\n",
            "Name: cat_pobreza, dtype: int64\n"
          ]
        }
      ]
    },
    {
      "cell_type": "code",
      "source": [
        "data_2.head(3)"
      ],
      "metadata": {
        "colab": {
          "base_uri": "https://localhost:8080/",
          "height": 143
        },
        "id": "V8v-6rMYgoAL",
        "outputId": "00b02a8f-eaf4-47de-f188-f1a04843e551"
      },
      "execution_count": null,
      "outputs": [
        {
          "output_type": "execute_result",
          "data": {
            "text/plain": [
              "     sexo  edad  o1                   s12      ytot   esc     activ  \\\n",
              "0   Mujer    56  Sí               No sabe  250000.0  12.0  Ocupados   \n",
              "1   Mujer    21  Sí  Ninguno (Particular)  211091.0   7.0  Ocupados   \n",
              "2  Hombre    24  Sí               No sabe  281750.0  12.0  Ocupados   \n",
              "\n",
              "               indmat       indsan   calglobviv  \\\n",
              "0  Vivienda Aceptable  Deficitario  Recuperable   \n",
              "1  Vivienda Aceptable    Aceptable    Aceptable   \n",
              "2  Vivienda Aceptable    Aceptable    Aceptable   \n",
              "\n",
              "                      hacinamiento  cat_pobreza  \n",
              "0  Sin hacinamiento (2,49 y menos)            0  \n",
              "1  Sin hacinamiento (2,49 y menos)            0  \n",
              "2  Sin hacinamiento (2,49 y menos)            0  "
            ],
            "text/html": [
              "\n",
              "  <div id=\"df-9fd9bb5e-401c-4b7e-af6d-c6035a23be5c\">\n",
              "    <div class=\"colab-df-container\">\n",
              "      <div>\n",
              "<style scoped>\n",
              "    .dataframe tbody tr th:only-of-type {\n",
              "        vertical-align: middle;\n",
              "    }\n",
              "\n",
              "    .dataframe tbody tr th {\n",
              "        vertical-align: top;\n",
              "    }\n",
              "\n",
              "    .dataframe thead th {\n",
              "        text-align: right;\n",
              "    }\n",
              "</style>\n",
              "<table border=\"1\" class=\"dataframe\">\n",
              "  <thead>\n",
              "    <tr style=\"text-align: right;\">\n",
              "      <th></th>\n",
              "      <th>sexo</th>\n",
              "      <th>edad</th>\n",
              "      <th>o1</th>\n",
              "      <th>s12</th>\n",
              "      <th>ytot</th>\n",
              "      <th>esc</th>\n",
              "      <th>activ</th>\n",
              "      <th>indmat</th>\n",
              "      <th>indsan</th>\n",
              "      <th>calglobviv</th>\n",
              "      <th>hacinamiento</th>\n",
              "      <th>cat_pobreza</th>\n",
              "    </tr>\n",
              "  </thead>\n",
              "  <tbody>\n",
              "    <tr>\n",
              "      <th>0</th>\n",
              "      <td>Mujer</td>\n",
              "      <td>56</td>\n",
              "      <td>Sí</td>\n",
              "      <td>No sabe</td>\n",
              "      <td>250000.0</td>\n",
              "      <td>12.0</td>\n",
              "      <td>Ocupados</td>\n",
              "      <td>Vivienda Aceptable</td>\n",
              "      <td>Deficitario</td>\n",
              "      <td>Recuperable</td>\n",
              "      <td>Sin hacinamiento (2,49 y menos)</td>\n",
              "      <td>0</td>\n",
              "    </tr>\n",
              "    <tr>\n",
              "      <th>1</th>\n",
              "      <td>Mujer</td>\n",
              "      <td>21</td>\n",
              "      <td>Sí</td>\n",
              "      <td>Ninguno (Particular)</td>\n",
              "      <td>211091.0</td>\n",
              "      <td>7.0</td>\n",
              "      <td>Ocupados</td>\n",
              "      <td>Vivienda Aceptable</td>\n",
              "      <td>Aceptable</td>\n",
              "      <td>Aceptable</td>\n",
              "      <td>Sin hacinamiento (2,49 y menos)</td>\n",
              "      <td>0</td>\n",
              "    </tr>\n",
              "    <tr>\n",
              "      <th>2</th>\n",
              "      <td>Hombre</td>\n",
              "      <td>24</td>\n",
              "      <td>Sí</td>\n",
              "      <td>No sabe</td>\n",
              "      <td>281750.0</td>\n",
              "      <td>12.0</td>\n",
              "      <td>Ocupados</td>\n",
              "      <td>Vivienda Aceptable</td>\n",
              "      <td>Aceptable</td>\n",
              "      <td>Aceptable</td>\n",
              "      <td>Sin hacinamiento (2,49 y menos)</td>\n",
              "      <td>0</td>\n",
              "    </tr>\n",
              "  </tbody>\n",
              "</table>\n",
              "</div>\n",
              "      <button class=\"colab-df-convert\" onclick=\"convertToInteractive('df-9fd9bb5e-401c-4b7e-af6d-c6035a23be5c')\"\n",
              "              title=\"Convert this dataframe to an interactive table.\"\n",
              "              style=\"display:none;\">\n",
              "        \n",
              "  <svg xmlns=\"http://www.w3.org/2000/svg\" height=\"24px\"viewBox=\"0 0 24 24\"\n",
              "       width=\"24px\">\n",
              "    <path d=\"M0 0h24v24H0V0z\" fill=\"none\"/>\n",
              "    <path d=\"M18.56 5.44l.94 2.06.94-2.06 2.06-.94-2.06-.94-.94-2.06-.94 2.06-2.06.94zm-11 1L8.5 8.5l.94-2.06 2.06-.94-2.06-.94L8.5 2.5l-.94 2.06-2.06.94zm10 10l.94 2.06.94-2.06 2.06-.94-2.06-.94-.94-2.06-.94 2.06-2.06.94z\"/><path d=\"M17.41 7.96l-1.37-1.37c-.4-.4-.92-.59-1.43-.59-.52 0-1.04.2-1.43.59L10.3 9.45l-7.72 7.72c-.78.78-.78 2.05 0 2.83L4 21.41c.39.39.9.59 1.41.59.51 0 1.02-.2 1.41-.59l7.78-7.78 2.81-2.81c.8-.78.8-2.07 0-2.86zM5.41 20L4 18.59l7.72-7.72 1.47 1.35L5.41 20z\"/>\n",
              "  </svg>\n",
              "      </button>\n",
              "      \n",
              "  <style>\n",
              "    .colab-df-container {\n",
              "      display:flex;\n",
              "      flex-wrap:wrap;\n",
              "      gap: 12px;\n",
              "    }\n",
              "\n",
              "    .colab-df-convert {\n",
              "      background-color: #E8F0FE;\n",
              "      border: none;\n",
              "      border-radius: 50%;\n",
              "      cursor: pointer;\n",
              "      display: none;\n",
              "      fill: #1967D2;\n",
              "      height: 32px;\n",
              "      padding: 0 0 0 0;\n",
              "      width: 32px;\n",
              "    }\n",
              "\n",
              "    .colab-df-convert:hover {\n",
              "      background-color: #E2EBFA;\n",
              "      box-shadow: 0px 1px 2px rgba(60, 64, 67, 0.3), 0px 1px 3px 1px rgba(60, 64, 67, 0.15);\n",
              "      fill: #174EA6;\n",
              "    }\n",
              "\n",
              "    [theme=dark] .colab-df-convert {\n",
              "      background-color: #3B4455;\n",
              "      fill: #D2E3FC;\n",
              "    }\n",
              "\n",
              "    [theme=dark] .colab-df-convert:hover {\n",
              "      background-color: #434B5C;\n",
              "      box-shadow: 0px 1px 3px 1px rgba(0, 0, 0, 0.15);\n",
              "      filter: drop-shadow(0px 1px 2px rgba(0, 0, 0, 0.3));\n",
              "      fill: #FFFFFF;\n",
              "    }\n",
              "  </style>\n",
              "\n",
              "      <script>\n",
              "        const buttonEl =\n",
              "          document.querySelector('#df-9fd9bb5e-401c-4b7e-af6d-c6035a23be5c button.colab-df-convert');\n",
              "        buttonEl.style.display =\n",
              "          google.colab.kernel.accessAllowed ? 'block' : 'none';\n",
              "\n",
              "        async function convertToInteractive(key) {\n",
              "          const element = document.querySelector('#df-9fd9bb5e-401c-4b7e-af6d-c6035a23be5c');\n",
              "          const dataTable =\n",
              "            await google.colab.kernel.invokeFunction('convertToInteractive',\n",
              "                                                     [key], {});\n",
              "          if (!dataTable) return;\n",
              "\n",
              "          const docLinkHtml = 'Like what you see? Visit the ' +\n",
              "            '<a target=\"_blank\" href=https://colab.research.google.com/notebooks/data_table.ipynb>data table notebook</a>'\n",
              "            + ' to learn more about interactive tables.';\n",
              "          element.innerHTML = '';\n",
              "          dataTable['output_type'] = 'display_data';\n",
              "          await google.colab.output.renderOutput(dataTable, element);\n",
              "          const docLink = document.createElement('div');\n",
              "          docLink.innerHTML = docLinkHtml;\n",
              "          element.appendChild(docLink);\n",
              "        }\n",
              "      </script>\n",
              "    </div>\n",
              "  </div>\n",
              "  "
            ]
          },
          "metadata": {},
          "execution_count": 28
        }
      ]
    },
    {
      "cell_type": "markdown",
      "source": [
        "**Copia de base de dato**"
      ],
      "metadata": {
        "id": "QL3-YmAMPvem"
      }
    },
    {
      "cell_type": "code",
      "source": [
        "data_3 = data_2"
      ],
      "metadata": {
        "id": "jQ__Ge77oi94"
      },
      "execution_count": null,
      "outputs": []
    },
    {
      "cell_type": "code",
      "source": [
        "data_3.shape"
      ],
      "metadata": {
        "colab": {
          "base_uri": "https://localhost:8080/"
        },
        "id": "qksCNo-PXn0p",
        "outputId": "02897ca2-8d3d-4e9d-cbc3-6972ae731a15"
      },
      "execution_count": null,
      "outputs": [
        {
          "output_type": "execute_result",
          "data": {
            "text/plain": [
              "(165872, 12)"
            ]
          },
          "metadata": {},
          "execution_count": 30
        }
      ]
    },
    {
      "cell_type": "code",
      "source": [
        "data_3.info()"
      ],
      "metadata": {
        "colab": {
          "base_uri": "https://localhost:8080/"
        },
        "id": "DYu2VRowpHbA",
        "outputId": "d2b41a86-414d-406a-c5ef-ccf94baf2890"
      },
      "execution_count": null,
      "outputs": [
        {
          "output_type": "stream",
          "name": "stdout",
          "text": [
            "<class 'pandas.core.frame.DataFrame'>\n",
            "Int64Index: 165872 entries, 0 to 216438\n",
            "Data columns (total 12 columns):\n",
            " #   Column        Non-Null Count   Dtype  \n",
            "---  ------        --------------   -----  \n",
            " 0   sexo          165872 non-null  object \n",
            " 1   edad          165872 non-null  int64  \n",
            " 2   o1            165872 non-null  object \n",
            " 3   s12           165872 non-null  object \n",
            " 4   ytot          165872 non-null  float64\n",
            " 5   esc           165872 non-null  float64\n",
            " 6   activ         165872 non-null  object \n",
            " 7   indmat        165872 non-null  object \n",
            " 8   indsan        165872 non-null  object \n",
            " 9   calglobviv    165872 non-null  object \n",
            " 10  hacinamiento  165872 non-null  object \n",
            " 11  cat_pobreza   165872 non-null  int64  \n",
            "dtypes: float64(2), int64(2), object(8)\n",
            "memory usage: 16.5+ MB\n"
          ]
        }
      ]
    },
    {
      "cell_type": "code",
      "source": [
        "#Observo el número de categorías de las variables, sin considerar las numéricas (escolaridad, salario, edad).\n",
        "data_3.nunique().sort_values()"
      ],
      "metadata": {
        "colab": {
          "base_uri": "https://localhost:8080/"
        },
        "id": "yKZNx-QHpLDk",
        "outputId": "a7b880c9-3a2d-4956-ec9f-560bb22b4831"
      },
      "execution_count": null,
      "outputs": [
        {
          "output_type": "execute_result",
          "data": {
            "text/plain": [
              "sexo                2\n",
              "o1                  2\n",
              "cat_pobreza         2\n",
              "activ               3\n",
              "indsan              3\n",
              "indmat              4\n",
              "calglobviv          4\n",
              "hacinamiento        5\n",
              "s12                10\n",
              "esc                23\n",
              "edad               83\n",
              "ytot            26805\n",
              "dtype: int64"
            ]
          },
          "metadata": {},
          "execution_count": 32
        }
      ]
    },
    {
      "cell_type": "markdown",
      "source": [
        "## **Análisis exploratorio univariado y bivariado** ##"
      ],
      "metadata": {
        "id": "2u54tYX86UE1"
      }
    },
    {
      "cell_type": "code",
      "source": [
        "def bar_plot(variable):\n",
        "\n",
        "    var = data_3[variable]\n",
        "\n",
        "    varValue = var.value_counts()\n",
        "\n",
        "    plt.figure(figsize = (8,5))\n",
        "    plt.bar(varValue.index, varValue)\n",
        "    plt.xticks(varValue.index, varValue.index.values)\n",
        "    plt.ylabel(\"Frequency\")\n",
        "    plt.title(variable)\n",
        "    plt.xticks(rotation=45)\n",
        "    plt.show()"
      ],
      "metadata": {
        "id": "oShyju4OacFK"
      },
      "execution_count": null,
      "outputs": []
    },
    {
      "cell_type": "code",
      "source": [
        "#Graficando principales variables categóricas.\n",
        "categoricas = ['cat_pobreza', 'sexo', 'o1', 'activ','indsan','indmat','calglobviv','hacinamiento']\n",
        "for c in categoricas:\n",
        "    bar_plot(c)"
      ],
      "metadata": {
        "colab": {
          "base_uri": "https://localhost:8080/",
          "height": 1000
        },
        "id": "YGGZ0Jr88cxU",
        "outputId": "c52bed0c-0724-40ad-df6f-8b7b7a67cb93"
      },
      "execution_count": null,
      "outputs": [
        {
          "output_type": "display_data",
          "data": {
            "text/plain": [
              "<Figure size 576x360 with 1 Axes>"
            ],
            "image/png": "[encoded data removed]"
          },
          "metadata": {}
        },
        {
          "output_type": "display_data",
          "data": {
            "text/plain": [
              "<Figure size 576x360 with 1 Axes>"
            ],
            "image/png": "[encoded data removed]"
          },
          "metadata": {}
        },
        {
          "output_type": "display_data",
          "data": {
            "text/plain": [
              "<Figure size 576x360 with 1 Axes>"
            ],
            "image/png": "[encoded data removed]"
          },
          "metadata": {}
        },
        {
          "output_type": "display_data",
          "data": {
            "text/plain": [
              "<Figure size 576x360 with 1 Axes>"
            ],
            "image/png": "[encoded data removed]"
          },
          "metadata": {}
        },
        {
          "output_type": "display_data",
          "data": {
            "text/plain": [
              "<Figure size 576x360 with 1 Axes>"
            ],
            "image/png": "[encoded data removed]"
          },
          "metadata": {}
        },
        {
          "output_type": "display_data",
          "data": {
            "text/plain": [
              "<Figure size 576x360 with 1 Axes>"
            ],
            "image/png": "[encoded data removed]"
          },
          "metadata": {}
        },
        {
          "output_type": "display_data",
          "data": {
            "text/plain": [
              "<Figure size 576x360 with 1 Axes>"
            ],
            "image/png": "[encoded data removed]"
          },
          "metadata": {}
        },
        {
          "output_type": "display_data",
          "data": {
            "text/plain": [
              "<Figure size 576x360 with 1 Axes>"
            ],
            "image/png": "[encoded data removed]"
          },
          "metadata": {}
        }
      ]
    },
    {
      "cell_type": "code",
      "source": [
        "#Gráfico de barra vertical de los sistemas de salud registrados.\n",
        "plt.figure(figsize=(15,8))\n",
        "sns.set_theme(style=\"darkgrid\")\n",
        "sns.countplot(y=\"s12\", data=data_3, palette=\"crest\")\n",
        "plt.ylabel('sistema de salud')\n",
        "plt.xlabel('Total')\n",
        "plt.show()"
      ],
      "metadata": {
        "colab": {
          "base_uri": "https://localhost:8080/",
          "height": 502
        },
        "id": "a28nOd0L8RVt",
        "outputId": "1eca0317-a255-46ed-b19e-a56d0c10fc02"
      },
      "execution_count": null,
      "outputs": [
        {
          "output_type": "display_data",
          "data": {
            "text/plain": [
              "<Figure size 1080x576 with 1 Axes>"
            ],
            "image/png": "[encoded data removed]"
          },
          "metadata": {}
        }
      ]
    },
    {
      "cell_type": "markdown",
      "source": [
        "+ **Análisis bivariado**"
      ],
      "metadata": {
        "id": "qe7GNAuwKqQN"
      }
    },
    {
      "cell_type": "code",
      "source": [
        "#Distribución de los ingresos, en escala logarítmica, por edad.\n",
        "plt.figure(figsize=(10,5))\n",
        "sns.regplot(y= np.log(data_3['ytot']), x=data_3['edad'])"
      ],
      "metadata": {
        "colab": {
          "base_uri": "https://localhost:8080/",
          "height": 357
        },
        "id": "RUShcbA7J9Ov",
        "outputId": "5d9fe2ae-a4b3-4655-c413-216389844418"
      },
      "execution_count": null,
      "outputs": [
        {
          "output_type": "execute_result",
          "data": {
            "text/plain": [
              "<matplotlib.axes._subplots.AxesSubplot at 0x7f2b57726f50>"
            ]
          },
          "metadata": {},
          "execution_count": 80
        },
        {
          "output_type": "display_data",
          "data": {
            "text/plain": [
              "<Figure size 720x360 with 1 Axes>"
            ],
            "image/png": "[encoded data removed]"
          },
          "metadata": {}
        }
      ]
    },
    {
      "cell_type": "code",
      "source": [
        "#Distribución de los ingresos, en escala logarítmica, por años de escolaridad.\n",
        "plt.figure(figsize=(10,5))\n",
        "sns.regplot(y= np.log(data_3['ytot']), x=data_3['esc'])"
      ],
      "metadata": {
        "colab": {
          "base_uri": "https://localhost:8080/",
          "height": 357
        },
        "id": "1ZCsvOBZKdeZ",
        "outputId": "8d7388a4-4d89-4734-8f2e-f98da57604fa"
      },
      "execution_count": null,
      "outputs": [
        {
          "output_type": "execute_result",
          "data": {
            "text/plain": [
              "<matplotlib.axes._subplots.AxesSubplot at 0x7f2b576ef350>"
            ]
          },
          "metadata": {},
          "execution_count": 81
        },
        {
          "output_type": "display_data",
          "data": {
            "text/plain": [
              "<Figure size 720x360 with 1 Axes>"
            ],
            "image/png": "[encoded data removed]"
          },
          "metadata": {}
        }
      ]
    },
    {
      "cell_type": "code",
      "source": [
        "#Distribución de los ingresos, en escala logarítmica, por sexo.\n",
        "plt.figure(figsize=(10,5))\n",
        "sns.boxplot(x=np.log(data_3[\"ytot\"]), y=\"sexo\",\n",
        "            hue=\"sexo\", palette=[\"m\", \"g\"],\n",
        "            data=data_3)\n",
        "sns.despine(offset=10, trim=True)"
      ],
      "metadata": {
        "colab": {
          "base_uri": "https://localhost:8080/",
          "height": 349
        },
        "id": "PQ_YACSxJ1Dp",
        "outputId": "be0c6a2d-0ac2-41ad-c0ef-60b4ef687c40"
      },
      "execution_count": null,
      "outputs": [
        {
          "output_type": "display_data",
          "data": {
            "text/plain": [
              "<Figure size 720x360 with 1 Axes>"
            ],
            "image/png": "[encoded data removed]"
          },
          "metadata": {}
        }
      ]
    },
    {
      "cell_type": "code",
      "source": [
        "#Cantidad de no pobrezx y pobres total\n",
        "plt.figure(figsize=(10,5))\n",
        "sns.set_theme(style=\"darkgrid\")\n",
        "sns.countplot(x=\"cat_pobreza\", data=data_3, palette=\"magma\")\n",
        "plt.xlabel('categorías')\n",
        "plt.ylabel('Total')\n",
        "plt.legend(['No pobres', 'pobres'])\n",
        "plt.show()"
      ],
      "metadata": {
        "colab": {
          "base_uri": "https://localhost:8080/",
          "height": 343
        },
        "id": "Y2Csyux_MGcU",
        "outputId": "abaa3ee8-2486-40c9-e95d-28bdd94c73e1"
      },
      "execution_count": null,
      "outputs": [
        {
          "output_type": "display_data",
          "data": {
            "text/plain": [
              "<Figure size 720x360 with 1 Axes>"
            ],
            "image/png": "[encoded data removed]"
          },
          "metadata": {}
        }
      ]
    },
    {
      "cell_type": "code",
      "source": [
        "#Tablas cruzadas entre aexo por categoría\n",
        "pd.crosstab(data_3.sexo,data_3.cat_pobreza).plot(kind=\"bar\",figsize=(15,5),color=['#6929c4','#1192e8'])\n",
        "plt.title('Sexo por categoría')\n",
        "plt.xlabel('sexo')\n",
        "plt.xticks(rotation=45)\n",
        "plt.ylabel('Frequency')\n",
        "plt.legend(['No pobres', 'pobres'])\n",
        "plt.show()"
      ],
      "metadata": {
        "colab": {
          "base_uri": "https://localhost:8080/",
          "height": 383
        },
        "id": "ZKsEl613MqsQ",
        "outputId": "0bb8a618-dda1-4715-8e1e-0dd34e1ec108"
      },
      "execution_count": null,
      "outputs": [
        {
          "output_type": "display_data",
          "data": {
            "text/plain": [
              "<Figure size 1080x360 with 1 Axes>"
            ],
            "image/png": "[encoded data removed]"
          },
          "metadata": {}
        }
      ]
    },
    {
      "cell_type": "code",
      "source": [
        "#Tablas cruzadas entre sexo por categoría.\n",
        "pd.crosstab(data_3.o1,data_3.cat_pobreza).plot(kind=\"bar\",figsize=(15,5),color=['#6929c4','#1192e8'])\n",
        "plt.title('Empleado por categoría')\n",
        "plt.xlabel('Empleado')\n",
        "plt.xticks(rotation=0)\n",
        "plt.ylabel('Frequency')\n",
        "plt.legend(['No pobres', 'pobres'])\n",
        "plt.show()"
      ],
      "metadata": {
        "colab": {
          "base_uri": "https://localhost:8080/",
          "height": 355
        },
        "id": "SMMek_1hOBNO",
        "outputId": "6f2b4f1c-20fe-4203-a75e-95d725762882"
      },
      "execution_count": null,
      "outputs": [
        {
          "output_type": "display_data",
          "data": {
            "text/plain": [
              "<Figure size 1080x360 with 1 Axes>"
            ],
            "image/png": "[encoded data removed]"
          },
          "metadata": {}
        }
      ]
    },
    {
      "cell_type": "code",
      "source": [
        "#Tablas cruzadas entre actividad por categoría.\n",
        "pd.crosstab(data_3.activ,data_3.cat_pobreza).plot(kind=\"bar\",figsize=(15,5),color=['#6929c4','#1192e8'])\n",
        "plt.title('Condición de actividad por categoría')\n",
        "plt.xlabel('Condición de actividad')\n",
        "plt.xticks(rotation=0)\n",
        "plt.ylabel('Frequency')\n",
        "plt.legend(['No pobres', 'pobres'])\n",
        "plt.show()"
      ],
      "metadata": {
        "colab": {
          "base_uri": "https://localhost:8080/",
          "height": 355
        },
        "id": "e8rfeiSNOXr2",
        "outputId": "5107d6c4-e57a-410a-8700-a7d3abd876b9"
      },
      "execution_count": null,
      "outputs": [
        {
          "output_type": "display_data",
          "data": {
            "text/plain": [
              "<Figure size 1080x360 with 1 Axes>"
            ],
            "image/png": "[encoded data removed]"
          },
          "metadata": {}
        }
      ]
    },
    {
      "cell_type": "code",
      "source": [
        "#Tablas cruzadas entre indicador de Saneamiento por categoría.\n",
        "pd.crosstab(data_3.indsan,data_3.cat_pobreza).plot(kind=\"bar\",figsize=(15,5),color=['#6929c4','#1192e8'])\n",
        "plt.title('Indicador de Saneamiento por categoría')\n",
        "plt.xlabel('Indicador de Saneamiento')\n",
        "plt.xticks(rotation=0)\n",
        "plt.ylabel('Frequency')\n",
        "plt.legend(['No pobres', 'pobres'])\n",
        "plt.show()"
      ],
      "metadata": {
        "colab": {
          "base_uri": "https://localhost:8080/",
          "height": 355
        },
        "id": "Qd7afoMxNsNT",
        "outputId": "5c8e09d3-83d8-4ce9-b8fa-32ed0e902361"
      },
      "execution_count": null,
      "outputs": [
        {
          "output_type": "display_data",
          "data": {
            "text/plain": [
              "<Figure size 1080x360 with 1 Axes>"
            ],
            "image/png": "[encoded data removed]"
          },
          "metadata": {}
        }
      ]
    },
    {
      "cell_type": "code",
      "source": [
        "#Tablas cruzadas entre Indicador de materialidad por categoría.\n",
        "pd.crosstab(data_3.indmat,data_3.cat_pobreza).plot(kind=\"bar\",figsize=(15,5),color=['#6929c4','#1192e8'])\n",
        "plt.title('Indicador de materialidad por categoría')\n",
        "plt.xlabel('Indicador de materialidad')\n",
        "plt.xticks(rotation=0)\n",
        "plt.ylabel('Frequency')\n",
        "plt.legend(['No pobres', 'pobres'])\n",
        "plt.show()"
      ],
      "metadata": {
        "colab": {
          "base_uri": "https://localhost:8080/",
          "height": 355
        },
        "id": "y4ygM48zNmYU",
        "outputId": "621b3a9a-588e-4e67-9cc2-1572c4aadfa7"
      },
      "execution_count": null,
      "outputs": [
        {
          "output_type": "display_data",
          "data": {
            "text/plain": [
              "<Figure size 1080x360 with 1 Axes>"
            ],
            "image/png": "[encoded data removed]"
          },
          "metadata": {}
        }
      ]
    },
    {
      "cell_type": "code",
      "source": [
        "#Tablas cruzadas entre Calidad global de la vivienda por categoría.\n",
        "pd.crosstab(data_3.calglobviv,data_3.cat_pobreza).plot(kind=\"bar\",figsize=(15,5),color=['#6929c4','#1192e8'])\n",
        "plt.title('Calidad global de la vivienda por categoría')\n",
        "plt.xlabel('Calidad global de la vivienda')\n",
        "plt.xticks(rotation=0)\n",
        "plt.ylabel('Frequency')\n",
        "plt.legend(['No pobres', 'pobres'])\n",
        "plt.show()"
      ],
      "metadata": {
        "colab": {
          "base_uri": "https://localhost:8080/",
          "height": 355
        },
        "id": "JC1QPj6VPvXK",
        "outputId": "9f4a6e80-b21b-4666-b4ae-cb76f892ed07"
      },
      "execution_count": null,
      "outputs": [
        {
          "output_type": "display_data",
          "data": {
            "text/plain": [
              "<Figure size 1080x360 with 1 Axes>"
            ],
            "image/png": "[encoded data removed]"
          },
          "metadata": {}
        }
      ]
    },
    {
      "cell_type": "code",
      "source": [
        "#Tablas cruzadas entre hacinamiento] por categoría.\n",
        "pd.crosstab(data_3.hacinamiento,data_3.cat_pobreza).plot(kind=\"bar\",figsize=(15,5),color=['#6929c4','#1192e8'])\n",
        "plt.title('hacinamiento por categoría')\n",
        "plt.xlabel('hacinamiento]')\n",
        "plt.xticks(rotation=45)\n",
        "plt.ylabel('Frequency')\n",
        "plt.legend(['No pobres', 'pobres'])\n",
        "plt.show()"
      ],
      "metadata": {
        "colab": {
          "base_uri": "https://localhost:8080/",
          "height": 500
        },
        "id": "rLHyTRglMlgX",
        "outputId": "ee6eb63d-abe2-45ec-b0bf-14dcc2cfc058"
      },
      "execution_count": null,
      "outputs": [
        {
          "output_type": "display_data",
          "data": {
            "text/plain": [
              "<Figure size 1080x360 with 1 Axes>"
            ],
            "image/png": "[encoded data removed]"
          },
          "metadata": {}
        }
      ]
    },
    {
      "cell_type": "code",
      "source": [
        "#Tablas cruzadas entre hacinamiento] por categoría.\n",
        "pd.crosstab(data_3.s12,data_3.cat_pobreza).plot(kind=\"bar\",figsize=(22,5),color=['#6929c4','#1192e8'])\n",
        "plt.title('Sistema de salud previsional por categoría')\n",
        "plt.xlabel('Sistema de salud previsional]')\n",
        "plt.xticks(rotation=45)\n",
        "plt.ylabel('Frequency')\n",
        "plt.legend(['No pobres', 'pobres'])\n",
        "plt.show()"
      ],
      "metadata": {
        "colab": {
          "base_uri": "https://localhost:8080/",
          "height": 509
        },
        "id": "PQpETeSJQUDR",
        "outputId": "af58f508-4f21-482f-f64f-d3ff96c10b15"
      },
      "execution_count": null,
      "outputs": [
        {
          "output_type": "display_data",
          "data": {
            "text/plain": [
              "<Figure size 1584x360 with 1 Axes>"
            ],
            "image/png": "[encoded data removed]"
          },
          "metadata": {}
        }
      ]
    },
    {
      "cell_type": "markdown",
      "source": [
        "## **Corto la data en 'entrenamiento' y 'test'** ##"
      ],
      "metadata": {
        "id": "9A639S9NrqHP"
      }
    },
    {
      "cell_type": "code",
      "source": [
        "y = data_3['cat_pobreza']\n",
        "X = data_3.drop('cat_pobreza', axis=1)\n",
        "\n",
        "from sklearn.model_selection import train_test_split\n",
        "X_train, X_test, y_train, y_test = train_test_split(X, y, train_size=0.8, random_state=2 )"
      ],
      "metadata": {
        "id": "bzXeqxnCruxq"
      },
      "execution_count": null,
      "outputs": []
    },
    {
      "cell_type": "code",
      "source": [
        "X_train.shape , y_train.shape , X_test.shape , y_test.shape"
      ],
      "metadata": {
        "colab": {
          "base_uri": "https://localhost:8080/"
        },
        "id": "LS2Am32Jtf88",
        "outputId": "ab08c1ea-0b1b-4e7d-9b0b-1efe28bc0503"
      },
      "execution_count": null,
      "outputs": [
        {
          "output_type": "execute_result",
          "data": {
            "text/plain": [
              "((132697, 11), (132697,), (33175, 11), (33175,))"
            ]
          },
          "metadata": {},
          "execution_count": 98
        }
      ]
    },
    {
      "cell_type": "code",
      "source": [
        "X_train.head()"
      ],
      "metadata": {
        "colab": {
          "base_uri": "https://localhost:8080/",
          "height": 206
        },
        "id": "u_NCyJCWuEXk",
        "outputId": "653a0295-1902-43b4-c074-fb3b1e8a0b99"
      },
      "execution_count": null,
      "outputs": [
        {
          "output_type": "execute_result",
          "data": {
            "text/plain": [
              "          sexo  edad  o1                             s12      ytot   esc  \\\n",
              "141757  Hombre    78  No  Sistema Público FONASA Grupo B  138500.0  12.0   \n",
              "156656   Mujer    34  Sí                          ISAPRE  290000.0  12.0   \n",
              "33250    Mujer    55  Sí  Sistema Público FONASA Grupo B  267000.0  12.0   \n",
              "125643   Mujer    48  Sí  Sistema Público FONASA Grupo B   18459.0  10.0   \n",
              "109598  Hombre    70  Sí  Sistema Público FONASA Grupo A  184997.0   3.0   \n",
              "\n",
              "            activ              indmat       indsan   calglobviv  \\\n",
              "141757  Inactivos  Vivienda Aceptable    Aceptable    Aceptable   \n",
              "156656   Ocupados  Vivienda Aceptable    Aceptable    Aceptable   \n",
              "33250    Ocupados  Vivienda Aceptable    Aceptable    Aceptable   \n",
              "125643   Ocupados  Vivienda Aceptable  Deficitario  Recuperable   \n",
              "109598   Ocupados  Vivienda Aceptable    Aceptable    Aceptable   \n",
              "\n",
              "                           hacinamiento  \n",
              "141757  Sin hacinamiento (2,49 y menos)  \n",
              "156656  Sin hacinamiento (2,49 y menos)  \n",
              "33250   Sin hacinamiento (2,49 y menos)  \n",
              "125643  Sin hacinamiento (2,49 y menos)  \n",
              "109598  Sin hacinamiento (2,49 y menos)  "
            ],
            "text/html": [
              "\n",
              "  <div id=\"df-dbf67944-62b3-4c76-ba51-228d4d2c221c\">\n",
              "    <div class=\"colab-df-container\">\n",
              "      <div>\n",
              "<style scoped>\n",
              "    .dataframe tbody tr th:only-of-type {\n",
              "        vertical-align: middle;\n",
              "    }\n",
              "\n",
              "    .dataframe tbody tr th {\n",
              "        vertical-align: top;\n",
              "    }\n",
              "\n",
              "    .dataframe thead th {\n",
              "        text-align: right;\n",
              "    }\n",
              "</style>\n",
              "<table border=\"1\" class=\"dataframe\">\n",
              "  <thead>\n",
              "    <tr style=\"text-align: right;\">\n",
              "      <th></th>\n",
              "      <th>sexo</th>\n",
              "      <th>edad</th>\n",
              "      <th>o1</th>\n",
              "      <th>s12</th>\n",
              "      <th>ytot</th>\n",
              "      <th>esc</th>\n",
              "      <th>activ</th>\n",
              "      <th>indmat</th>\n",
              "      <th>indsan</th>\n",
              "      <th>calglobviv</th>\n",
              "      <th>hacinamiento</th>\n",
              "    </tr>\n",
              "  </thead>\n",
              "  <tbody>\n",
              "    <tr>\n",
              "      <th>141757</th>\n",
              "      <td>Hombre</td>\n",
              "      <td>78</td>\n",
              "      <td>No</td>\n",
              "      <td>Sistema Público FONASA Grupo B</td>\n",
              "      <td>138500.0</td>\n",
              "      <td>12.0</td>\n",
              "      <td>Inactivos</td>\n",
              "      <td>Vivienda Aceptable</td>\n",
              "      <td>Aceptable</td>\n",
              "      <td>Aceptable</td>\n",
              "      <td>Sin hacinamiento (2,49 y menos)</td>\n",
              "    </tr>\n",
              "    <tr>\n",
              "      <th>156656</th>\n",
              "      <td>Mujer</td>\n",
              "      <td>34</td>\n",
              "      <td>Sí</td>\n",
              "      <td>ISAPRE</td>\n",
              "      <td>290000.0</td>\n",
              "      <td>12.0</td>\n",
              "      <td>Ocupados</td>\n",
              "      <td>Vivienda Aceptable</td>\n",
              "      <td>Aceptable</td>\n",
              "      <td>Aceptable</td>\n",
              "      <td>Sin hacinamiento (2,49 y menos)</td>\n",
              "    </tr>\n",
              "    <tr>\n",
              "      <th>33250</th>\n",
              "      <td>Mujer</td>\n",
              "      <td>55</td>\n",
              "      <td>Sí</td>\n",
              "      <td>Sistema Público FONASA Grupo B</td>\n",
              "      <td>267000.0</td>\n",
              "      <td>12.0</td>\n",
              "      <td>Ocupados</td>\n",
              "      <td>Vivienda Aceptable</td>\n",
              "      <td>Aceptable</td>\n",
              "      <td>Aceptable</td>\n",
              "      <td>Sin hacinamiento (2,49 y menos)</td>\n",
              "    </tr>\n",
              "    <tr>\n",
              "      <th>125643</th>\n",
              "      <td>Mujer</td>\n",
              "      <td>48</td>\n",
              "      <td>Sí</td>\n",
              "      <td>Sistema Público FONASA Grupo B</td>\n",
              "      <td>18459.0</td>\n",
              "      <td>10.0</td>\n",
              "      <td>Ocupados</td>\n",
              "      <td>Vivienda Aceptable</td>\n",
              "      <td>Deficitario</td>\n",
              "      <td>Recuperable</td>\n",
              "      <td>Sin hacinamiento (2,49 y menos)</td>\n",
              "    </tr>\n",
              "    <tr>\n",
              "      <th>109598</th>\n",
              "      <td>Hombre</td>\n",
              "      <td>70</td>\n",
              "      <td>Sí</td>\n",
              "      <td>Sistema Público FONASA Grupo A</td>\n",
              "      <td>184997.0</td>\n",
              "      <td>3.0</td>\n",
              "      <td>Ocupados</td>\n",
              "      <td>Vivienda Aceptable</td>\n",
              "      <td>Aceptable</td>\n",
              "      <td>Aceptable</td>\n",
              "      <td>Sin hacinamiento (2,49 y menos)</td>\n",
              "    </tr>\n",
              "  </tbody>\n",
              "</table>\n",
              "</div>\n",
              "      <button class=\"colab-df-convert\" onclick=\"convertToInteractive('df-dbf67944-62b3-4c76-ba51-228d4d2c221c')\"\n",
              "              title=\"Convert this dataframe to an interactive table.\"\n",
              "              style=\"display:none;\">\n",
              "        \n",
              "  <svg xmlns=\"http://www.w3.org/2000/svg\" height=\"24px\"viewBox=\"0 0 24 24\"\n",
              "       width=\"24px\">\n",
              "    <path d=\"M0 0h24v24H0V0z\" fill=\"none\"/>\n",
              "    <path d=\"M18.56 5.44l.94 2.06.94-2.06 2.06-.94-2.06-.94-.94-2.06-.94 2.06-2.06.94zm-11 1L8.5 8.5l.94-2.06 2.06-.94-2.06-.94L8.5 2.5l-.94 2.06-2.06.94zm10 10l.94 2.06.94-2.06 2.06-.94-2.06-.94-.94-2.06-.94 2.06-2.06.94z\"/><path d=\"M17.41 7.96l-1.37-1.37c-.4-.4-.92-.59-1.43-.59-.52 0-1.04.2-1.43.59L10.3 9.45l-7.72 7.72c-.78.78-.78 2.05 0 2.83L4 21.41c.39.39.9.59 1.41.59.51 0 1.02-.2 1.41-.59l7.78-7.78 2.81-2.81c.8-.78.8-2.07 0-2.86zM5.41 20L4 18.59l7.72-7.72 1.47 1.35L5.41 20z\"/>\n",
              "  </svg>\n",
              "      </button>\n",
              "      \n",
              "  <style>\n",
              "    .colab-df-container {\n",
              "      display:flex;\n",
              "      flex-wrap:wrap;\n",
              "      gap: 12px;\n",
              "    }\n",
              "\n",
              "    .colab-df-convert {\n",
              "      background-color: #E8F0FE;\n",
              "      border: none;\n",
              "      border-radius: 50%;\n",
              "      cursor: pointer;\n",
              "      display: none;\n",
              "      fill: #1967D2;\n",
              "      height: 32px;\n",
              "      padding: 0 0 0 0;\n",
              "      width: 32px;\n",
              "    }\n",
              "\n",
              "    .colab-df-convert:hover {\n",
              "      background-color: #E2EBFA;\n",
              "      box-shadow: 0px 1px 2px rgba(60, 64, 67, 0.3), 0px 1px 3px 1px rgba(60, 64, 67, 0.15);\n",
              "      fill: #174EA6;\n",
              "    }\n",
              "\n",
              "    [theme=dark] .colab-df-convert {\n",
              "      background-color: #3B4455;\n",
              "      fill: #D2E3FC;\n",
              "    }\n",
              "\n",
              "    [theme=dark] .colab-df-convert:hover {\n",
              "      background-color: #434B5C;\n",
              "      box-shadow: 0px 1px 3px 1px rgba(0, 0, 0, 0.15);\n",
              "      filter: drop-shadow(0px 1px 2px rgba(0, 0, 0, 0.3));\n",
              "      fill: #FFFFFF;\n",
              "    }\n",
              "  </style>\n",
              "\n",
              "      <script>\n",
              "        const buttonEl =\n",
              "          document.querySelector('#df-dbf67944-62b3-4c76-ba51-228d4d2c221c button.colab-df-convert');\n",
              "        buttonEl.style.display =\n",
              "          google.colab.kernel.accessAllowed ? 'block' : 'none';\n",
              "\n",
              "        async function convertToInteractive(key) {\n",
              "          const element = document.querySelector('#df-dbf67944-62b3-4c76-ba51-228d4d2c221c');\n",
              "          const dataTable =\n",
              "            await google.colab.kernel.invokeFunction('convertToInteractive',\n",
              "                                                     [key], {});\n",
              "          if (!dataTable) return;\n",
              "\n",
              "          const docLinkHtml = 'Like what you see? Visit the ' +\n",
              "            '<a target=\"_blank\" href=https://colab.research.google.com/notebooks/data_table.ipynb>data table notebook</a>'\n",
              "            + ' to learn more about interactive tables.';\n",
              "          element.innerHTML = '';\n",
              "          dataTable['output_type'] = 'display_data';\n",
              "          await google.colab.output.renderOutput(dataTable, element);\n",
              "          const docLink = document.createElement('div');\n",
              "          docLink.innerHTML = docLinkHtml;\n",
              "          element.appendChild(docLink);\n",
              "        }\n",
              "      </script>\n",
              "    </div>\n",
              "  </div>\n",
              "  "
            ]
          },
          "metadata": {},
          "execution_count": 99
        }
      ]
    },
    {
      "cell_type": "markdown",
      "source": [
        "+ Genero varibles dummies y elimino categorías que se repitan o que indiquen sin respuesta/no sabe."
      ],
      "metadata": {
        "id": "VwTDGXpo-3IG"
      }
    },
    {
      "cell_type": "code",
      "source": [
        "X_train = pd.get_dummies(X_train)\n",
        "X_train.drop('sexo_Mujer', axis=1, inplace=True)\n",
        "X_train.drop('o1_Sí', axis=1, inplace=True)\n",
        "X_train.drop('indsan_Deficitario', axis=1, inplace=True)\n",
        "X_train.drop('activ_Desocupados', axis=1, inplace=True)\n",
        "X_train.drop('calglobviv_Sin dato', axis=1, inplace=True)\n",
        "X_train.drop('indsan_Sin Dato', axis=1, inplace=True)\n",
        "X_train.drop('indmat_SD/NR', axis=1, inplace=True)\n",
        "X_train.drop('hacinamiento_NS/NR', axis=1, inplace=True)\n",
        "X_test = pd.get_dummies(X_test)\n",
        "X_test.drop('sexo_Mujer', axis=1, inplace=True)\n",
        "X_test.drop('o1_Sí', axis=1, inplace=True)\n",
        "X_test.drop('indsan_Deficitario', axis=1, inplace=True)\n",
        "X_test.drop('activ_Desocupados', axis=1, inplace=True)\n",
        "X_test.drop('calglobviv_Sin dato', axis=1, inplace=True)\n",
        "X_test.drop('indsan_Sin Dato', axis=1, inplace=True)\n",
        "X_test.drop('indmat_SD/NR', axis=1, inplace=True)\n",
        "X_test.drop('hacinamiento_NS/NR', axis=1, inplace=True)\n"
      ],
      "metadata": {
        "id": "i2Khl2_NtsXE"
      },
      "execution_count": null,
      "outputs": []
    },
    {
      "cell_type": "code",
      "source": [
        "X_train.head()"
      ],
      "metadata": {
        "colab": {
          "base_uri": "https://localhost:8080/",
          "height": 334
        },
        "id": "tGPdON8TRV7s",
        "outputId": "ba509b0b-c2d1-40da-e725-5a276b070a01"
      },
      "execution_count": null,
      "outputs": [
        {
          "output_type": "execute_result",
          "data": {
            "text/plain": [
              "        edad      ytot   esc  sexo_Hombre  o1_No  s12_FF.AA. y de Orden  \\\n",
              "141757    78  138500.0  12.0            1      1                      0   \n",
              "156656    34  290000.0  12.0            0      0                      0   \n",
              "33250     55  267000.0  12.0            0      0                      0   \n",
              "125643    48   18459.0  10.0            0      0                      0   \n",
              "109598    70  184997.0   3.0            1      0                      0   \n",
              "\n",
              "        s12_ISAPRE  s12_Ninguno (Particular)  s12_No sabe  s12_Otro sistema  \\\n",
              "141757           0                         0            0                 0   \n",
              "156656           1                         0            0                 0   \n",
              "33250            0                         0            0                 0   \n",
              "125643           0                         0            0                 0   \n",
              "109598           0                         0            0                 0   \n",
              "\n",
              "        ...  indmat_Vivienda Irrecuperable  indmat_Vivienda Recuperable  \\\n",
              "141757  ...                              0                            0   \n",
              "156656  ...                              0                            0   \n",
              "33250   ...                              0                            0   \n",
              "125643  ...                              0                            0   \n",
              "109598  ...                              0                            0   \n",
              "\n",
              "        indsan_Aceptable  calglobviv_Aceptable  calglobviv_Irrecuperable  \\\n",
              "141757                 1                     1                         0   \n",
              "156656                 1                     1                         0   \n",
              "33250                  1                     1                         0   \n",
              "125643                 0                     0                         0   \n",
              "109598                 1                     1                         0   \n",
              "\n",
              "        calglobviv_Recuperable  hacinamiento_Hacinamiento crítico (5 y más)  \\\n",
              "141757                       0                                            0   \n",
              "156656                       0                                            0   \n",
              "33250                        0                                            0   \n",
              "125643                       1                                            0   \n",
              "109598                       0                                            0   \n",
              "\n",
              "        hacinamiento_Hacinamiento medio alto (3,5 a 4,9)  \\\n",
              "141757                                                 0   \n",
              "156656                                                 0   \n",
              "33250                                                  0   \n",
              "125643                                                 0   \n",
              "109598                                                 0   \n",
              "\n",
              "        hacinamiento_Hacinamiento medio bajo (2,5 a 3,49)  \\\n",
              "141757                                                  0   \n",
              "156656                                                  0   \n",
              "33250                                                   0   \n",
              "125643                                                  0   \n",
              "109598                                                  0   \n",
              "\n",
              "        hacinamiento_Sin hacinamiento (2,49 y menos)  \n",
              "141757                                             1  \n",
              "156656                                             1  \n",
              "33250                                              1  \n",
              "125643                                             1  \n",
              "109598                                             1  \n",
              "\n",
              "[5 rows x 28 columns]"
            ],
            "text/html": [
              "\n",
              "  <div id=\"df-82cd5ee4-1d9a-4d32-87e5-cd3fa17464b3\">\n",
              "    <div class=\"colab-df-container\">\n",
              "      <div>\n",
              "<style scoped>\n",
              "    .dataframe tbody tr th:only-of-type {\n",
              "        vertical-align: middle;\n",
              "    }\n",
              "\n",
              "    .dataframe tbody tr th {\n",
              "        vertical-align: top;\n",
              "    }\n",
              "\n",
              "    .dataframe thead th {\n",
              "        text-align: right;\n",
              "    }\n",
              "</style>\n",
              "<table border=\"1\" class=\"dataframe\">\n",
              "  <thead>\n",
              "    <tr style=\"text-align: right;\">\n",
              "      <th></th>\n",
              "      <th>edad</th>\n",
              "      <th>ytot</th>\n",
              "      <th>esc</th>\n",
              "      <th>sexo_Hombre</th>\n",
              "      <th>o1_No</th>\n",
              "      <th>s12_FF.AA. y de Orden</th>\n",
              "      <th>s12_ISAPRE</th>\n",
              "      <th>s12_Ninguno (Particular)</th>\n",
              "      <th>s12_No sabe</th>\n",
              "      <th>s12_Otro sistema</th>\n",
              "      <th>...</th>\n",
              "      <th>indmat_Vivienda Irrecuperable</th>\n",
              "      <th>indmat_Vivienda Recuperable</th>\n",
              "      <th>indsan_Aceptable</th>\n",
              "      <th>calglobviv_Aceptable</th>\n",
              "      <th>calglobviv_Irrecuperable</th>\n",
              "      <th>calglobviv_Recuperable</th>\n",
              "      <th>hacinamiento_Hacinamiento crítico (5 y más)</th>\n",
              "      <th>hacinamiento_Hacinamiento medio alto (3,5 a 4,9)</th>\n",
              "      <th>hacinamiento_Hacinamiento medio bajo (2,5 a 3,49)</th>\n",
              "      <th>hacinamiento_Sin hacinamiento (2,49 y menos)</th>\n",
              "    </tr>\n",
              "  </thead>\n",
              "  <tbody>\n",
              "    <tr>\n",
              "      <th>141757</th>\n",
              "      <td>78</td>\n",
              "      <td>138500.0</td>\n",
              "      <td>12.0</td>\n",
              "      <td>1</td>\n",
              "      <td>1</td>\n",
              "      <td>0</td>\n",
              "      <td>0</td>\n",
              "      <td>0</td>\n",
              "      <td>0</td>\n",
              "      <td>0</td>\n",
              "      <td>...</td>\n",
              "      <td>0</td>\n",
              "      <td>0</td>\n",
              "      <td>1</td>\n",
              "      <td>1</td>\n",
              "      <td>0</td>\n",
              "      <td>0</td>\n",
              "      <td>0</td>\n",
              "      <td>0</td>\n",
              "      <td>0</td>\n",
              "      <td>1</td>\n",
              "    </tr>\n",
              "    <tr>\n",
              "      <th>156656</th>\n",
              "      <td>34</td>\n",
              "      <td>290000.0</td>\n",
              "      <td>12.0</td>\n",
              "      <td>0</td>\n",
              "      <td>0</td>\n",
              "      <td>0</td>\n",
              "      <td>1</td>\n",
              "      <td>0</td>\n",
              "      <td>0</td>\n",
              "      <td>0</td>\n",
              "      <td>...</td>\n",
              "      <td>0</td>\n",
              "      <td>0</td>\n",
              "      <td>1</td>\n",
              "      <td>1</td>\n",
              "      <td>0</td>\n",
              "      <td>0</td>\n",
              "      <td>0</td>\n",
              "      <td>0</td>\n",
              "      <td>0</td>\n",
              "      <td>1</td>\n",
              "    </tr>\n",
              "    <tr>\n",
              "      <th>33250</th>\n",
              "      <td>55</td>\n",
              "      <td>267000.0</td>\n",
              "      <td>12.0</td>\n",
              "      <td>0</td>\n",
              "      <td>0</td>\n",
              "      <td>0</td>\n",
              "      <td>0</td>\n",
              "      <td>0</td>\n",
              "      <td>0</td>\n",
              "      <td>0</td>\n",
              "      <td>...</td>\n",
              "      <td>0</td>\n",
              "      <td>0</td>\n",
              "      <td>1</td>\n",
              "      <td>1</td>\n",
              "      <td>0</td>\n",
              "      <td>0</td>\n",
              "      <td>0</td>\n",
              "      <td>0</td>\n",
              "      <td>0</td>\n",
              "      <td>1</td>\n",
              "    </tr>\n",
              "    <tr>\n",
              "      <th>125643</th>\n",
              "      <td>48</td>\n",
              "      <td>18459.0</td>\n",
              "      <td>10.0</td>\n",
              "      <td>0</td>\n",
              "      <td>0</td>\n",
              "      <td>0</td>\n",
              "      <td>0</td>\n",
              "      <td>0</td>\n",
              "      <td>0</td>\n",
              "      <td>0</td>\n",
              "      <td>...</td>\n",
              "      <td>0</td>\n",
              "      <td>0</td>\n",
              "      <td>0</td>\n",
              "      <td>0</td>\n",
              "      <td>0</td>\n",
              "      <td>1</td>\n",
              "      <td>0</td>\n",
              "      <td>0</td>\n",
              "      <td>0</td>\n",
              "      <td>1</td>\n",
              "    </tr>\n",
              "    <tr>\n",
              "      <th>109598</th>\n",
              "      <td>70</td>\n",
              "      <td>184997.0</td>\n",
              "      <td>3.0</td>\n",
              "      <td>1</td>\n",
              "      <td>0</td>\n",
              "      <td>0</td>\n",
              "      <td>0</td>\n",
              "      <td>0</td>\n",
              "      <td>0</td>\n",
              "      <td>0</td>\n",
              "      <td>...</td>\n",
              "      <td>0</td>\n",
              "      <td>0</td>\n",
              "      <td>1</td>\n",
              "      <td>1</td>\n",
              "      <td>0</td>\n",
              "      <td>0</td>\n",
              "      <td>0</td>\n",
              "      <td>0</td>\n",
              "      <td>0</td>\n",
              "      <td>1</td>\n",
              "    </tr>\n",
              "  </tbody>\n",
              "</table>\n",
              "<p>5 rows × 28 columns</p>\n",
              "</div>\n",
              "      <button class=\"colab-df-convert\" onclick=\"convertToInteractive('df-82cd5ee4-1d9a-4d32-87e5-cd3fa17464b3')\"\n",
              "              title=\"Convert this dataframe to an interactive table.\"\n",
              "              style=\"display:none;\">\n",
              "        \n",
              "  <svg xmlns=\"http://www.w3.org/2000/svg\" height=\"24px\"viewBox=\"0 0 24 24\"\n",
              "       width=\"24px\">\n",
              "    <path d=\"M0 0h24v24H0V0z\" fill=\"none\"/>\n",
              "    <path d=\"M18.56 5.44l.94 2.06.94-2.06 2.06-.94-2.06-.94-.94-2.06-.94 2.06-2.06.94zm-11 1L8.5 8.5l.94-2.06 2.06-.94-2.06-.94L8.5 2.5l-.94 2.06-2.06.94zm10 10l.94 2.06.94-2.06 2.06-.94-2.06-.94-.94-2.06-.94 2.06-2.06.94z\"/><path d=\"M17.41 7.96l-1.37-1.37c-.4-.4-.92-.59-1.43-.59-.52 0-1.04.2-1.43.59L10.3 9.45l-7.72 7.72c-.78.78-.78 2.05 0 2.83L4 21.41c.39.39.9.59 1.41.59.51 0 1.02-.2 1.41-.59l7.78-7.78 2.81-2.81c.8-.78.8-2.07 0-2.86zM5.41 20L4 18.59l7.72-7.72 1.47 1.35L5.41 20z\"/>\n",
              "  </svg>\n",
              "      </button>\n",
              "      \n",
              "  <style>\n",
              "    .colab-df-container {\n",
              "      display:flex;\n",
              "      flex-wrap:wrap;\n",
              "      gap: 12px;\n",
              "    }\n",
              "\n",
              "    .colab-df-convert {\n",
              "      background-color: #E8F0FE;\n",
              "      border: none;\n",
              "      border-radius: 50%;\n",
              "      cursor: pointer;\n",
              "      display: none;\n",
              "      fill: #1967D2;\n",
              "      height: 32px;\n",
              "      padding: 0 0 0 0;\n",
              "      width: 32px;\n",
              "    }\n",
              "\n",
              "    .colab-df-convert:hover {\n",
              "      background-color: #E2EBFA;\n",
              "      box-shadow: 0px 1px 2px rgba(60, 64, 67, 0.3), 0px 1px 3px 1px rgba(60, 64, 67, 0.15);\n",
              "      fill: #174EA6;\n",
              "    }\n",
              "\n",
              "    [theme=dark] .colab-df-convert {\n",
              "      background-color: #3B4455;\n",
              "      fill: #D2E3FC;\n",
              "    }\n",
              "\n",
              "    [theme=dark] .colab-df-convert:hover {\n",
              "      background-color: #434B5C;\n",
              "      box-shadow: 0px 1px 3px 1px rgba(0, 0, 0, 0.15);\n",
              "      filter: drop-shadow(0px 1px 2px rgba(0, 0, 0, 0.3));\n",
              "      fill: #FFFFFF;\n",
              "    }\n",
              "  </style>\n",
              "\n",
              "      <script>\n",
              "        const buttonEl =\n",
              "          document.querySelector('#df-82cd5ee4-1d9a-4d32-87e5-cd3fa17464b3 button.colab-df-convert');\n",
              "        buttonEl.style.display =\n",
              "          google.colab.kernel.accessAllowed ? 'block' : 'none';\n",
              "\n",
              "        async function convertToInteractive(key) {\n",
              "          const element = document.querySelector('#df-82cd5ee4-1d9a-4d32-87e5-cd3fa17464b3');\n",
              "          const dataTable =\n",
              "            await google.colab.kernel.invokeFunction('convertToInteractive',\n",
              "                                                     [key], {});\n",
              "          if (!dataTable) return;\n",
              "\n",
              "          const docLinkHtml = 'Like what you see? Visit the ' +\n",
              "            '<a target=\"_blank\" href=https://colab.research.google.com/notebooks/data_table.ipynb>data table notebook</a>'\n",
              "            + ' to learn more about interactive tables.';\n",
              "          element.innerHTML = '';\n",
              "          dataTable['output_type'] = 'display_data';\n",
              "          await google.colab.output.renderOutput(dataTable, element);\n",
              "          const docLink = document.createElement('div');\n",
              "          docLink.innerHTML = docLinkHtml;\n",
              "          element.appendChild(docLink);\n",
              "        }\n",
              "      </script>\n",
              "    </div>\n",
              "  </div>\n",
              "  "
            ]
          },
          "metadata": {},
          "execution_count": 101
        }
      ]
    },
    {
      "cell_type": "markdown",
      "source": [
        "+ Debido a la amplia diferencia entre las categorías 'no pobres' y 'pobres', pruebo estratégia de balanceo de datos que entregue mejores resultados y comparo."
      ],
      "metadata": {
        "id": "PMS0XxP7vmyi"
      }
    },
    {
      "cell_type": "markdown",
      "source": [
        "## **Regresión logística** ##"
      ],
      "metadata": {
        "id": "-VmQ9tF-Cogk"
      }
    },
    {
      "cell_type": "code",
      "source": [
        "#Regresión logística sin aplicar estrategia de balanceo.\n",
        "from sklearn.linear_model import LogisticRegression\n",
        "from sklearn.metrics import classification_report\n",
        "logistic_regression= LogisticRegression()\n",
        "logistic_regression.fit(X_train,y_train)\n",
        "y_pred=logistic_regression.predict(X_test)\n",
        "\n",
        "print(classification_report(y_test, y_pred))\n",
        "print('Accuracy en el set de Entrenamiento: {:.2f}'\n",
        "     .format(logistic_regression.score(X_train, y_train)))\n",
        "print('Accuracy en el set de Test: {:.2f}'\n",
        "     .format(logistic_regression.score(X_test, y_test)))\n",
        "print('Recall en el set de Test: {:.2f}'\n",
        "     .format(recall_score(y_test, y_pred)))\n",
        "\n",
        "cm = confusion_matrix(y_test, y_pred)\n",
        "fig, ax = plt.subplots(figsize=(8, 8))\n",
        "ax.imshow(cm)\n",
        "ax.grid(False)\n",
        "ax.xaxis.set(ticks=(0, 1), ticklabels=('Predic. No pobres', 'Predic. Pobres'))\n",
        "ax.yaxis.set(ticks=(0, 1), ticklabels=('No pobres', 'Pobres'))\n",
        "ax.set_ylim(1.5, -0.5)\n",
        "for i in range(2):\n",
        "    for j in range(2):\n",
        "        ax.text(j, i, cm[i, j], ha='center', va='center', color='red')\n",
        "plt.show()"
      ],
      "metadata": {
        "colab": {
          "base_uri": "https://localhost:8080/",
          "height": 835
        },
        "id": "qNG6uJI67dIV",
        "outputId": "fe6682ce-a497-4651-c732-b835e1a774a7"
      },
      "execution_count": null,
      "outputs": [
        {
          "output_type": "stream",
          "name": "stdout",
          "text": [
            "              precision    recall  f1-score   support\n",
            "\n",
            "           0       0.92      1.00      0.96     30526\n",
            "           1       0.00      0.00      0.00      2649\n",
            "\n",
            "    accuracy                           0.92     33175\n",
            "   macro avg       0.46      0.50      0.48     33175\n",
            "weighted avg       0.85      0.92      0.88     33175\n",
            "\n",
            "Accuracy en el set de Entrenamiento: 0.92\n",
            "Accuracy en el set de Test: 0.92\n",
            "Recall en el set de Test: 0.00\n"
          ]
        },
        {
          "output_type": "stream",
          "name": "stderr",
          "text": [
            "/usr/local/lib/python3.7/dist-packages/sklearn/metrics/_classification.py:1318: UndefinedMetricWarning: Precision and F-score are ill-defined and being set to 0.0 in labels with no predicted samples. Use `zero_division` parameter to control this behavior.\n",
            "  _warn_prf(average, modifier, msg_start, len(result))\n",
            "/usr/local/lib/python3.7/dist-packages/sklearn/metrics/_classification.py:1318: UndefinedMetricWarning: Precision and F-score are ill-defined and being set to 0.0 in labels with no predicted samples. Use `zero_division` parameter to control this behavior.\n",
            "  _warn_prf(average, modifier, msg_start, len(result))\n",
            "/usr/local/lib/python3.7/dist-packages/sklearn/metrics/_classification.py:1318: UndefinedMetricWarning: Precision and F-score are ill-defined and being set to 0.0 in labels with no predicted samples. Use `zero_division` parameter to control this behavior.\n",
            "  _warn_prf(average, modifier, msg_start, len(result))\n"
          ]
        },
        {
          "output_type": "display_data",
          "data": {
            "text/plain": [
              "<Figure size 576x576 with 1 Axes>"
            ],
            "image/png": "[encoded data removed]"
          },
          "metadata": {
            "needs_background": "light"
          }
        }
      ]
    },
    {
      "cell_type": "markdown",
      "source": [
        "+ El desbalance se evidencia con el alto valor de 'precisión' de la clase mayoritaria (no pobres) y el valor cero de 'recall' en la clase minoritaria (pobres), la cual es la de interés para el modelo de clasificación. No se considerará el indicador accuracy al no funcionar bien en clases desbalanceadas.\n",
        "+ Se observará que pasa con estratégias de balanceo."
      ],
      "metadata": {
        "id": "8dWMPYFljmxZ"
      }
    },
    {
      "cell_type": "markdown",
      "source": [
        "+ **SMOTE**"
      ],
      "metadata": {
        "id": "1AvFxy_WB9jz"
      }
    },
    {
      "cell_type": "code",
      "source": [
        "from imblearn.over_sampling import RandomOverSampler, SMOTE\n",
        "smote = SMOTE(random_state=0)\n",
        "X_train_smote, y_train_smote= smote.fit_resample(X_train, y_train)\n",
        "print(sorted(Counter(y_train_smote).items()))"
      ],
      "metadata": {
        "colab": {
          "base_uri": "https://localhost:8080/"
        },
        "id": "tO69Jh7X7ee4",
        "outputId": "8f6a832f-0bd8-46ed-847d-90efc9cf2eb2"
      },
      "execution_count": null,
      "outputs": [
        {
          "output_type": "stream",
          "name": "stdout",
          "text": [
            "[(0, 122127), (1, 122127)]\n"
          ]
        }
      ]
    },
    {
      "cell_type": "code",
      "source": [
        "logistic_regression.fit(X_train_smote,y_train_smote)\n",
        "y_pred=logistic_regression.predict(X_test)\n",
        "\n",
        "print(classification_report(y_test, y_pred))\n",
        "print('Recall en el set de Test: {:.2f}'\n",
        "     .format(recall_score(y_test, y_pred)))\n",
        "\n",
        "cm = confusion_matrix(y_test, y_pred)\n",
        "fig, ax = plt.subplots(figsize=(8, 8))\n",
        "ax.imshow(cm)\n",
        "ax.grid(False)\n",
        "ax.xaxis.set(ticks=(0, 1), ticklabels=('Predic. No pobres', 'Predic. Pobres'))\n",
        "ax.yaxis.set(ticks=(0, 1), ticklabels=('No pobres', 'Pobres'))\n",
        "ax.set_ylim(1.5, -0.5)\n",
        "for i in range(2):\n",
        "    for j in range(2):\n",
        "        ax.text(j, i, cm[i, j], ha='center', va='center', color='red')\n",
        "plt.show()"
      ],
      "metadata": {
        "colab": {
          "base_uri": "https://localhost:8080/",
          "height": 798
        },
        "id": "igsc2Gd78oYH",
        "outputId": "85914cba-fd15-4784-a41e-616d88c1f693"
      },
      "execution_count": null,
      "outputs": [
        {
          "output_type": "stream",
          "name": "stdout",
          "text": [
            "              precision    recall  f1-score   support\n",
            "\n",
            "           0       0.92      1.00      0.96     30526\n",
            "           1       0.00      0.00      0.00      2649\n",
            "\n",
            "    accuracy                           0.92     33175\n",
            "   macro avg       0.46      0.50      0.48     33175\n",
            "weighted avg       0.85      0.92      0.88     33175\n",
            "\n",
            "Recall en el set de Test: 0.00\n"
          ]
        },
        {
          "output_type": "stream",
          "name": "stderr",
          "text": [
            "/usr/local/lib/python3.7/dist-packages/sklearn/metrics/_classification.py:1318: UndefinedMetricWarning: Precision and F-score are ill-defined and being set to 0.0 in labels with no predicted samples. Use `zero_division` parameter to control this behavior.\n",
            "  _warn_prf(average, modifier, msg_start, len(result))\n",
            "/usr/local/lib/python3.7/dist-packages/sklearn/metrics/_classification.py:1318: UndefinedMetricWarning: Precision and F-score are ill-defined and being set to 0.0 in labels with no predicted samples. Use `zero_division` parameter to control this behavior.\n",
            "  _warn_prf(average, modifier, msg_start, len(result))\n",
            "/usr/local/lib/python3.7/dist-packages/sklearn/metrics/_classification.py:1318: UndefinedMetricWarning: Precision and F-score are ill-defined and being set to 0.0 in labels with no predicted samples. Use `zero_division` parameter to control this behavior.\n",
            "  _warn_prf(average, modifier, msg_start, len(result))\n"
          ]
        },
        {
          "output_type": "display_data",
          "data": {
            "text/plain": [
              "<Figure size 576x576 with 1 Axes>"
            ],
            "image/png": "[encoded data removed]"
          },
          "metadata": {
            "needs_background": "light"
          }
        }
      ]
    },
    {
      "cell_type": "markdown",
      "source": [
        "+ **Under Sampler**"
      ],
      "metadata": {
        "id": "bSdfHI23B5VB"
      }
    },
    {
      "cell_type": "code",
      "source": [
        "from imblearn.under_sampling import RandomUnderSampler\n",
        "from collections import Counter\n",
        "rus = RandomUnderSampler(random_state=42)\n",
        "X_train_rus, y_train_rus= rus.fit_resample(X_train, y_train)\n",
        "print(sorted(Counter(y_train_rus).items()))"
      ],
      "metadata": {
        "colab": {
          "base_uri": "https://localhost:8080/"
        },
        "id": "3XMrsUSq7en8",
        "outputId": "15f49fe5-4ddc-43e6-b3d2-2431edc42f73"
      },
      "execution_count": null,
      "outputs": [
        {
          "output_type": "stream",
          "name": "stdout",
          "text": [
            "[(0, 10570), (1, 10570)]\n"
          ]
        }
      ]
    },
    {
      "cell_type": "code",
      "source": [
        "#Regresión logística con Under Sampler\n",
        "logistic_regression.fit(X_train_rus,y_train_rus)\n",
        "y_pred=logistic_regression.predict(X_test)\n",
        "\n",
        "print(classification_report(y_test, y_pred))\n",
        "print(confusion_matrix(y_test, y_pred))\n",
        "\n",
        "print('Recall en el set de Test: {:.2f}'\n",
        "     .format(recall_score(y_test, y_pred)))\n",
        "\n",
        "cm = confusion_matrix(y_test, y_pred)\n",
        "fig, ax = plt.subplots(figsize=(8, 8))\n",
        "ax.imshow(cm)\n",
        "ax.grid(False)\n",
        "ax.xaxis.set(ticks=(0, 1), ticklabels=('Predic. No pobres', 'Predic. Pobres'))\n",
        "ax.yaxis.set(ticks=(0, 1), ticklabels=('No pobres', 'Pobres'))\n",
        "ax.set_ylim(1.5, -0.5)\n",
        "for i in range(2):\n",
        "    for j in range(2):\n",
        "        ax.text(j, i, cm[i, j], ha='center', va='center', color='red')\n",
        "plt.show()"
      ],
      "metadata": {
        "colab": {
          "base_uri": "https://localhost:8080/",
          "height": 704
        },
        "id": "01cg094n81kw",
        "outputId": "050ba2bd-f37d-4208-e505-88c0f536bae3"
      },
      "execution_count": null,
      "outputs": [
        {
          "output_type": "stream",
          "name": "stdout",
          "text": [
            "              precision    recall  f1-score   support\n",
            "\n",
            "           0       0.94      0.72      0.82     30526\n",
            "           1       0.13      0.48      0.20      2649\n",
            "\n",
            "    accuracy                           0.70     33175\n",
            "   macro avg       0.54      0.60      0.51     33175\n",
            "weighted avg       0.88      0.70      0.77     33175\n",
            "\n",
            "[[21985  8541]\n",
            " [ 1372  1277]]\n",
            "Recall en el set de Test: 0.48\n"
          ]
        },
        {
          "output_type": "display_data",
          "data": {
            "text/plain": [
              "<Figure size 576x576 with 1 Axes>"
            ],
            "image/png": "[encoded data removed]"
          },
          "metadata": {
            "needs_background": "light"
          }
        }
      ]
    },
    {
      "cell_type": "markdown",
      "source": [
        "+ **Cross validation**"
      ],
      "metadata": {
        "id": "MI7QRq3uzPYl"
      }
    },
    {
      "cell_type": "code",
      "source": [
        "from sklearn.metrics import recall_score\n",
        "from sklearn.model_selection import cross_val_score\n",
        "\n",
        "cross_val_score(logistic_regression, X_train_rus, y_train_rus, cv=10, scoring='recall')\n"
      ],
      "metadata": {
        "colab": {
          "base_uri": "https://localhost:8080/"
        },
        "id": "UKCBjQbR0mnY",
        "outputId": "bc1c06b7-3162-494c-cc70-941b53d4d117"
      },
      "execution_count": null,
      "outputs": [
        {
          "output_type": "execute_result",
          "data": {
            "text/plain": [
              "array([0.4910123 , 0.4910123 , 0.        , 0.        , 0.        ,\n",
              "       0.47965941, 0.49763482, 0.47209082, 0.        , 0.        ])"
            ]
          },
          "metadata": {},
          "execution_count": 44
        }
      ]
    },
    {
      "cell_type": "markdown",
      "source": [
        "Recall observado y el obtenido con cross validation"
      ],
      "metadata": {
        "id": "jGzia9GG7mn2"
      }
    },
    {
      "cell_type": "markdown",
      "source": [
        "+ **Over Sampler**"
      ],
      "metadata": {
        "id": "8ymIEyIoCGNH"
      }
    },
    {
      "cell_type": "code",
      "source": [
        "from imblearn.over_sampling import RandomOverSampler\n",
        "from collections import Counter\n",
        "ros = RandomOverSampler(random_state=2)\n",
        "X_train_ros, y_train_ros= ros.fit_resample(X_train, y_train)\n",
        "print(sorted(Counter(y_train_ros).items()))"
      ],
      "metadata": {
        "colab": {
          "base_uri": "https://localhost:8080/"
        },
        "id": "1BWZLnaA9GZ_",
        "outputId": "300ed808-c325-4e23-b257-74d97e64b800"
      },
      "execution_count": null,
      "outputs": [
        {
          "output_type": "stream",
          "name": "stdout",
          "text": [
            "[(0, 122127), (1, 122127)]\n"
          ]
        }
      ]
    },
    {
      "cell_type": "code",
      "source": [
        "logistic_regression.fit(X_train_ros,y_train_ros)\n",
        "y_pred=logistic_regression.predict(X_test)\n",
        "\n",
        "print(classification_report(y_test, y_pred))\n",
        "print(confusion_matrix(y_test, y_pred))\n",
        "\n",
        "\n",
        "print('Recall en el set de Test: {:.2f}'\n",
        "     .format(recall_score(y_test, y_pred)))\n",
        "\n",
        "cm = confusion_matrix(y_test, y_pred)\n",
        "fig, ax = plt.subplots(figsize=(8, 8))\n",
        "ax.imshow(cm)\n",
        "ax.grid(False)\n",
        "ax.xaxis.set(ticks=(0, 1), ticklabels=('Predic. No pobres', 'Predic. Pobres'))\n",
        "ax.yaxis.set(ticks=(0, 1), ticklabels=('No pobres', 'Pobres'))\n",
        "ax.set_ylim(1.5, -0.5)\n",
        "for i in range(2):\n",
        "    for j in range(2):\n",
        "        ax.text(j, i, cm[i, j], ha='center', va='center', color='red')\n",
        "plt.show()"
      ],
      "metadata": {
        "colab": {
          "base_uri": "https://localhost:8080/",
          "height": 835
        },
        "id": "Xdc4bohq9O17",
        "outputId": "44416089-4d71-418e-c6bc-c59cd1a6230b"
      },
      "execution_count": null,
      "outputs": [
        {
          "output_type": "stream",
          "name": "stdout",
          "text": [
            "              precision    recall  f1-score   support\n",
            "\n",
            "           0       0.92      1.00      0.96     30526\n",
            "           1       0.00      0.00      0.00      2649\n",
            "\n",
            "    accuracy                           0.92     33175\n",
            "   macro avg       0.46      0.50      0.48     33175\n",
            "weighted avg       0.85      0.92      0.88     33175\n",
            "\n",
            "[[30526     0]\n",
            " [ 2649     0]]\n",
            "Recall en el set de Test: 0.00\n"
          ]
        },
        {
          "output_type": "stream",
          "name": "stderr",
          "text": [
            "/usr/local/lib/python3.7/dist-packages/sklearn/metrics/_classification.py:1318: UndefinedMetricWarning: Precision and F-score are ill-defined and being set to 0.0 in labels with no predicted samples. Use `zero_division` parameter to control this behavior.\n",
            "  _warn_prf(average, modifier, msg_start, len(result))\n",
            "/usr/local/lib/python3.7/dist-packages/sklearn/metrics/_classification.py:1318: UndefinedMetricWarning: Precision and F-score are ill-defined and being set to 0.0 in labels with no predicted samples. Use `zero_division` parameter to control this behavior.\n",
            "  _warn_prf(average, modifier, msg_start, len(result))\n",
            "/usr/local/lib/python3.7/dist-packages/sklearn/metrics/_classification.py:1318: UndefinedMetricWarning: Precision and F-score are ill-defined and being set to 0.0 in labels with no predicted samples. Use `zero_division` parameter to control this behavior.\n",
            "  _warn_prf(average, modifier, msg_start, len(result))\n"
          ]
        },
        {
          "output_type": "display_data",
          "data": {
            "text/plain": [
              "<Figure size 576x576 with 1 Axes>"
            ],
            "image/png": "[encoded data removed]"
          },
          "metadata": {
            "needs_background": "light"
          }
        }
      ]
    },
    {
      "cell_type": "markdown",
      "source": [
        "## **Naives Bayes** ##\n",
        "\n"
      ],
      "metadata": {
        "id": "or0eeSPDDr60"
      }
    },
    {
      "cell_type": "code",
      "source": [
        "#Naives Bayes con balanceo Over Sampler\n",
        "\n",
        "from sklearn.naive_bayes import GaussianNB\n",
        "gnb = GaussianNB()\n",
        "gnb.fit(X_train_ros,y_train_ros)\n",
        "y_pred = gnb.predict(X_test)\n",
        "\n",
        "print(classification_report(y_test, y_pred))\n",
        "print(confusion_matrix(y_test, y_pred))\n",
        "\n",
        "print('Recall en el set de Test: {:.2f}'\n",
        "     .format(recall_score(y_test, y_pred)))\n",
        "\n",
        "cm = confusion_matrix(y_test, y_pred)\n",
        "fig, ax = plt.subplots(figsize=(8, 8))\n",
        "ax.imshow(cm)\n",
        "ax.grid(False)\n",
        "ax.xaxis.set(ticks=(0, 1), ticklabels=('Predic. No pobres', 'Predic. Pobres'))\n",
        "ax.yaxis.set(ticks=(0, 1), ticklabels=('No pobres', 'Pobres'))\n",
        "ax.set_ylim(1.5, -0.5)\n",
        "for i in range(2):\n",
        "    for j in range(2):\n",
        "        ax.text(j, i, cm[i, j], ha='center', va='center', color='red')\n",
        "plt.show()"
      ],
      "metadata": {
        "colab": {
          "base_uri": "https://localhost:8080/",
          "height": 704
        },
        "id": "Pg2p4Bd4pRJa",
        "outputId": "61a2274e-79ab-4d90-97c1-e887ffa5a057"
      },
      "execution_count": null,
      "outputs": [
        {
          "output_type": "stream",
          "name": "stdout",
          "text": [
            "              precision    recall  f1-score   support\n",
            "\n",
            "           0       1.00      0.27      0.43     30526\n",
            "           1       0.11      0.99      0.19      2649\n",
            "\n",
            "    accuracy                           0.33     33175\n",
            "   macro avg       0.55      0.63      0.31     33175\n",
            "weighted avg       0.93      0.33      0.41     33175\n",
            "\n",
            "[[ 8325 22201]\n",
            " [   21  2628]]\n",
            "Recall en el set de Test: 0.99\n"
          ]
        },
        {
          "output_type": "display_data",
          "data": {
            "text/plain": [
              "<Figure size 576x576 with 1 Axes>"
            ],
            "image/png": "[encoded data removed]"
          },
          "metadata": {
            "needs_background": "light"
          }
        }
      ]
    },
    {
      "cell_type": "markdown",
      "source": [
        "+ Cross validation Naives bayes con over sampling"
      ],
      "metadata": {
        "id": "fwBtX86_zgrE"
      }
    },
    {
      "cell_type": "code",
      "source": [
        "from sklearn.metrics import recall_score\n",
        "from sklearn.model_selection import cross_val_score\n",
        "\n",
        "cross_val_score(gnb, X_train_ros, y_train_ros, cv=10, scoring='recall')"
      ],
      "metadata": {
        "colab": {
          "base_uri": "https://localhost:8080/"
        },
        "id": "BUVJJZC8zp2N",
        "outputId": "f095a314-41cf-4e44-e30b-d7065fd01025"
      },
      "execution_count": null,
      "outputs": [
        {
          "output_type": "execute_result",
          "data": {
            "text/plain": [
              "array([0.99451404, 0.99484156, 0.99328584, 0.99418652, 0.99410416,\n",
              "       0.99459548, 0.99451359, 0.99418652, 0.99435028, 0.99443216])"
            ]
          },
          "metadata": {},
          "execution_count": 168
        }
      ]
    },
    {
      "cell_type": "code",
      "source": [
        "from sklearn.metrics import recall_score\n",
        "from sklearn.model_selection import cross_val_predict\n",
        "\n",
        "y_train_pred = cross_val_predict(gnb, X_train_ros, y_train_ros, cv=3)\n",
        "recall_score(y_train_ros, y_train_pred)"
      ],
      "metadata": {
        "colab": {
          "base_uri": "https://localhost:8080/"
        },
        "id": "kiMzAC9xxO51",
        "outputId": "48b98eb3-2ff5-4513-ca1b-0c3371160b19"
      },
      "execution_count": null,
      "outputs": [
        {
          "output_type": "execute_result",
          "data": {
            "text/plain": [
              "0.994382896492995"
            ]
          },
          "metadata": {},
          "execution_count": 169
        }
      ]
    },
    {
      "cell_type": "code",
      "source": [
        "#Naives Bayes con balanceo Under Sampler\n",
        "\n",
        "from sklearn.naive_bayes import GaussianNB\n",
        "gnb = GaussianNB()\n",
        "gnb.fit(X_train_rus,y_train_rus)\n",
        "y_pred = gnb.predict(X_test)\n",
        "\n",
        "print(classification_report(y_test, y_pred))\n",
        "print(confusion_matrix(y_test, y_pred))\n",
        "\n",
        "print('Recall en el set de Test: {:.2f}'\n",
        "     .format(recall_score(y_test, y_pred)))\n",
        "\n",
        "confusion_matrix(y_test, y_pred)\n",
        "cm = confusion_matrix(y_test, y_pred)\n",
        "fig, ax = plt.subplots(figsize=(8, 8))\n",
        "ax.imshow(cm)\n",
        "ax.grid(False)\n",
        "ax.xaxis.set(ticks=(0, 1), ticklabels=('Predic. No pobres', 'Predic. Pobres'))\n",
        "ax.yaxis.set(ticks=(0, 1), ticklabels=('No pobres', 'Pobres'))\n",
        "ax.set_ylim(1.5, -0.5)\n",
        "for i in range(2):\n",
        "    for j in range(2):\n",
        "        ax.text(j, i, cm[i, j], ha='center', va='center', color='red')\n",
        "plt.show()"
      ],
      "metadata": {
        "colab": {
          "base_uri": "https://localhost:8080/",
          "height": 704
        },
        "id": "IgmZXGla-foR",
        "outputId": "c92a26c6-4509-433d-82ec-47142eaa1260"
      },
      "execution_count": null,
      "outputs": [
        {
          "output_type": "stream",
          "name": "stdout",
          "text": [
            "              precision    recall  f1-score   support\n",
            "\n",
            "           0       1.00      0.28      0.44     30526\n",
            "           1       0.11      0.99      0.19      2649\n",
            "\n",
            "    accuracy                           0.34     33175\n",
            "   macro avg       0.55      0.63      0.31     33175\n",
            "weighted avg       0.93      0.34      0.42     33175\n",
            "\n",
            "[[ 8506 22020]\n",
            " [   24  2625]]\n",
            "Recall en el set de Test: 0.99\n"
          ]
        },
        {
          "output_type": "display_data",
          "data": {
            "text/plain": [
              "<Figure size 576x576 with 1 Axes>"
            ],
            "image/png": "[encoded data removed]"
          },
          "metadata": {
            "needs_background": "light"
          }
        }
      ]
    },
    {
      "cell_type": "code",
      "source": [
        "#Naives Bayes con balanceo Smote\n",
        "\n",
        "from sklearn.naive_bayes import GaussianNB\n",
        "gnb = GaussianNB()\n",
        "gnb.fit(X_train_smote,y_train_smote)\n",
        "y_pred = gnb.predict(X_test)\n",
        "\n",
        "print(classification_report(y_test, y_pred))\n",
        "print(confusion_matrix(y_test, y_pred))\n",
        "\n",
        "print('Recall en el set de Test: {:.2f}'\n",
        "     .format(recall_score(y_test, y_pred)))\n",
        "\n",
        "cm = confusion_matrix(y_test, y_pred)\n",
        "fig, ax = plt.subplots(figsize=(8, 8))\n",
        "ax.imshow(cm)\n",
        "ax.grid(False)\n",
        "ax.xaxis.set(ticks=(0, 1), ticklabels=('Predic. No pobres', 'Predic. Pobres'))\n",
        "ax.yaxis.set(ticks=(0, 1), ticklabels=('No pobres', 'Pobres'))\n",
        "ax.set_ylim(1.5, -0.5)\n",
        "for i in range(2):\n",
        "    for j in range(2):\n",
        "        ax.text(j, i, cm[i, j], ha='center', va='center', color='red')\n",
        "plt.show()"
      ],
      "metadata": {
        "colab": {
          "base_uri": "https://localhost:8080/",
          "height": 704
        },
        "id": "_tQThT0WQA3i",
        "outputId": "d1e10704-f1f6-4930-e251-c09fb04bb0ea"
      },
      "execution_count": null,
      "outputs": [
        {
          "output_type": "stream",
          "name": "stdout",
          "text": [
            "              precision    recall  f1-score   support\n",
            "\n",
            "           0       1.00      0.27      0.43     30526\n",
            "           1       0.11      0.99      0.19      2649\n",
            "\n",
            "    accuracy                           0.33     33175\n",
            "   macro avg       0.55      0.63      0.31     33175\n",
            "weighted avg       0.93      0.33      0.41     33175\n",
            "\n",
            "[[ 8305 22221]\n",
            " [   20  2629]]\n",
            "Recall en el set de Test: 0.99\n"
          ]
        },
        {
          "output_type": "display_data",
          "data": {
            "text/plain": [
              "<Figure size 576x576 with 1 Axes>"
            ],
            "image/png": "[encoded data removed]"
          },
          "metadata": {
            "needs_background": "light"
          }
        }
      ]
    },
    {
      "cell_type": "markdown",
      "source": [
        "+ Cross validation Naives Bayes con smote"
      ],
      "metadata": {
        "id": "vn6JqJ6VzZgy"
      }
    },
    {
      "cell_type": "code",
      "source": [
        "from sklearn.metrics import recall_score\n",
        "from sklearn.model_selection import cross_val_score\n",
        "cross_val_score(gnb, X_train_smote, y_train_smote, cv=10, scoring='recall')"
      ],
      "metadata": {
        "colab": {
          "base_uri": "https://localhost:8080/"
        },
        "id": "GFhmCVs_y3sg",
        "outputId": "1809c47c-586d-4a40-d240-f66ce1e66f31"
      },
      "execution_count": null,
      "outputs": [
        {
          "output_type": "execute_result",
          "data": {
            "text/plain": [
              "array([0.9946778 , 0.99459592, 0.995906  , 0.99492344, 0.99377661,\n",
              "       0.99574189, 0.99418605, 0.99475968, 0.99492344, 0.99557848])"
            ]
          },
          "metadata": {},
          "execution_count": 176
        }
      ]
    },
    {
      "cell_type": "code",
      "source": [
        "from sklearn.metrics import recall_score\n",
        "from sklearn.model_selection import cross_val_predict\n",
        "\n",
        "y_train_pred = cross_val_predict(gnb, X_train_smote, y_train_smote, cv=3)\n",
        "recall_score(y_train_ros, y_train_pred)"
      ],
      "metadata": {
        "colab": {
          "base_uri": "https://localhost:8080/"
        },
        "id": "O0c29IhXzCFV",
        "outputId": "d165c91b-b3b3-48a0-f894-fe8590fc70b0"
      },
      "execution_count": null,
      "outputs": [
        {
          "output_type": "execute_result",
          "data": {
            "text/plain": [
              "0.9949478821227083"
            ]
          },
          "metadata": {},
          "execution_count": 177
        }
      ]
    },
    {
      "cell_type": "markdown",
      "source": [
        "* El modelo con Naives Bayes obtiene una alta capacidad de clasificar a los verdaderos positivos clase 2, pero posee una presición muy baja lo cual indica que se clasifican una gran cantidad de 'no pobres' como 'pobres', es decir falsos positivos. El f1-score estuvo muy bajo en los tres modelos con balanceos diferentes con un valor de 19%."
      ],
      "metadata": {
        "id": "wI_LvcXfzwjb"
      }
    },
    {
      "cell_type": "markdown",
      "source": [
        "## **Decision Tree Classifier** ##"
      ],
      "metadata": {
        "id": "q67UIJlZLqUs"
      }
    },
    {
      "cell_type": "code",
      "source": [
        "#Árbol de decisiones con balanceo Smote\n",
        "\n",
        "from sklearn.tree import DecisionTreeClassifier\n",
        "tree_class = DecisionTreeClassifier(random_state=1).fit(X_train_smote,y_train_smote)\n",
        "y_pred = tree_class.predict(X_test)\n",
        "\n",
        "print(classification_report(y_test, y_pred))\n",
        "print(confusion_matrix(y_test, y_pred))\n",
        "\n",
        "print('Recall en el set de Test: {:.2f}'\n",
        "     .format(recall_score(y_test, y_pred)))\n",
        "\n",
        "cm = confusion_matrix(y_test, y_pred)\n",
        "fig, ax = plt.subplots(figsize=(8, 8))\n",
        "ax.imshow(cm)\n",
        "ax.grid(False)\n",
        "ax.xaxis.set(ticks=(0, 1), ticklabels=('Predic. No pobres', 'Predic. Pobres'))\n",
        "ax.yaxis.set(ticks=(0, 1), ticklabels=('No pobres', 'Pobres'))\n",
        "ax.set_ylim(1.5, -0.5)\n",
        "for i in range(2):\n",
        "    for j in range(2):\n",
        "        ax.text(j, i, cm[i, j], ha='center', va='center', color='red')\n",
        "plt.show()"
      ],
      "metadata": {
        "colab": {
          "base_uri": "https://localhost:8080/",
          "height": 704
        },
        "id": "pVpJXvDbEw1C",
        "outputId": "e19e6806-76eb-44c3-b789-298ed83acf77"
      },
      "execution_count": null,
      "outputs": [
        {
          "output_type": "stream",
          "name": "stdout",
          "text": [
            "              precision    recall  f1-score   support\n",
            "\n",
            "           0       0.93      0.90      0.92     30526\n",
            "           1       0.19      0.27      0.22      2649\n",
            "\n",
            "    accuracy                           0.85     33175\n",
            "   macro avg       0.56      0.59      0.57     33175\n",
            "weighted avg       0.87      0.85      0.86     33175\n",
            "\n",
            "[[27512  3014]\n",
            " [ 1937   712]]\n",
            "Recall en el set de Test: 0.27\n"
          ]
        },
        {
          "output_type": "display_data",
          "data": {
            "text/plain": [
              "<Figure size 576x576 with 1 Axes>"
            ],
            "image/png": "[encoded data removed]"
          },
          "metadata": {
            "needs_background": "light"
          }
        }
      ]
    },
    {
      "cell_type": "code",
      "source": [
        "from sklearn.metrics import recall_score\n",
        "from sklearn.model_selection import cross_val_score\n",
        "\n",
        "cross_val_score(tree_class, X_train, y_train, cv=3, scoring='recall')\n",
        "\n",
        "from sklearn.metrics import recall_score\n",
        "\n",
        "y_train_pred = cross_val_predict(tree_class, X_train, y_train, cv=3)\n",
        "recall_score(y_train, y_train_pred)"
      ],
      "metadata": {
        "id": "idPRL0Knzziw"
      },
      "execution_count": null,
      "outputs": []
    },
    {
      "cell_type": "code",
      "source": [
        "#Árbol de decisiones con balanceo Under sampling\n",
        "\n",
        "from sklearn.tree import DecisionTreeClassifier\n",
        "tree_class = DecisionTreeClassifier(random_state=1).fit(X_train_rus,y_train_rus)\n",
        "y_pred = tree_class.predict(X_test)\n",
        "\n",
        "print(classification_report(y_test, y_pred))\n",
        "print(confusion_matrix(y_test, y_pred))\n",
        "\n",
        "print('Recall en el set de Test: {:.2f}'\n",
        "     .format(recall_score(y_test, y_pred)))\n",
        "\n",
        "cm = confusion_matrix(y_test, y_pred)\n",
        "fig, ax = plt.subplots(figsize=(8, 8))\n",
        "ax.imshow(cm)\n",
        "ax.grid(False)\n",
        "ax.xaxis.set(ticks=(0, 1), ticklabels=('Predic. No pobres', 'Predic. Pobres'))\n",
        "ax.yaxis.set(ticks=(0, 1), ticklabels=('No pobres', 'Pobres'))\n",
        "ax.set_ylim(1.5, -0.5)\n",
        "for i in range(2):\n",
        "    for j in range(2):\n",
        "        ax.text(j, i, cm[i, j], ha='center', va='center', color='red')\n",
        "plt.show()"
      ],
      "metadata": {
        "colab": {
          "base_uri": "https://localhost:8080/",
          "height": 704
        },
        "id": "kMGKEzG14AwO",
        "outputId": "938c5289-d8f6-4cec-b065-dabdfe37fde9"
      },
      "execution_count": null,
      "outputs": [
        {
          "output_type": "stream",
          "name": "stdout",
          "text": [
            "              precision    recall  f1-score   support\n",
            "\n",
            "           0       0.96      0.68      0.80     30526\n",
            "           1       0.15      0.66      0.25      2649\n",
            "\n",
            "    accuracy                           0.68     33175\n",
            "   macro avg       0.56      0.67      0.52     33175\n",
            "weighted avg       0.89      0.68      0.75     33175\n",
            "\n",
            "[[20840  9686]\n",
            " [  894  1755]]\n",
            "Recall en el set de Test: 0.66\n"
          ]
        },
        {
          "output_type": "display_data",
          "data": {
            "text/plain": [
              "<Figure size 576x576 with 1 Axes>"
            ],
            "image/png": "[encoded data removed]"
          },
          "metadata": {
            "needs_background": "light"
          }
        }
      ]
    },
    {
      "cell_type": "markdown",
      "source": [
        "+ Cross validation Decision Tree con balanceo Under sampling"
      ],
      "metadata": {
        "id": "kHiZlKIU2yEt"
      }
    },
    {
      "cell_type": "code",
      "source": [
        "from sklearn.metrics import recall_score\n",
        "from sklearn.model_selection import cross_val_score\n",
        "\n",
        "cross_val_score(tree_class, X_train_rus, y_train_rus, cv=10, scoring='recall')"
      ],
      "metadata": {
        "colab": {
          "base_uri": "https://localhost:8080/"
        },
        "id": "yZEUcPsVz0kM",
        "outputId": "837fec93-15a2-44cc-eb08-1dac62805710"
      },
      "execution_count": null,
      "outputs": [
        {
          "output_type": "execute_result",
          "data": {
            "text/plain": [
              "array([0.66225166, 0.69441816, 0.63859981, 0.66982025, 0.64900662,\n",
              "       0.67076632, 0.65657521, 0.67171239, 0.63292337, 0.63859981])"
            ]
          },
          "metadata": {},
          "execution_count": 189
        }
      ]
    },
    {
      "cell_type": "code",
      "source": [
        "from sklearn.metrics import recall_score\n",
        "from sklearn.model_selection import cross_val_predict\n",
        "\n",
        "y_train_pred = cross_val_predict(tree_class, X_train_rus, y_train_rus, cv=3)\n",
        "recall_score(y_train_rus, y_train_pred)"
      ],
      "metadata": {
        "colab": {
          "base_uri": "https://localhost:8080/"
        },
        "id": "3rRpvvgt25uN",
        "outputId": "ea4f34c8-c870-4630-ecc6-bd2a6d9dcd84"
      },
      "execution_count": null,
      "outputs": [
        {
          "output_type": "execute_result",
          "data": {
            "text/plain": [
              "0.6579943235572374"
            ]
          },
          "metadata": {},
          "execution_count": 191
        }
      ]
    },
    {
      "cell_type": "code",
      "source": [
        "#Árbol de decisiones con balanceo Over Sampling\n",
        "\n",
        "from sklearn.tree import DecisionTreeClassifier\n",
        "tree_class = DecisionTreeClassifier(random_state=1).fit(X_train_ros,y_train_ros)\n",
        "y_pred = tree_class.predict(X_test)\n",
        "\n",
        "print(classification_report(y_test, y_pred))\n",
        "print(confusion_matrix(y_test, y_pred))\n",
        "\n",
        "print('Recall en el set de Test: {:.2f}'\n",
        "     .format(recall_score(y_test, y_pred)))\n",
        "\n",
        "cm = confusion_matrix(y_test, y_pred)\n",
        "fig, ax = plt.subplots(figsize=(8, 8))\n",
        "ax.imshow(cm)\n",
        "ax.grid(False)\n",
        "ax.xaxis.set(ticks=(0, 1), ticklabels=('Predic. No pobres', 'Predic. Pobres'))\n",
        "ax.yaxis.set(ticks=(0, 1), ticklabels=('No pobres', 'Pobres'))\n",
        "ax.set_ylim(1.5, -0.5)\n",
        "for i in range(2):\n",
        "    for j in range(2):\n",
        "        ax.text(j, i, cm[i, j], ha='center', va='center', color='red')\n",
        "plt.show()"
      ],
      "metadata": {
        "colab": {
          "base_uri": "https://localhost:8080/",
          "height": 704
        },
        "id": "Gk_5l2w14J06",
        "outputId": "4d4fdcce-d22c-4727-cdaf-228cccc852ff"
      },
      "execution_count": null,
      "outputs": [
        {
          "output_type": "stream",
          "name": "stdout",
          "text": [
            "              precision    recall  f1-score   support\n",
            "\n",
            "           0       0.93      0.89      0.91     30526\n",
            "           1       0.18      0.27      0.21      2649\n",
            "\n",
            "    accuracy                           0.84     33175\n",
            "   macro avg       0.56      0.58      0.56     33175\n",
            "weighted avg       0.87      0.84      0.86     33175\n",
            "\n",
            "[[27243  3283]\n",
            " [ 1940   709]]\n",
            "Recall en el set de Test: 0.27\n"
          ]
        },
        {
          "output_type": "display_data",
          "data": {
            "text/plain": [
              "<Figure size 576x576 with 1 Axes>"
            ],
            "image/png": "[encoded data removed]"
          },
          "metadata": {
            "needs_background": "light"
          }
        }
      ]
    },
    {
      "cell_type": "markdown",
      "source": [
        "+ Con desicion tree, el mejor modelo predictivo de la clase 2 de verdaderos positivos, es decir pobres corretamente predicho como tales, se da con la estrategia Under sampling de balanceo. Da un recall de 66% y f1-score de 25%."
      ],
      "metadata": {
        "id": "ttGPMZa5xHYn"
      }
    },
    {
      "cell_type": "markdown",
      "source": [
        "## Conclusiones ##\n",
        "\n",
        "De los modelos analizados se extrae que hay grandes variaciones al momento de clasificar a los encuestados como 'pobres' cuando realmente lo son. En regresión logística se obtuvo un 48% de recall con al menos 8541 casos falsos positivos(no pobres clasificados como pobres). En Naives Bayes se obtuvo un alto recall con 99% pero una gran cantidad de falsos positivos, si se tratara sólo de clasificar a os pobres el modelo funcionaria mejor que la regresión logpistica. Con decision tree, con balanceo tipo Under Sampling, se obtuvo un recall de 66% y un nivel de falsos positivos menor que en Naives Bayes, pero en general una leve capacidad de clasificar de manera correcta a los casos de pobres. Se podría considerar mejorar la base de datos u optar por decision tree en caso de que sea importante considerar un valor no tan alto de falsos positivos, es decir, es el modelo más balanceado en este nivel de análisis."
      ],
      "metadata": {
        "id": "XuXSCXZr41zP"
      }
    }
  ]
}